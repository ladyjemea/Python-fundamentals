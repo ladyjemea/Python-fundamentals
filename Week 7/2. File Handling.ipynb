{
 "cells": [
  {
   "cell_type": "markdown",
   "id": "cdbd4722",
   "metadata": {},
   "source": [
    "<img src=\"LaeCodes.png\" \n",
    "align=\"center\" \n",
    "width=\"100\" />"
   ]
  },
  {
   "cell_type": "markdown",
   "id": "c3c80ded",
   "metadata": {},
   "source": [
    "# Python file handling:\n",
    "\n",
    "File handling involves working with files on the file system. This includes tasks such as reading from files, writing to files, performing operations like creating, modifying and deleting files.\n",
    "\n",
    "\n",
    "#### Basic file Operations:\n",
    "\n",
    "1. **Opening a file:**\n",
    "<br>\n",
    "The ’open()’ function is used to open a file before working with it. <br>\n",
    "- Syntax: open(filename, mode) <br>\n",
    "Filename: the name of the file to be opened <br>\n",
    "Mode: Specifies the purpose of opening the file. <br>\n",
    "\n",
    "The four different modes include: <br>\n",
    "‘r’ – Read – Default value. Opens a file for reading, error if the file does not exist. <br>\n",
    "‘a’ – Append – Opens a file for appending, creates the file if it does not exist. <br>\n",
    "‘w’ – Write – Opens a file for writing, creates the file if it does not exist. <br>\n",
    "‘x’ – Create – Creates the specified file, returns an error if the file exists.<br> \n",
    "‘r+’ - For both reading and writing. <br><br>\n",
    "\n",
    "**Example:**"
   ]
  },
  {
   "cell_type": "code",
   "execution_count": 1,
   "id": "0d4da8b7",
   "metadata": {},
   "outputs": [],
   "source": [
    "file = open('example.txt', 'r')"
   ]
  },
  {
   "cell_type": "markdown",
   "id": "d3767f58",
   "metadata": {},
   "source": [
    "2. **Reading from a file:**\n",
    "<br>\n",
    "Once a file is opened for reading, you can read its contents using methods like read(), readline() or readlines(). <br>\n",
    "- Read(): Reads the entire file <br>\n",
    "- Read(size): Reads a specified number of characters from the file <br>\n",
    "- Readline(): Reads a single line from the file <br>\n",
    "- Readlines(): Reads all the lines in the file and returns them as a list. <br>"
   ]
  },
  {
   "cell_type": "code",
   "execution_count": 23,
   "id": "88cdef2f",
   "metadata": {
    "scrolled": true
   },
   "outputs": [
    {
     "name": "stdout",
     "output_type": "stream",
     "text": [
      "Hello, world!\n"
     ]
    }
   ],
   "source": [
    "f = open(\"example.txt\", \"r\")\n",
    "print(f.read())"
   ]
  },
  {
   "cell_type": "markdown",
   "id": "92b30322",
   "metadata": {},
   "source": [
    "If the file is in a different location, you will have to specify the file path:"
   ]
  },
  {
   "cell_type": "code",
   "execution_count": 5,
   "id": "d54db61a",
   "metadata": {},
   "outputs": [
    {
     "name": "stdout",
     "output_type": "stream",
     "text": [
      "1\n",
      "2\n"
     ]
    }
   ],
   "source": [
    "f = open(\"/Users/ladyj/OneDrive/BIXO/Course work/example.txt\", \"r\")\n",
    "print(f.read(3)) #reads the first 3 characters of the file"
   ]
  },
  {
   "cell_type": "markdown",
   "id": "fa044a57",
   "metadata": {},
   "source": [
    "Looping through a file:"
   ]
  },
  {
   "cell_type": "code",
   "execution_count": 9,
   "id": "8a2f154c",
   "metadata": {},
   "outputs": [
    {
     "name": "stdout",
     "output_type": "stream",
     "text": [
      "Some text\n",
      "\n",
      "Some more text\n",
      "\n",
      "A third line of random text\n"
     ]
    }
   ],
   "source": [
    "f = open(\"example.txt\", \"r\")\n",
    "for x in f:\n",
    "    print(x)\n",
    "f.close()"
   ]
  },
  {
   "cell_type": "markdown",
   "id": "02ecc9c0",
   "metadata": {},
   "source": [
    "3. **Writing to a file:**\n",
    "<br>\n",
    "If a file is opened for writing, you can write data to it using the write() method. <br>\n",
    "- Write(): writes the specified string to the file. <br>\n",
    "- Two modes write and append can be used to write to a file. <br>\n",
    "‘a’ – Append – will append to the end of the file. <br>\n",
    "‘w’ – Write – will overwrite any existing content. <br>\n",
    "If the file does not exist, it will be created. If it already exists, the content will be overwritten. "
   ]
  },
  {
   "cell_type": "code",
   "execution_count": 8,
   "id": "e34a7eb1",
   "metadata": {},
   "outputs": [
    {
     "data": {
      "text/plain": [
       "13"
      ]
     },
     "execution_count": 8,
     "metadata": {},
     "output_type": "execute_result"
    }
   ],
   "source": [
    "file.write('Hello, world!')"
   ]
  },
  {
   "cell_type": "markdown",
   "id": "3280b1cf",
   "metadata": {},
   "source": [
    "Using append:"
   ]
  },
  {
   "cell_type": "code",
   "execution_count": 11,
   "id": "4f7d16c4",
   "metadata": {},
   "outputs": [],
   "source": [
    "file = open('example.txt', 'a')\n",
    "file.write('New content')\n",
    "file.close()"
   ]
  },
  {
   "cell_type": "markdown",
   "id": "72d15f68",
   "metadata": {},
   "source": [
    "4. **Closing a file:**\n",
    "<br>\n",
    "Closing a file is essential after performing operations on a file using the close() method. Closes a file releases system resources associated with it and ensures that any buffered data is written to the file."
   ]
  },
  {
   "cell_type": "code",
   "execution_count": 12,
   "id": "f3d5f8eb",
   "metadata": {},
   "outputs": [],
   "source": [
    "file.close()"
   ]
  },
  {
   "cell_type": "markdown",
   "id": "cf5e3439",
   "metadata": {},
   "source": [
    "5. **Creating a file:**\n",
    "<br>\n",
    "The open() method together with one of the parameters below can be used to create files:\n",
    "<br>\n",
    "- ‘x’ – Create – will create a file. Returns an error if the file exists. <br>\n",
    "- ‘a’ – Append – will create a file if the specified file does not exist. <br>\n",
    "- ‘w’ – Write – will create a file if the specified file does not exist."
   ]
  },
  {
   "cell_type": "code",
   "execution_count": 14,
   "id": "c50e7a59",
   "metadata": {},
   "outputs": [],
   "source": [
    "f = open('example.txt', 'w')"
   ]
  },
  {
   "attachments": {
    "image.png": {
     "image/png": "[encoded data removed]"
    }
   },
   "cell_type": "markdown",
   "id": "f446f0a4",
   "metadata": {},
   "source": [
    "6. **Using Context Managers:**\n",
    "<br>\n",
    "Python ‘with’ statement provides a convenient way to work with files. It automatically handles opening and closing of files, even in the presence of exceptions.\n",
    "<br><br>\n",
    "\n",
    "**Syntax:**\n",
    "![image.png](attachment:image.png)"
   ]
  },
  {
   "cell_type": "markdown",
   "id": "b2813e5c",
   "metadata": {},
   "source": [
    "**Examples:**"
   ]
  },
  {
   "cell_type": "code",
   "execution_count": 21,
   "id": "92d74359",
   "metadata": {},
   "outputs": [
    {
     "name": "stdout",
     "output_type": "stream",
     "text": [
      "Hello, world!\n"
     ]
    }
   ],
   "source": [
    "# Reading from a file\n",
    "\n",
    "with open(\"example.txt\", \"r\") as file:\n",
    "    data = file.read()\n",
    "    print(data)"
   ]
  },
  {
   "cell_type": "code",
   "execution_count": 16,
   "id": "d19358ec",
   "metadata": {},
   "outputs": [],
   "source": [
    "# Writing to a file\n",
    "\n",
    "with open(\"example.txt\", \"w\") as file:\n",
    "    file.write(\"Hello, world!\")"
   ]
  },
  {
   "cell_type": "code",
   "execution_count": 24,
   "id": "04ff7381",
   "metadata": {},
   "outputs": [],
   "source": [
    "# Combining both\n",
    "\n",
    "with open(\"input.txt\", \"r\") as input_file:\n",
    "    data = input_file.readlines()\n",
    "\n",
    "processed_data = [line.upper() for line in data]\n",
    "\n",
    "with open(\"output.txt\", \"w\") as output_file:\n",
    "    output_file.writelines(processed_data)"
   ]
  },
  {
   "cell_type": "markdown",
   "id": "c5dc6cf1",
   "metadata": {},
   "source": [
    "The code reads from a file named input.txt, converts each line to uppercase and writes the modified data to a file named output.txt."
   ]
  },
  {
   "cell_type": "markdown",
   "id": "6f9f07db",
   "metadata": {},
   "source": [
    "7. **Delete a file:**\n",
    "<br>\n",
    "To delete a file, you must import the OS module, and run its os.remove() function:"
   ]
  },
  {
   "cell_type": "code",
   "execution_count": 25,
   "id": "47f6c342",
   "metadata": {},
   "outputs": [],
   "source": [
    "import os\n",
    "os.remove('output.txt')"
   ]
  },
  {
   "cell_type": "markdown",
   "id": "e7840138",
   "metadata": {},
   "source": [
    "**Check if file exists:**\n",
    "<br>\n",
    "To avoid getting an error, you might want to check if the file exists before you try to delete it:"
   ]
  },
  {
   "cell_type": "code",
   "execution_count": 26,
   "id": "f4560a3f",
   "metadata": {},
   "outputs": [
    {
     "name": "stdout",
     "output_type": "stream",
     "text": [
      "The file does not exist\n"
     ]
    }
   ],
   "source": [
    "import os\n",
    "if os.path.exists(\"output.txt\"):\n",
    "    os.remove(\"output.txt\")\n",
    "else:\n",
    "    print(\"The file does not exist\")"
   ]
  },
  {
   "attachments": {
    "image.png": {
     "image/png": "[encoded data removed]"
    }
   },
   "cell_type": "markdown",
   "id": "7a1c4d56",
   "metadata": {},
   "source": [
    "**Delete folder:**\n",
    "<br>\n",
    "To delete an entire folder, use the os.rmdir() method:\n",
    "![image.png](attachment:image.png)"
   ]
  }
 ],
 "metadata": {
  "kernelspec": {
   "display_name": "Python 3 (ipykernel)",
   "language": "python",
   "name": "python3"
  },
  "language_info": {
   "codemirror_mode": {
    "name": "ipython",
    "version": 3
   },
   "file_extension": ".py",
   "mimetype": "text/x-python",
   "name": "python",
   "nbconvert_exporter": "python",
   "pygments_lexer": "ipython3",
   "version": "3.11.5"
  }
 },
 "nbformat": 4,
 "nbformat_minor": 5
}
