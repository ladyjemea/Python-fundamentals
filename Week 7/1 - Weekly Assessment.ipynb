{
 "cells": [
  {
   "cell_type": "markdown",
   "id": "50165456",
   "metadata": {},
   "source": [
    "<img src=\"LaeCodes.png\" \n",
    "align=\"center\" \n",
    "width=\"100\" />"
   ]
  },
  {
   "cell_type": "markdown",
   "id": "921340e5",
   "metadata": {},
   "source": [
    "## Weekly Assessment:"
   ]
  },
  {
   "cell_type": "markdown",
   "id": "40944ac6",
   "metadata": {},
   "source": [
    "**Calculator**\n",
    "<br>\n",
    "Objective: Build a command-line calculator in Python that can perform basic arithmetic operations: addition, subtraction, multiplication, division, modulus, and exponentiation. The calculator should accept user input, perform the requested operation, and display the result. It should also handle errors gracefully (e.g., division by zero, invalid input).\n",
    "<br><br>\n",
    "\n",
    "**Requirements**\n",
    "\n",
    "1) User Interface:\n",
    "\n",
    "The calculator should be run from the command line. <br>\n",
    "It should display a menu with the available operations. <br>\n",
    "It should prompt the user to enter two numbers and an operation. <br>\n",
    "\n",
    "2) Operations:\n",
    "\n",
    "Addition (+) <br>\n",
    "Subtraction (-) <br>\n",
    "Multiplication (*) <br>\n",
    "Division (/) <br>\n",
    "Modulus (%) <br>\n",
    "Exponentiation (**) <br>\n",
    "\n",
    "3) Error Handling:\n",
    "\n",
    "Handle division by zero gracefully. <br>\n",
    "Validate user input to ensure it is numeric. <br>\n",
    "Provide feedback for invalid inputs or operations. <br>\n",
    "\n",
    "4) Deliverables:\n",
    "\n",
    "A Python script that implements the calculator. <br>\n",
    "The script should handle errors gracefully and provide meaningful feedback to the user. <br>\n",
    "Test cases demonstrating the calculator's functionality."
   ]
  },
  {
   "cell_type": "markdown",
   "id": "aec0d02a",
   "metadata": {},
   "source": [
    "**Implementation Steps**\n",
    "\n",
    "- Display Menu:\n",
    "\n",
    "Create a function to display the available operations to the user.\n",
    "\n",
    "- Get User Input:\n",
    "\n",
    "Create functions to get the operation choice and the two numbers from the user.\n",
    "Ensure the input is validated (i.e., the operation is one of the supported ones, and the numbers are numeric).\n",
    "\n",
    "- Perform Calculation:\n",
    "\n",
    "Create a function that takes the operation and the two numbers as arguments and performs the calculation.\n",
    "\n",
    "- Display Result:\n",
    "\n",
    "Output the result of the calculation to the user.\n",
    "\n",
    "- Error Handling:\n",
    "\n",
    "Implement error handling for invalid inputs and division by zero."
   ]
  }
 ],
 "metadata": {
  "kernelspec": {
   "display_name": "Python 3 (ipykernel)",
   "language": "python",
   "name": "python3"
  },
  "language_info": {
   "codemirror_mode": {
    "name": "ipython",
    "version": 3
   },
   "file_extension": ".py",
   "mimetype": "text/x-python",
   "name": "python",
   "nbconvert_exporter": "python",
   "pygments_lexer": "ipython3",
   "version": "3.11.5"
  }
 },
 "nbformat": 4,
 "nbformat_minor": 5
}
