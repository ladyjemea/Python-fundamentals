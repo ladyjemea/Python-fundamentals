{
 "cells": [
  {
   "cell_type": "markdown",
   "id": "396cfb36",
   "metadata": {},
   "source": [
    "<img src=\"LaeCodes.png\" \n",
    "     align=\"center\" \n",
    "     width=\"100\" />"
   ]
  },
  {
   "cell_type": "markdown",
   "id": "48e449d5",
   "metadata": {},
   "source": [
    "**Project Description:**\n",
    "<br><br>\n",
    "Develop a command-line tool that automatically organizes files within a specified directory based on their file type or other criteria. The tool should scan the directory, identify files, and move them into separate folders based on their file extension or other attributes.\n",
    "<br><br>\n",
    "**Requirements:**\n",
    "<br><br>\n",
    "**File Detection:** Write code to scan the specified directory and identify all files within it.\n",
    "<br>\n",
    "**File Organization:** Implement logic to categorize files based on their file extensions (e.g., images, documents, videos, etc.) or other criteria such as creation date, size, or keywords in the file name.\n",
    "<br>\n",
    "**Folder Creation:** Create separate folders for each category identified during the file organization process.\n",
    "<br>\n",
    "**File Movement:** Move files into the appropriate folders based on their category.\n",
    "<br>\n",
    "**Logging:** Optionally, implement logging functionality to record the actions taken by the tool (e.g., which files were moved to which folders).\n",
    "<br>\n",
    "**Error Handling:** Implement robust error handling to gracefully handle unexpected scenarios such as invalid directory paths or permission issues.\n",
    "<br>\n",
    "**Command-Line Interface (CLI):** Develop a command-line interface to interact with the tool. Users should be able to specify the directory to be organized and any other options (e.g., organization criteria, logging settings) via command-line arguments.\n",
    "<br><br>\n",
    "**Evaluation Criteria:**\n",
    "<br><br>\n",
    "**Functionality:** Does the tool accurately identify and organize files based on the specified criteria?\n",
    "<br>\n",
    "**Code Quality:** Is the code well-structured, readable, and appropriately commented? Are best practices followed?\n",
    "<br>\n",
    "**Error Handling:** Does the tool handle unexpected scenarios gracefully and provide informative error messages?\n",
    "<br>\n",
    "**CLI Integration:** Is the command-line interface intuitive and easy to use? Are command-line arguments parsed correctly?\n",
    "<br>\n",
    "**Efficiency:** Does the tool efficiently organize files, even for directories with a large number of files?\n",
    "<br><br>\n",
    "**Deliverables:**\n",
    "<br>\n",
    "- Pseudocode explaing the approach, exceptions and assumptions made <br>\n",
    "- Working code with explanations on how to run the script(s)"
   ]
  }
 ],
 "metadata": {
  "kernelspec": {
   "display_name": "Python 3 (ipykernel)",
   "language": "python",
   "name": "python3"
  },
  "language_info": {
   "codemirror_mode": {
    "name": "ipython",
    "version": 3
   },
   "file_extension": ".py",
   "mimetype": "text/x-python",
   "name": "python",
   "nbconvert_exporter": "python",
   "pygments_lexer": "ipython3",
   "version": "3.11.5"
  }
 },
 "nbformat": 4,
 "nbformat_minor": 5
}
