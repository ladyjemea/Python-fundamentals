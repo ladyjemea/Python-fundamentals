{
 "cells": [
  {
   "cell_type": "markdown",
   "id": "fa6f48b5",
   "metadata": {},
   "source": [
    "<img src=\"LaeCodes.png\" \n",
    "     align=\"center\" \n",
    "     width=\"100\" />"
   ]
  },
  {
   "cell_type": "markdown",
   "id": "2e53a0be",
   "metadata": {},
   "source": [
    "### Automated File Organizer Groups\n",
    "\n",
    "**Group 1:**\n",
    "- Daquin\n",
    "- Petra\n",
    "- Habiba\n",
    "\n",
    "**Group 2:**\n",
    "- Lex\n",
    "- Shade\n",
    "- Jessy\n",
    "\n",
    "**Group 3:**\n",
    "- Fritz\n",
    "- Madeleine\n",
    "- Ashly"
   ]
  }
 ],
 "metadata": {
  "kernelspec": {
   "display_name": "Python 3 (ipykernel)",
   "language": "python",
   "name": "python3"
  },
  "language_info": {
   "codemirror_mode": {
    "name": "ipython",
    "version": 3
   },
   "file_extension": ".py",
   "mimetype": "text/x-python",
   "name": "python",
   "nbconvert_exporter": "python",
   "pygments_lexer": "ipython3",
   "version": "3.11.5"
  }
 },
 "nbformat": 4,
 "nbformat_minor": 5
}
