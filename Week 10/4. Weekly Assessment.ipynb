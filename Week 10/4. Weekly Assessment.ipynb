{
 "cells": [
  {
   "cell_type": "markdown",
   "id": "690cc781",
   "metadata": {},
   "source": [
    "<img src=\"LaeCodes.png\" \n",
    "     align=\"center\" \n",
    "     width=\"100\" />"
   ]
  },
  {
   "cell_type": "markdown",
   "id": "1c3b51a5",
   "metadata": {},
   "source": [
    "# Weekly Assessment:"
   ]
  },
  {
   "cell_type": "markdown",
   "id": "fec769c9",
   "metadata": {},
   "source": [
    "1. What is the purpose of the try and except blocks in Python?\n",
    "2. How can you handle multiple exceptions in a single try block? Provide a code example.\n",
    "3. What is the purpose of the finally block in Python, and when is it executed?\n",
    "4. What will be the output of the following code?"
   ]
  },
  {
   "cell_type": "code",
   "execution_count": null,
   "id": "25be6ded",
   "metadata": {},
   "outputs": [],
   "source": [
    "try:\n",
    "    result = 10 / 0\n",
    "except ZeroDivisionError:\n",
    "    print(\"Cannot divide by zero!\")"
   ]
  },
  {
   "cell_type": "markdown",
   "id": "05996896",
   "metadata": {},
   "source": [
    "5. What will be the output of the following code?"
   ]
  },
  {
   "cell_type": "code",
   "execution_count": null,
   "id": "e88ac157",
   "metadata": {},
   "outputs": [],
   "source": [
    "try:\n",
    "    print(\"Hello\")\n",
    "    raise ValueError(\"An error occurred\")\n",
    "    print(\"World\")\n",
    "except ValueError as e:\n",
    "    print(e)\n",
    "finally:\n",
    "    print(\"This will always execute\")"
   ]
  }
 ],
 "metadata": {
  "kernelspec": {
   "display_name": "Python 3 (ipykernel)",
   "language": "python",
   "name": "python3"
  },
  "language_info": {
   "codemirror_mode": {
    "name": "ipython",
    "version": 3
   },
   "file_extension": ".py",
   "mimetype": "text/x-python",
   "name": "python",
   "nbconvert_exporter": "python",
   "pygments_lexer": "ipython3",
   "version": "3.11.5"
  }
 },
 "nbformat": 4,
 "nbformat_minor": 5
}
