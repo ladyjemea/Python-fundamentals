{
 "cells": [
  {
   "cell_type": "markdown",
   "id": "5776d4b0",
   "metadata": {},
   "source": [
    "<img src=\"LaeCodes.png\" \n",
    "     align=\"center\" \n",
    "     width=\"100\" />"
   ]
  },
  {
   "cell_type": "markdown",
   "id": "1f574f3e",
   "metadata": {},
   "source": [
    "# Classes and Objects:"
   ]
  },
  {
   "attachments": {
    "image.png": {
     "image/png": "[encoded data removed]"
    }
   },
   "cell_type": "markdown",
   "id": "c69ff902",
   "metadata": {},
   "source": [
    "Classes are a fundamental concept in object-oriented programming (OOP). In Python, a class is a blueprint for creating objects (instances) which have attributes (variables) and methods (functions). They help us logically group our data (attributes) and functions (methods) in a way that is easy to reuse and build upon.\n",
    "<br>\n",
    "\n",
    "An object is a collection of data (variables) and methods (functions).\n",
    "<br>\n",
    "\n",
    "If we had an application for a company and we wanted to represent the employees in our code, this will be a great use case for a class giving that each employee has attributes and methods like their name, email, salary and some actions that they perform. We can use a class as a blueprint to create each employee, so we do not have to manually do it from scratch each time.\n",
    "<br>\n",
    "\n",
    "In the context of a house, we can think of the class as a sketch (prototype). It contains all the details about the floors, doors, windows, etc.\n",
    "Based on these descriptions, we build the house; the house is the object.\n",
    "Since many houses can be made from the same description, we can create many objects from a class.\n",
    "<br>\n",
    "\n",
    "**Class Definition:**\n",
    "<br>\n",
    "A class is defined using the ‘class’ keyword followed by the name of the class.\n",
    "![image.png](attachment:image.png)"
   ]
  },
  {
   "cell_type": "markdown",
   "id": "b17c60d7",
   "metadata": {},
   "source": [
    "**Attributes:**\n",
    "<br>\n",
    "Attributes are variables that hold data associated with a class and its objects. They are defined within a class and are accessed using dot notation (‘object.attribute’)."
   ]
  },
  {
   "cell_type": "code",
   "execution_count": 2,
   "id": "1817a0b3",
   "metadata": {},
   "outputs": [],
   "source": [
    "class Person:\n",
    "    def __init__(self, name, age):\n",
    "        self.name = name\n",
    "        self.age = age"
   ]
  },
  {
   "cell_type": "markdown",
   "id": "662f4b4f",
   "metadata": {},
   "source": [
    "**Methods:**\n",
    "<br>\n",
    "Methods are functions defined within a class that operate on objects created from that class. They can access and modify object attributes. Methods in a class must have at least one parameter (usually named ‘self’) which refers to the instance of the class. "
   ]
  },
  {
   "cell_type": "code",
   "execution_count": 3,
   "id": "6e357494",
   "metadata": {},
   "outputs": [],
   "source": [
    "class Circle:\n",
    "    def __init__(self, radius):\n",
    "        self.radius = radius\n",
    "    \n",
    "    def area(self):\n",
    "        return 3.14 * self.radius ** 2"
   ]
  },
  {
   "cell_type": "markdown",
   "id": "af12432e",
   "metadata": {},
   "source": [
    "**Constructor (‘__init__’ method):**\n",
    "<br>\n",
    "The __init__() method is called automatically when an instance of a class is created. It initializes object attributes. It's a special method in Python classes and is often referred to as the constructor."
   ]
  },
  {
   "cell_type": "code",
   "execution_count": 1,
   "id": "3f76b468",
   "metadata": {},
   "outputs": [],
   "source": [
    "class Car:\n",
    "    def __init__(self, brand, model):\n",
    "        self.brand = brand\n",
    "        self.model = model\n",
    "\n",
    "# Creating an instance of the Car class\n",
    "my_car = Car(\"Toyota\", \"Camry\")"
   ]
  },
  {
   "cell_type": "markdown",
   "id": "5fa0984a",
   "metadata": {},
   "source": [
    "In this example:\n",
    "- The Car class has an __init__ method defined with two parameters: brand and model.\n",
    "- When you create an instance of the Car class (my_car), you pass values for brand and model.\n",
    "- Inside the __init__ method, these values are used to initialize the instance variables self.brand and self.model.\n",
    "<br>\n",
    "You can then access these instance variables using dot notation (object_name.variable_name):"
   ]
  },
  {
   "cell_type": "code",
   "execution_count": 2,
   "id": "5eec3e68",
   "metadata": {},
   "outputs": [
    {
     "name": "stdout",
     "output_type": "stream",
     "text": [
      "Brand: Toyota\n",
      "Model: Camry\n"
     ]
    }
   ],
   "source": [
    "print(\"Brand:\", my_car.brand)  # Outputs: Brand: Toyota\n",
    "print(\"Model:\", my_car.model)  # Outputs: Model: Camry"
   ]
  },
  {
   "cell_type": "markdown",
   "id": "774361d1",
   "metadata": {},
   "source": [
    "The __init__ method can perform various tasks such as initializing instance variables, validating input data, or setting default values. It's a fundamental part of Python classes and is often used to ensure that objects are properly initialized when they're created."
   ]
  },
  {
   "cell_type": "markdown",
   "id": "4ca595ff",
   "metadata": {},
   "source": [
    "**Instance/Object Creation:**\n",
    "<br>\n",
    "Objects are instances of a class. They are created using the class name followed by parentheses. Classes are used for creating instances. In our employee example, each employee created will be an instance of the employee class."
   ]
  },
  {
   "cell_type": "code",
   "execution_count": 11,
   "id": "51ffb807",
   "metadata": {},
   "outputs": [],
   "source": [
    "class Employee:\n",
    "    def __init__(self, name, age, salary):\n",
    "        self.name = name\n",
    "        self.age = age\n",
    "        self.salary = salary\n",
    "\n",
    "employee1 = Employee('Lae', 29, 50000) #an instance of the Employee class - an Employee object\n",
    "employee2 = Employee('Paul', 28, 48000)"
   ]
  },
  {
   "cell_type": "markdown",
   "id": "7222441e",
   "metadata": {},
   "source": [
    "**Instance variables:**\n",
    "<br>\n",
    "These are variables associated with instances (individual objects) of a class. They represent the attributes or properties that each object of the class possesses. \n",
    "<br>\n",
    "When you create a class, you define its structure, including its instance variables. Each instance of that class (i.e., each object created from that class) has its own set of instance variables, independent of other instances of the same class. These variables define the state of each object and can have different values for different objects. <br>\n",
    "\n",
    "For example, let's consider a class called Car:\n"
   ]
  },
  {
   "cell_type": "code",
   "execution_count": 12,
   "id": "09c117c0",
   "metadata": {},
   "outputs": [],
   "source": [
    "class Car:\n",
    "    def __init__(self, brand, model):\n",
    "        self.brand = brand\n",
    "        self.model = model\n",
    "        self.speed = 0"
   ]
  },
  {
   "cell_type": "markdown",
   "id": "3ce884e4",
   "metadata": {},
   "source": [
    "In this example, brand, model, and speed are instance variables of the Car class. When you create an instance of the Car class, such as:"
   ]
  },
  {
   "cell_type": "code",
   "execution_count": 13,
   "id": "10977bf9",
   "metadata": {},
   "outputs": [],
   "source": [
    "my_car = Car(\"Toyota\", \"Camry\")\n",
    "your_car = Car(\"Mercedes\", \"G-Wagon\")"
   ]
  },
  {
   "cell_type": "markdown",
   "id": "8eca75d9",
   "metadata": {},
   "source": [
    "You're creating an object my_car with its own set of instance variables. In this case, my_car will have its brand, model, and speed attributes. <br>\n",
    "Instance variables are accessed using dot notation (object_name.variable_name), such as my_car.brand or my_car.speed. Each object's instance variables can be modified independently of other objects of the same class. For example, you can increase the speed of my_car without affecting the speed of another Car object."
   ]
  },
  {
   "cell_type": "code",
   "execution_count": 14,
   "id": "11bb60f1",
   "metadata": {},
   "outputs": [
    {
     "name": "stdout",
     "output_type": "stream",
     "text": [
      "Brand: Toyota\n",
      "Model: G-Wagon\n",
      "Speed: 60\n"
     ]
    }
   ],
   "source": [
    "class Car:\n",
    "    def __init__(self, brand, model):\n",
    "        self.brand = brand\n",
    "        self.model = model\n",
    "        self.speed = 0\n",
    "\n",
    "my_car = Car(\"Toyota\", \"Camry\")\n",
    "your_car = Car(\"Mercedes\", \"G-Wagon\")\n",
    "\n",
    "my_car.speed = 60  #Sets the speed of my_car to 60\n",
    "\n",
    "#Access the instance variables using the dot notation\n",
    "print(\"Brand:\", my_car.brand)\n",
    "print(\"Model:\", your_car.model)\n",
    "print(\"Speed:\", my_car.speed)"
   ]
  },
  {
   "cell_type": "markdown",
   "id": "20366708",
   "metadata": {},
   "source": [
    "**Inheritance:**\n",
    "<br>\n",
    "Inheritance allows a class (subclass) to inherit attributes and methods from another class (superclass). This promotes code reusability and supports the concept of ‘is-a’ relationships."
   ]
  },
  {
   "cell_type": "code",
   "execution_count": 6,
   "id": "61afb91a",
   "metadata": {},
   "outputs": [],
   "source": [
    "class Student(Person):\n",
    "    def __init__(self, name, age, student_id):\n",
    "        super().__init__(name, age)\n",
    "        self.student_id = student_id"
   ]
  },
  {
   "cell_type": "markdown",
   "id": "7c81f720",
   "metadata": {},
   "source": [
    "**Encapsulation:**\n",
    "<br>\n",
    "Encapsulation refers to the bundling of data (attributes) and methods that operate on the data within a single unit (class). It hides the internal state of objects and restricts direct access to them from outside the class. "
   ]
  },
  {
   "cell_type": "code",
   "execution_count": 7,
   "id": "db261696",
   "metadata": {},
   "outputs": [],
   "source": [
    "class BankAccount:\n",
    "    def __init__(self):\n",
    "        self.balance = 0\n",
    "    \n",
    "    def deposit(self, amount):\n",
    "        self.balance += amount\n",
    "    \n",
    "    def withdraw(self, amount):\n",
    "        if amount <= self.balance:\n",
    "            self.balance -= amount\n",
    "        else:\n",
    "            print(\"Insufficient funds\")"
   ]
  },
  {
   "cell_type": "markdown",
   "id": "3c830618",
   "metadata": {},
   "source": [
    "**Polymorphism:**\n",
    "<br>\n",
    "Polymorphism allows objects of different classes to be treated as objects of a common superclass. It enables the same method name to behave differently based on the object it is called on."
   ]
  },
  {
   "cell_type": "code",
   "execution_count": 8,
   "id": "efa6614b",
   "metadata": {},
   "outputs": [],
   "source": [
    "class Animal:\n",
    "    def sound(self):\n",
    "        pass\n",
    "\n",
    "class Dog(Animal):\n",
    "    def sound(self):\n",
    "        return \"Woof!\"\n",
    "\n",
    "class Cat(Animal):\n",
    "    def sound(self):\n",
    "        return \"Meow!\""
   ]
  },
  {
   "cell_type": "markdown",
   "id": "c1892f7f",
   "metadata": {},
   "source": [
    "**Class Attributes and Methods:**\n",
    "<br>\n",
    "Class attributes are variables shared by all instances of a class.<br>\n",
    "Class methods are methods that are bound to the class rather than its instances. They are defined using the ‘@classmethod’ decorator."
   ]
  },
  {
   "cell_type": "code",
   "execution_count": 9,
   "id": "3710e77b",
   "metadata": {},
   "outputs": [],
   "source": [
    "class Employee:\n",
    "    raise_amount = 1.05\n",
    "    \n",
    "    def __init__(self, name, salary):\n",
    "        self.name = name\n",
    "        self.salary = salary\n",
    "    \n",
    "    @classmethod\n",
    "    def set_raise_amount(cls, amount):\n",
    "        cls.raise_amount = amount"
   ]
  }
 ],
 "metadata": {
  "kernelspec": {
   "display_name": "Python 3 (ipykernel)",
   "language": "python",
   "name": "python3"
  },
  "language_info": {
   "codemirror_mode": {
    "name": "ipython",
    "version": 3
   },
   "file_extension": ".py",
   "mimetype": "text/x-python",
   "name": "python",
   "nbconvert_exporter": "python",
   "pygments_lexer": "ipython3",
   "version": "3.11.5"
  }
 },
 "nbformat": 4,
 "nbformat_minor": 5
}
