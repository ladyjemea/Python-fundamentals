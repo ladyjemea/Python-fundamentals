{
 "cells": [
  {
   "cell_type": "markdown",
   "id": "63f4d7ee",
   "metadata": {},
   "source": [
    "<img src=\"LaeCodes.png\" \n",
    "align=\"center\" \n",
    "width=\"100\" />"
   ]
  },
  {
   "cell_type": "markdown",
   "id": "e1681a5e",
   "metadata": {},
   "source": [
    "# Additional Function Concepts"
   ]
  },
  {
   "cell_type": "markdown",
   "id": "f2a8ad6a",
   "metadata": {},
   "source": [
    "**Outline:**\n",
    "- The main functon\n",
    "- Lambda functions\n",
    "- Recursion"
   ]
  },
  {
   "cell_type": "markdown",
   "id": "6c0c8407",
   "metadata": {},
   "source": [
    "### The main function:\n",
    "\n",
    "In Python, the main function is typically used as the entry point for a script. While Python does not have a built-in main function like some other programming languages (such as C or Java), it is common practice to define a main function and use the if **__name__** == **\"__main__\"**: idiom to execute code only when the script is run directly, not when it is imported as a module.\n",
    "<br>\n",
    "\n",
    "**Structure of the Main Function**\n",
    "\n",
    "\n",
    "The if __name__ == \"__main__\": idiom checks whether the script is being run directly or being imported. When a Python script is run, the special variable __name__ is set to \"__main__\". When the script is imported as a module, __name__ is set to the module's name.\n",
    "<br>\n",
    "\n",
    "**Example 1: Basic Main Function**"
   ]
  },
  {
   "cell_type": "code",
   "execution_count": 1,
   "id": "819fa657",
   "metadata": {},
   "outputs": [
    {
     "name": "stdout",
     "output_type": "stream",
     "text": [
      "Hello, World!\n"
     ]
    }
   ],
   "source": [
    "def main():\n",
    "    print(\"Hello, World!\")\n",
    "\n",
    "if __name__ == \"__main__\":\n",
    "    main()"
   ]
  },
  {
   "cell_type": "markdown",
   "id": "89cf9506",
   "metadata": {},
   "source": [
    "In this example:<br>\n",
    "• The main function is defined. <br>\n",
    "• The if __name__ == \"__main__\": block ensures that main is called only when the script is executed directly.\n",
    "<br>\n",
    "\n",
    "**Example 2: Main Function with Arguments**\n",
    "\n",
    "You can also pass arguments to the main function, often using the sys module to handle command-line arguments.\n"
   ]
  },
  {
   "cell_type": "code",
   "execution_count": 2,
   "id": "19a3035a",
   "metadata": {},
   "outputs": [
    {
     "name": "stdout",
     "output_type": "stream",
     "text": [
      "Arguments passed: ['/Users/ladyj/anaconda3/lib/python3.11/site-packages/ipykernel_launcher.py', '-f', '/Users/ladyj/Library/Jupyter/runtime/kernel-71350faf-f067-48a7-8836-854ffe0440dc.json']\n"
     ]
    }
   ],
   "source": [
    "import sys\n",
    "\n",
    "def main(args):\n",
    "    print(f\"Arguments passed: {args}\")\n",
    "\n",
    "if __name__ == \"__main__\":\n",
    "    main(sys.argv)"
   ]
  },
  {
   "cell_type": "markdown",
   "id": "542d22b4",
   "metadata": {},
   "source": [
    "In this example: <br>\n",
    "• sys.argv is a list in Python, which contains the command-line arguments passed to the script. <br>\n",
    "• The first element sys.argv[0] is the name of the script. The subsequent elements are the arguments passed.\n",
    "<br>\n",
    "\n",
    "**Example 3: Main Function with Argument Parsing**\n",
    "\n",
    "For more complex argument parsing, the argparse module is often used."
   ]
  },
  {
   "cell_type": "code",
   "execution_count": 3,
   "id": "50107304",
   "metadata": {},
   "outputs": [
    {
     "name": "stderr",
     "output_type": "stream",
     "text": [
      "usage: ipykernel_launcher.py [-h] [--age AGE] name\n",
      "ipykernel_launcher.py: error: unrecognized arguments: -f\n"
     ]
    },
    {
     "ename": "SystemExit",
     "evalue": "2",
     "output_type": "error",
     "traceback": [
      "An exception has occurred, use %tb to see the full traceback.\n",
      "\u001b[0;31mSystemExit\u001b[0m\u001b[0;31m:\u001b[0m 2\n"
     ]
    },
    {
     "name": "stderr",
     "output_type": "stream",
     "text": [
      "/Users/ladyj/anaconda3/lib/python3.11/site-packages/IPython/core/interactiveshell.py:3534: UserWarning: To exit: use 'exit', 'quit', or Ctrl-D.\n",
      "  warn(\"To exit: use 'exit', 'quit', or Ctrl-D.\", stacklevel=1)\n"
     ]
    }
   ],
   "source": [
    "import argparse\n",
    "\n",
    "def main():\n",
    "    parser = argparse.ArgumentParser(description=\"A simple argument parser example.\")\n",
    "    parser.add_argument('name', type=str, help='Your name')\n",
    "    parser.add_argument('--age', type=int, help='Your age', default=0)\n",
    "    \n",
    "    args = parser.parse_args()\n",
    "    print(f\"Name: {args.name}\")\n",
    "    print(f\"Age: {args.age}\")\n",
    "\n",
    "if __name__ == \"__main__\":\n",
    "    main()"
   ]
  },
  {
   "cell_type": "markdown",
   "id": "9bee03cd",
   "metadata": {},
   "source": [
    "In this example: <br>\n",
    "• The argparse module is used to handle command-line arguments. <br>\n",
    "• parser.add_argument defines the arguments the script accepts. <br>\n",
    "• parser.parse_args() parses those arguments when the script is run. <br>\n",
    "• The parsed arguments are accessible as attributes of the args object.\n",
    "<br>\n",
    "\n",
    "**Example 4: Main Function for Modular Code**\n",
    "\n",
    "Using the main function allows for better code organization and modularity. This is especially useful in larger programs."
   ]
  },
  {
   "cell_type": "code",
   "execution_count": 4,
   "id": "c0dac8d5",
   "metadata": {},
   "outputs": [
    {
     "name": "stdout",
     "output_type": "stream",
     "text": [
      "Processed data: SAMPLE DATA\n"
     ]
    }
   ],
   "source": [
    "def process_data(data):\n",
    "    return data.upper()\n",
    "\n",
    "def main():\n",
    "    data = \"sample data\"\n",
    "    result = process_data(data)\n",
    "    print(f\"Processed data: {result}\")\n",
    "\n",
    "if __name__ == \"__main__\":\n",
    "    main()"
   ]
  },
  {
   "cell_type": "markdown",
   "id": "cb118feb",
   "metadata": {},
   "source": [
    "In this example: <br>\n",
    "• process_data is a helper function that performs some operations. <br>\n",
    "• main coordinates the workflow by calling process_data and printing the result.\n",
    "<br>\n",
    "\n",
    "**Benefits of Using the Main Function**\n",
    "<br>\n",
    "1. Modularity: Separates the entry point from the logic, making the code easier to read and maintain.\n",
    "2. Reusability: Allows parts of the script to be reused by importing them as modules without executing the main logic.\n",
    "3. Testing: Facilitates testing by enabling you to test functions independently of the script execution."
   ]
  },
  {
   "attachments": {
    "image-2.png": {
     "image/png": "[encoded data removed]"
    }
   },
   "cell_type": "markdown",
   "id": "9a4eb760",
   "metadata": {},
   "source": [
    "### Lambda Functions\n",
    "\n",
    "Lambda functions in Python are small, anonymous functions defined using the lambda keyword. They are often used for short, simple operations, typically in places where defining a full function would be unnecessarily verbose. Lambda functions can have any number of input parameters but only one expression, which is evaluated and returned.\n",
    "\n",
    "**Syntax:**\n",
    "![image-2.png](attachment:image-2.png)\n",
    "\n",
    "- lambda is the keyword used to define a lambda function.\n",
    "- arguments is a comma-separated list of parameters.\n",
    "- expression is a single expression evaluated and returned.\n",
    "\n",
    "**Examples:**\n"
   ]
  },
  {
   "cell_type": "code",
   "execution_count": 5,
   "id": "3694fee7",
   "metadata": {},
   "outputs": [
    {
     "name": "stdout",
     "output_type": "stream",
     "text": [
      "15\n"
     ]
    }
   ],
   "source": [
    "# A simple lambda function that adds 10 to the input\n",
    "add_ten = lambda x: x + 10\n",
    "print(add_ten(5)) "
   ]
  },
  {
   "cell_type": "code",
   "execution_count": 6,
   "id": "03e6e20c",
   "metadata": {},
   "outputs": [
    {
     "name": "stdout",
     "output_type": "stream",
     "text": [
      "7\n"
     ]
    }
   ],
   "source": [
    "# A lambda function that adds two numbers\n",
    "add = lambda x, y: x + y\n",
    "print(add(3, 4))  "
   ]
  },
  {
   "cell_type": "markdown",
   "id": "4b898654",
   "metadata": {},
   "source": [
    "**Lambda functions with map(), filter() and reduce().**\n",
    "\n",
    "**Using map()**"
   ]
  },
  {
   "cell_type": "code",
   "execution_count": 7,
   "id": "19d297ef",
   "metadata": {},
   "outputs": [
    {
     "name": "stdout",
     "output_type": "stream",
     "text": [
      "[1, 4, 9, 16, 25]\n"
     ]
    }
   ],
   "source": [
    "# Using lambda with map to square each number in a list\n",
    "numbers = [1, 2, 3, 4, 5]\n",
    "squared = map(lambda x: x**2, numbers)\n",
    "print(list(squared))"
   ]
  },
  {
   "cell_type": "markdown",
   "id": "a006105d",
   "metadata": {},
   "source": [
    "**Using filter()**"
   ]
  },
  {
   "cell_type": "code",
   "execution_count": 8,
   "id": "5ef6d89a",
   "metadata": {},
   "outputs": [
    {
     "name": "stdout",
     "output_type": "stream",
     "text": [
      "[2, 4, 6]\n"
     ]
    }
   ],
   "source": [
    "# Using lambda with filter to get even numbers from a list\n",
    "numbers = [1, 2, 3, 4, 5, 6]\n",
    "evens = filter(lambda x: x % 2 == 0, numbers)\n",
    "print(list(evens))"
   ]
  },
  {
   "cell_type": "markdown",
   "id": "9133f17c",
   "metadata": {},
   "source": [
    "**Using reduce() – requires functools**"
   ]
  },
  {
   "cell_type": "code",
   "execution_count": 9,
   "id": "b891251c",
   "metadata": {},
   "outputs": [
    {
     "name": "stdout",
     "output_type": "stream",
     "text": [
      "120\n"
     ]
    }
   ],
   "source": [
    "from functools import reduce\n",
    "\n",
    "# Using lambda with reduce to find the product of all numbers in a list\n",
    "numbers = [1, 2, 3, 4, 5]\n",
    "product = reduce(lambda x, y: x * y, numbers)\n",
    "print(product)"
   ]
  },
  {
   "cell_type": "markdown",
   "id": "73b37b9e",
   "metadata": {},
   "source": [
    "**Sorting with Lambda functions:**"
   ]
  },
  {
   "cell_type": "code",
   "execution_count": 10,
   "id": "5390f96d",
   "metadata": {},
   "outputs": [
    {
     "name": "stdout",
     "output_type": "stream",
     "text": [
      "[(5, 0), (3, 1), (1, 2)]\n"
     ]
    }
   ],
   "source": [
    "# Sorting a list of tuples based on the second element\n",
    "pairs = [(1, 2), (3, 1), (5, 0)]\n",
    "pairs.sort(key=lambda x: x[1])\n",
    "print(pairs)"
   ]
  },
  {
   "cell_type": "markdown",
   "id": "d0b8fdcc",
   "metadata": {},
   "source": [
    "**Limitations of Lambda Functions** <br>\n",
    "• Single Expression: Lambda functions are limited to a single expression and cannot contain statements or multiple expressions. <br>\n",
    "• Readability: For complex operations, lambda functions can become hard to read and understand. In such cases, defining a regular function using def is usually better. <br>\n",
    "• No Name: Lambda functions are anonymous, meaning they do not have a name unless assigned to a variable.\n",
    "\n",
    "**When to Use Lambda Functions** <br>\n",
    "• Short, Simple Functions: Use lambda functions for simple operations that can be expressed in a single line. <br>\n",
    "• Higher-Order Functions: Use them as arguments to higher-order functions like map(), filter(), and reduce().<br>\n",
    "• Temporary Use: When a small function is needed temporarily, and defining a full function would be too verbose.\n"
   ]
  },
  {
   "cell_type": "markdown",
   "id": "9f9660d8",
   "metadata": {},
   "source": [
    "### Recursion\n",
    "\n",
    "Recursion in Python refers to the technique of a function calling itself directly or indirectly in order to solve a problem. This technique can be used to solve problems that can be broken down into smaller, repetitive subproblems. Each recursive call should simplify the problem, and there must be a base case to stop the recursion and prevent an infinite loop.\n",
    "\n",
    "**Key Concepts of Recursion**\n",
    "\n",
    "1. Base Case: The condition under which the recursion stops. This prevents the function from calling itself indefinitely.\n",
    "2. Recursive Case: The part of the function where the function calls itself with a smaller or simpler argument.\n",
    "\n",
    "**Example: Factorial Calculation**\n",
    "<br>\n",
    "The factorial of a non-negative integer nnn (denoted as n!n!n!) is the product of all positive integers less than or equal to nnn. The factorial function can be defined recursively as: <br>\n",
    "• 0!=1 (base case) <br>\n",
    "• n!=n×(n−1)!n! = n \\times (n-1)!n!=n×(n−1)! for n>0n > 0n>0 (recursive case)<br>\n",
    "\n",
    "**Factorial Using Recursion**"
   ]
  },
  {
   "cell_type": "code",
   "execution_count": 11,
   "id": "c078b430",
   "metadata": {},
   "outputs": [
    {
     "name": "stdout",
     "output_type": "stream",
     "text": [
      "120\n"
     ]
    }
   ],
   "source": [
    "def factorial(n):\n",
    "    # Base case: 0! is 1\n",
    "    if n == 0:\n",
    "        return 1\n",
    "    # Recursive case: n! = n * (n-1)!\n",
    "    else:\n",
    "        return n * factorial(n-1)\n",
    "\n",
    "print(factorial(5))"
   ]
  },
  {
   "cell_type": "markdown",
   "id": "e6888b45",
   "metadata": {},
   "source": [
    "**Example: Fibonacci Sequence**\n",
    "<br>\n",
    "The Fibonacci sequence is another classic example of recursion. Each number in the sequence is the sum of the two preceding ones, usually starting with 0 and 1. <br>\n",
    "The Fibonacci sequence can be defined recursively as: <br>\n",
    "• F(0)=0F(0) = 0F(0)=0 (base case) <br>\n",
    "• F(1)=1F(1) = 1F(1)=1 (base case) <br>\n",
    "• F(n)=F(n−1)+F(n−2)F(n) = F(n-1) + F(n-2)F(n)=F(n−1)+F(n−2) for n>1n > 1n>1 (recursive case)<br>\n",
    "\n",
    "**Fibonacci Using Recursion**"
   ]
  },
  {
   "cell_type": "code",
   "execution_count": 12,
   "id": "ff227b21",
   "metadata": {},
   "outputs": [
    {
     "name": "stdout",
     "output_type": "stream",
     "text": [
      "8\n"
     ]
    }
   ],
   "source": [
    "def fibonacci(n):\n",
    "    # Base case: F(0) is 0 and F(1) is 1\n",
    "    if n == 0:\n",
    "        return 0\n",
    "    elif n == 1:\n",
    "        return 1\n",
    "    # Recursive case: F(n) = F(n-1) + F(n-2)\n",
    "    else:\n",
    "        return fibonacci(n-1) + fibonacci(n-2)\n",
    "\n",
    "print(fibonacci(6))"
   ]
  },
  {
   "cell_type": "markdown",
   "id": "e057060a",
   "metadata": {},
   "source": [
    "**Example: Sum of a List**\n",
    "<br>\n",
    "A function to calculate the sum of a list of numbers using recursion."
   ]
  },
  {
   "cell_type": "code",
   "execution_count": 13,
   "id": "4393b8d3",
   "metadata": {},
   "outputs": [
    {
     "name": "stdout",
     "output_type": "stream",
     "text": [
      "15\n"
     ]
    }
   ],
   "source": [
    "def sum_list(numbers):\n",
    "    # Base case: an empty list has a sum of 0\n",
    "    if not numbers:\n",
    "        return 0\n",
    "    # Recursive case: sum of the list is the first element plus the sum of the rest\n",
    "    else:\n",
    "        return numbers[0] + sum_list(numbers[1:])\n",
    "\n",
    "print(sum_list([1, 2, 3, 4, 5]))"
   ]
  },
  {
   "cell_type": "markdown",
   "id": "dd7f8f05",
   "metadata": {},
   "source": [
    "**Advantages of Recursion** <br>\n",
    "• Simplicity: Recursive solutions can be simpler and more intuitive for problems that have a natural recursive structure (e.g., tree traversal, combinatorial problems). <br>\n",
    "• Code Clarity: Recursive functions can lead to more readable and maintainable code, especially when the problem is inherently recursive. <br>\n",
    "\n",
    "**Disadvantages of Recursion** <br>\n",
    "• Performance: Recursive functions can be less efficient due to the overhead of multiple function calls and can lead to stack overflow if the recursion is too deep. <br>\n",
    "• Memory Usage: Each function call consumes stack space, which can lead to high memory usage for deep recursion.\n"
   ]
  }
 ],
 "metadata": {
  "kernelspec": {
   "display_name": "Python 3 (ipykernel)",
   "language": "python",
   "name": "python3"
  },
  "language_info": {
   "codemirror_mode": {
    "name": "ipython",
    "version": 3
   },
   "file_extension": ".py",
   "mimetype": "text/x-python",
   "name": "python",
   "nbconvert_exporter": "python",
   "pygments_lexer": "ipython3",
   "version": "3.11.5"
  }
 },
 "nbformat": 4,
 "nbformat_minor": 5
}
