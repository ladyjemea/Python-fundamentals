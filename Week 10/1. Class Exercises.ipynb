{
 "cells": [
  {
   "cell_type": "markdown",
   "id": "a1206d65",
   "metadata": {},
   "source": [
    "<img src=\"LaeCodes.png\" \n",
    "     align=\"center\" \n",
    "     width=\"100\" />"
   ]
  },
  {
   "cell_type": "markdown",
   "id": "1d0b7242",
   "metadata": {},
   "source": [
    "# Class Exercises"
   ]
  },
  {
   "cell_type": "markdown",
   "id": "faa614ed",
   "metadata": {},
   "source": [
    "1) Create a program that generates a random password of a given length. The password should include letters, digits, and special characters.\n",
    "2) Build a basic chatbot that can respond to a few predefined questions or statements.\n",
    "3) Create a program that converts units of measurement (e.g., kilometers to miles, Celsius to Fahrenheit).\n",
    "4) Create a simple currency converter that converts an amount from one currency to another using predefined exchange rates."
   ]
  }
 ],
 "metadata": {
  "kernelspec": {
   "display_name": "Python 3 (ipykernel)",
   "language": "python",
   "name": "python3"
  },
  "language_info": {
   "codemirror_mode": {
    "name": "ipython",
    "version": 3
   },
   "file_extension": ".py",
   "mimetype": "text/x-python",
   "name": "python",
   "nbconvert_exporter": "python",
   "pygments_lexer": "ipython3",
   "version": "3.11.5"
  }
 },
 "nbformat": 4,
 "nbformat_minor": 5
}
