{
 "cells": [
  {
   "cell_type": "markdown",
   "id": "5623d9d5",
   "metadata": {},
   "source": [
    "<img src=\"LaeCodes.png\" \n",
    "     align=\"center\" \n",
    "     width=\"100\" />"
   ]
  },
  {
   "cell_type": "markdown",
   "id": "d1b5099c",
   "metadata": {},
   "source": [
    "# Weekly Assessment\n",
    "\n",
    "- Go through the course work for this week and understand the main concepts.\n",
    "- Have Python setup on your computer either through the Anaconda distribution or locally downloading python.\n",
    "- If Python has been downloaded on your computer, ensure that you have a programming environment up and running as well.\n",
    "- In the Python fundamentals folder created, create two folders: One called Course work and the other called Assignments. The assignment folder will contain all the scripts you will have to submit back to me for evaluation.\n",
    "- Create a python script called intro.py or intro.ipynb (if you are using Jupyter notebooks). In this script, print out 6 lines:\n",
    "\n",
    "    - Your name\n",
    "    - Your email address\n",
    "    - Highest level of education\n",
    "    - Country\n",
    "    - Programming experience level\n",
    "    - Reason for taking this course.\n",
    "\n",
    "- Have at least 3 comments in your scripts.\n",
    "\n",
    "All scripts should be submitted to me before the next class at ladyjemea@gmail.com or info.laecodes@gmail.com"
   ]
  }
 ],
 "metadata": {
  "kernelspec": {
   "display_name": "Python 3 (ipykernel)",
   "language": "python",
   "name": "python3"
  },
  "language_info": {
   "codemirror_mode": {
    "name": "ipython",
    "version": 3
   },
   "file_extension": ".py",
   "mimetype": "text/x-python",
   "name": "python",
   "nbconvert_exporter": "python",
   "pygments_lexer": "ipython3",
   "version": "3.11.5"
  }
 },
 "nbformat": 4,
 "nbformat_minor": 5
}
