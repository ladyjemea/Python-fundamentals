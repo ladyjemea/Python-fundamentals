{
 "cells": [
  {
   "cell_type": "markdown",
   "id": "197ae7c9",
   "metadata": {},
   "source": [
    "<img src=\"LaeCodes.png\" \n",
    "     align=\"center\" \n",
    "     width=\"100\" />"
   ]
  },
  {
   "cell_type": "markdown",
   "id": "9cb4c443",
   "metadata": {},
   "source": [
    "# Hello World!"
   ]
  },
  {
   "cell_type": "markdown",
   "id": "347da805",
   "metadata": {},
   "source": [
    "This section assumes that you have already completed the preceding sections and have successfully set up Python on your computer. If you downloaded Python locally, ensure that VS code has been downloaded and installed. The Microsoft Python extension should also be installed successfully."
   ]
  },
  {
   "cell_type": "markdown",
   "id": "5ae41da2",
   "metadata": {},
   "source": [
    "**VSCode:**\n",
    "\n",
    "- Open VS code: \n",
    "- Type **print(‘Hello World!’)**\n",
    "- Select File -> Save as -> Navigate to the **Python fundamentals** folder created. Give the File name **hello_world** and Type **python** or File name **hello_world.py** and Type **Plain Text** and click on save. \n",
    "\n",
    "This is a simple python program which outputs some text on your screen.\n",
    "You can either run the script in VS code or using your command line.\n",
    "\n",
    "To run this script in VS code, click on **Terminal** -> **New Terminal** -> navigate to the directory/folder where you saved the python file -> enter **python filename.py** (in our case, the file is called **hello_world.py**) -> click enter. \n",
    "This should print the words **Hello World!** To your screen.\n",
    "\n",
    "To run the script using the command line, open the command prompt/terminal -> navigate to the directory/folder where you saved the python file -> enter **python filename.py** (in our case, the file is called **hello_world.py**) -> click enter.\n",
    "This should print the words **Hello World!** To your screen."
   ]
  },
  {
   "attachments": {
    "image-2.png": {
     "image/png": "[encoded data removed]"
    }
   },
   "cell_type": "markdown",
   "id": "96ad2302",
   "metadata": {},
   "source": [
    "**Jupyter Notebook:**\n",
    "\n",
    "Go to the Anaconda navigator -> launch the Jupyter notebook (a browser window opens) -> navigate to the Programming fundamentals folder -> New -> Python 3(ipykernel). A new notebook opens in another browser window. \n",
    "\n",
    "Rename the script to first by clicking on the ‘untitled’ text next to the Jupyter logo on the top left of the page. Rename the file to **hello_world**\n",
    "\n",
    "![image-2.png](attachment:image-2.png)"
   ]
  },
  {
   "cell_type": "markdown",
   "id": "1dbb401c",
   "metadata": {},
   "source": [
    "Notebooks use a cell-based system where you write code in a cell, and you can run the cell by clicking on the Run button. The output of the cell is displayed just below the cell. "
   ]
  },
  {
   "cell_type": "code",
   "execution_count": 2,
   "id": "520f2777",
   "metadata": {},
   "outputs": [
    {
     "name": "stdout",
     "output_type": "stream",
     "text": [
      "Hello world!\n"
     ]
    }
   ],
   "source": [
    "print ('Hello world!')"
   ]
  },
  {
   "cell_type": "markdown",
   "id": "29cf8c44",
   "metadata": {},
   "source": [
    "The cell above outputs **Hello world!** to the screen. \n",
    "\n",
    "Shift + Enter runs a cell and creates another cell below it.\n",
    "Clicking on Enter in a cell just creates more new lines.\n",
    "The **Help** tab has many useful commands for Jupyter Notebooks.\n",
    "\n",
    "When you are done with your Notebook, make sure to close it by going to the file, select it and click on **Shutdown**.\n",
    "Jupyter notebooks should be opened through the Anaconda navigator. Do not double click to open it.\n"
   ]
  }
 ],
 "metadata": {
  "kernelspec": {
   "display_name": "Python 3 (ipykernel)",
   "language": "python",
   "name": "python3"
  },
  "language_info": {
   "codemirror_mode": {
    "name": "ipython",
    "version": 3
   },
   "file_extension": ".py",
   "mimetype": "text/x-python",
   "name": "python",
   "nbconvert_exporter": "python",
   "pygments_lexer": "ipython3",
   "version": "3.11.5"
  }
 },
 "nbformat": 4,
 "nbformat_minor": 5
}
