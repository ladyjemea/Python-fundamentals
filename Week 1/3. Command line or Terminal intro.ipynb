{
 "cells": [
  {
   "cell_type": "markdown",
   "id": "79f95610",
   "metadata": {},
   "source": [
    "<img src=\"LaeCodes.png\" \n",
    "     align=\"center\" \n",
    "     width=\"100\" />"
   ]
  },
  {
   "cell_type": "markdown",
   "id": "bbf0c921",
   "metadata": {},
   "source": [
    "# Command line/Terminal crash course"
   ]
  },
  {
   "cell_type": "markdown",
   "id": "11e69fe7",
   "metadata": {},
   "source": [
    "A command line/terminal helps you to programmatically move through your computer’s directories. We will use this to run some simple python scripts."
   ]
  },
  {
   "cell_type": "markdown",
   "id": "6e4c36f5",
   "metadata": {},
   "source": [
    "# Windows:\n",
    "\n",
    "- On your computer, search for the term **cmd** or **command prompt** -> click on command prompt.\n",
    "- To find where you currently are on your computer, type out **cd** and click enter and it will report your current directory (file path).\n",
    "- To list all the files in your current directory/folder, type **dir** and click enter. You get a list of all the files/folders in your current directory. To move into one of the subfolders, type **cd name_of_the_folder** (typing the first character of the folder’s name and the tab key can help complete it for you to avoid spelling errors) and click enter. It takes you into another directory. To go back to the previous directory you were in, type **cd ..** and click enter. It takes you one step up a directory.\n",
    "- The command **cls** clears the entire command line screen."
   ]
  },
  {
   "cell_type": "markdown",
   "id": "3d4705a1",
   "metadata": {},
   "source": [
    "# MacOS/Linux:\n",
    "\n",
    "- Search for **terminal** -> click on terminal.\n",
    "- To find where you currently are on your computer, type out **pwd** (print working directory) and click enter and it will report your current directory (file path).\n",
    "- To list all the files in your current directory/folder, type **ls** (list) and click enter. You get a list of all the files/folders in your current directory. To move into one of the subfolders, type **cd name_of_the_folder** (typing the first character of the folder’s name and the tab key can help complete it for you to avoid spelling errors) and click enter. It takes you into another directory. To go back to the previous directory you were in, type **cd ..** and click enter. It takes you one step up a directory.\n",
    "- The command **clear** and enter clears the entire command line screen."
   ]
  }
 ],
 "metadata": {
  "kernelspec": {
   "display_name": "Python 3 (ipykernel)",
   "language": "python",
   "name": "python3"
  },
  "language_info": {
   "codemirror_mode": {
    "name": "ipython",
    "version": 3
   },
   "file_extension": ".py",
   "mimetype": "text/x-python",
   "name": "python",
   "nbconvert_exporter": "python",
   "pygments_lexer": "ipython3",
   "version": "3.11.5"
  }
 },
 "nbformat": 4,
 "nbformat_minor": 5
}
