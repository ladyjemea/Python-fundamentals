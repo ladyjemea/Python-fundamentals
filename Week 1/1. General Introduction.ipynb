{
 "cells": [
  {
   "cell_type": "markdown",
   "id": "0475202d",
   "metadata": {},
   "source": [
    "<img src=\"LaeCodes.png\" \n",
    "     align=\"center\" \n",
    "     width=\"100\" />"
   ]
  },
  {
   "cell_type": "markdown",
   "id": "d5ab4c22",
   "metadata": {},
   "source": [
    "# Introduction"
   ]
  },
  {
   "cell_type": "markdown",
   "id": "e24b63e4",
   "metadata": {},
   "source": [
    "Hello and welcome to fundamentals of Programming in Python course. My name is Jemea Lady Limunga and I am excited to be your facilitator for this course. I am a Software Engineer with almost 5 years of full-time paid work experience.\n",
    "\n",
    "This course is for absolute beginners and individuals who want to take their basic knowledge to the next level.\n",
    "Thank you all so much for enrolling, let's have fun with Python!"
   ]
  },
  {
   "cell_type": "markdown",
   "id": "2ca24da9",
   "metadata": {},
   "source": [
    "# Important aspects\n",
    "\n",
    "The code used for examples will be handed to you. In case of errors, double check our code against yours to see if there are any typos.\n",
    "\n",
    "If you encounter errors while trying out some code of your own, a quick Google search for Python error codes can get you an answer. Send an email if you do not find a way out. \n",
    "\n",
    "When you send an email due to an error in your code, please provide as much detail as possible: a full description of the code and the problem, screenshots of the error code and the complete script you are running.\n",
    "\n",
    "Do not copy code from the internet to submit. Understanding is more important than having a perfect script.\n",
    "\n",
    "\n",
    "Course issues:\n",
    "- ladyjemea@gmail.com or info.laecodes@gmail.com"
   ]
  },
  {
   "cell_type": "markdown",
   "id": "bdf980b4",
   "metadata": {},
   "source": [
    "# How to approach the course\n",
    "\n",
    "- Read supporting text.\n",
    "- Run the code given at each step.\n",
    "- Try to rewrite the code based on your understanding.\n",
    "- Do assignments.\n",
    "- Practice on your own.\n",
    "- Collaborate with your peers.\n",
    "\n",
    "(**Follow the weekly course files chronologically**)"
   ]
  },
  {
   "cell_type": "markdown",
   "id": "8ce2cbc8",
   "metadata": {},
   "source": [
    "# Course Overview\n",
    "\n",
    "- Fundamentals of Programming curriculum document"
   ]
  }
 ],
 "metadata": {
  "kernelspec": {
   "display_name": "Python 3 (ipykernel)",
   "language": "python",
   "name": "python3"
  },
  "language_info": {
   "codemirror_mode": {
    "name": "ipython",
    "version": 3
   },
   "file_extension": ".py",
   "mimetype": "text/x-python",
   "name": "python",
   "nbconvert_exporter": "python",
   "pygments_lexer": "ipython3",
   "version": "3.11.5"
  }
 },
 "nbformat": 4,
 "nbformat_minor": 5
}
