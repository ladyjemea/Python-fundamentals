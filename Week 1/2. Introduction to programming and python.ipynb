{
 "cells": [
  {
   "cell_type": "markdown",
   "id": "dd7bc96d",
   "metadata": {},
   "source": [
    "<img src=\"LaeCodes.png\" \n",
    "     align=\"center\" \n",
    "     width=\"100\" />"
   ]
  },
  {
   "cell_type": "markdown",
   "id": "39c8f845",
   "metadata": {},
   "source": [
    "# Introduction to Programming and the Tech world\n",
    "\n",
    "Programming is the process of telling a computer which tasks to perform (giving the computer a series of commands/instructions) in a sequential manner to solve everyday problems. Programming can be found in almost everything in our daily lives from transportation, movies, health, agriculture…which makes programming very important and useful for everyone. \n",
    "\n",
    "The world of tech is fundamentally the economy itself since technology can be seen in almost all aspects of life. The tech world focuses on innovation, creation, and growth. It is the way we think, learn, and communicate. \n",
    "Becoming part of the tech world has little or nothing to do with programming; but it is an important piece to the puzzle. With the rise of AI, it is important to understand the power of computers and the tech world and to use this to our advantage. \n",
    "Technology will not go away soon, so it is important to join in and leverage its power for our own benefits."
   ]
  },
  {
   "cell_type": "markdown",
   "id": "b1746711",
   "metadata": {},
   "source": [
    "# Programming languages\n",
    "\n",
    "Programming languages are the tools used to write instructions for computers to follow. All these languages are translated to ‘The Computer’s native tongue’ – Binary (0,1). Binary is the only language a computer really understands with 1 representing the state of ON and 0 representing the state of OFF on the switches on a CPU chip. When combined, the on and off switches represent data and instructions on how to complete tasks and calculations. Programming languages help us convert these ones and zeros into something humans can understand."
   ]
  },
  {
   "cell_type": "markdown",
   "id": "5cd37990",
   "metadata": {},
   "source": [
    "# Classifications of Programming languages\n",
    "\n",
    "- Low level – Languages closer to machine code eg. Binary, Assembly language. They are faster inexecution and gives the programmer precise control over how the computer will function.\n",
    "\n",
    "- High level – Languages closer to how humans communicate eg. Python, Java, C++. They are easier to use because they use words in their instructions closer to words, we use every day. The downside is the execution speed since they must be translated (compiled/interpreted) to machine code for execution.\n",
    "\n",
    "With advancement in technology, the difference in compilation time for low- and high-level languages is reducing which makes high level languages more in demand.\n",
    "There are several high-level languages to choose from depending on your needs. Most languages can be used at will but as you get better with programming, you will be able to choose depending on the current project or task you are working on.\n",
    "\n",
    "Python – General purpose programming language best suited for data science, machine learning and web development.\n",
    "Java - General purpose programming language best suited for mobile applications (android) and software development.\n",
    "C++ - Best suited for game development, robotics, scientific computing, and virtual reality (VR).\n",
    "\n",
    "Programming languages can also be classified into compiled and interpreted languages. Compilers and interpreters take human readable code and translate it to machine code.\n",
    "\n",
    "- Compiled programming languages: Compiled languages are converted directly into machine code that the processor can execute (an executable). As a result, they tend to be faster and more efficient since they only need to be compiled once. Compiled languages need to be compiled (built) every time you make a change. They are more suitable for single platform use. Examples include C, C++, Go, Rust.\n",
    "\n",
    "- Interpreted programming languages: Interpreters run through a program line by line and executes each command. No executable file is created and the conversion to machine code is done on the fly. Interpreted languages were significantly slower than compiled languages but with the development of just-in-time-compilation, the time difference is reducing. They are suitable for cross platform use. Examples include Python, Ruby, JavaScript, PHP."
   ]
  },
  {
   "cell_type": "markdown",
   "id": "3b3a0ef8",
   "metadata": {},
   "source": [
    "# Benefits of Programming/Coding\n",
    "\n",
    "- It enhances your problem-solving skills by improving your logical thinking. \n",
    "- It can help you understand technology.\n",
    "- It helps your creativity by coming up with solutions to problems.\n",
    "- It helps you to be persistent and develop resilience. \n",
    "- It helps you become better at math.\n",
    "- Job satisfaction when creating and implementing software.\n",
    "- More opportunities to work remotely and freelance opportunities.\n",
    "- More job opportunities.\n",
    "- Higher average salaries and earning potential 😊"
   ]
  },
  {
   "cell_type": "markdown",
   "id": "0b665814",
   "metadata": {},
   "source": [
    "# Why Python Programming\n",
    "\n",
    "Python is a high-level, object-oriented interpreted programming language. By 2020, Python became the fastest growing language and one of the most popular. Some of the reasons why Python is so popular and advisable to learn are:\n",
    "\n",
    "- The simple syntax makes it easy to learn and use.\n",
    "- Python is used by many startups and big tech companies like Amazon, Facebook, Google, Netflix, Tesla, YouTube and ChatGPT. This results in career opportunities and competitive salaries. \n",
    "- It is widely used for Data Science due to several libraries like Pandas, PyTorch, Matplotlib and TensorFlow. It also provides extensive visualization graphics useful when analysing data.\n",
    "- It is also widely used in web development with frameworks like Django and Flask.\n",
    "- It can be used to automate tasks to simplify your everyday lives.\n",
    "- Python has a wide range of frameworks, modules, libraries and packages for web development, data science, machine learning and statistics.\n",
    "- It is portable and can be integrated with C/C++ or Java libraries.\n",
    "- Unit tests are easier with Python, so it is beginner friendly.\n",
    "- There is a lot of help online and an active Python community."
   ]
  }
 ],
 "metadata": {
  "kernelspec": {
   "display_name": "Python 3 (ipykernel)",
   "language": "python",
   "name": "python3"
  },
  "language_info": {
   "codemirror_mode": {
    "name": "ipython",
    "version": 3
   },
   "file_extension": ".py",
   "mimetype": "text/x-python",
   "name": "python",
   "nbconvert_exporter": "python",
   "pygments_lexer": "ipython3",
   "version": "3.11.5"
  }
 },
 "nbformat": 4,
 "nbformat_minor": 5
}
