{
 "cells": [
  {
   "cell_type": "markdown",
   "id": "7d21f4a4",
   "metadata": {},
   "source": [
    "<img src=\"LaeCodes.png\" \n",
    "     align=\"center\" \n",
    "     width=\"100\" />"
   ]
  },
  {
   "cell_type": "markdown",
   "id": "221e7813",
   "metadata": {},
   "source": [
    "# Python Syntax (High level)"
   ]
  },
  {
   "cell_type": "markdown",
   "id": "34346901",
   "metadata": {},
   "source": [
    "Syntax are a set of rules used to create a computer program. The Python Syntax is straightforward and easy to understand making it is a beginner friendly language. It is composed of several statements. A statement is a single line of code that the interpreter can execute. The Python syntax has similarities to Perl, JavaScript and Java."
   ]
  },
  {
   "cell_type": "markdown",
   "id": "2dc7dea0",
   "metadata": {},
   "source": [
    "**Print()**\n",
    "\n",
    "The **print** statement (function) is usually the starter for most programming languages. **Print()** helps you display the information in  the parentheses to the screen and can even help find bugs and errors in your code. If nothing is put in the parenthesis and the program is run, a blank line will appear on your screen (an invisible new line). Even if you do not pass any arguments to the print() function, you still need the parenthesis so python does not confuse it for some random text."
   ]
  },
  {
   "cell_type": "code",
   "execution_count": 4,
   "id": "6aec8a67",
   "metadata": {},
   "outputs": [
    {
     "name": "stdout",
     "output_type": "stream",
     "text": [
      "Hello!\n"
     ]
    }
   ],
   "source": [
    "print('Hello!')"
   ]
  },
  {
   "cell_type": "markdown",
   "id": "69ac0b84",
   "metadata": {},
   "source": [
    "The above code snippet shows **Hello!** on the screen."
   ]
  },
  {
   "cell_type": "markdown",
   "id": "1f2aad85",
   "metadata": {},
   "source": [
    "**Indentation**\n",
    "\n",
    "Indentation refers to the leading whitespaces at the beginning of a python statement. In many other programming languages, indentation is useful for code readability. In Python, indentation is used for code readability and to indicate blocks of code. Python uses four spaces or tab for indentation but a minimum of one space can be used to indent a statement. The first line of code cannot be indented."
   ]
  },
  {
   "cell_type": "markdown",
   "id": "f7d2383e",
   "metadata": {},
   "source": [
    "No indent"
   ]
  },
  {
   "cell_type": "code",
   "execution_count": 11,
   "id": "a90c14ad",
   "metadata": {},
   "outputs": [
    {
     "name": "stdout",
     "output_type": "stream",
     "text": [
      "30\n"
     ]
    }
   ],
   "source": [
    "num1 = 10\n",
    "num2 = 20\n",
    "total = num1 + num2\n",
    "print(total)"
   ]
  },
  {
   "cell_type": "markdown",
   "id": "a3f2f6e5",
   "metadata": {},
   "source": [
    "The code snippet above shows a simple program to add two numbers, there is no indentation on any of the code lines so Python will execute the program from up to down."
   ]
  },
  {
   "cell_type": "markdown",
   "id": "c3bdf664",
   "metadata": {},
   "source": [
    "Indent"
   ]
  },
  {
   "cell_type": "code",
   "execution_count": 15,
   "id": "10e8b0f5",
   "metadata": {},
   "outputs": [
    {
     "name": "stdout",
     "output_type": "stream",
     "text": [
      "total is greater than 20\n"
     ]
    }
   ],
   "source": [
    "if total > 20:\n",
    "    print('total is greater than 20')"
   ]
  },
  {
   "cell_type": "markdown",
   "id": "12d0c742",
   "metadata": {},
   "source": [
    "The indentation above signifies a block of code. Python will raise an error if we skip the indentation. The second line will only be executed if the first line is true. Else, python goes out of the code block and continues the code execution."
   ]
  },
  {
   "cell_type": "markdown",
   "id": "2ba961f2",
   "metadata": {},
   "source": [
    "Indentation error"
   ]
  },
  {
   "cell_type": "code",
   "execution_count": 7,
   "id": "677fc416",
   "metadata": {},
   "outputs": [
    {
     "ename": "IndentationError",
     "evalue": "expected an indented block after 'if' statement on line 5 (536709116.py, line 6)",
     "output_type": "error",
     "traceback": [
      "\u001b[0;36m  Cell \u001b[0;32mIn[7], line 6\u001b[0;36m\u001b[0m\n\u001b[0;31m    print('total is greater than 20')\u001b[0m\n\u001b[0m    ^\u001b[0m\n\u001b[0;31mIndentationError\u001b[0m\u001b[0;31m:\u001b[0m expected an indented block after 'if' statement on line 5\n"
     ]
    }
   ],
   "source": [
    "num1 = 10\n",
    "num2 = 20\n",
    "total = num1 + num2\n",
    "\n",
    "if total > 20:\n",
    "print('total is greater than 20')"
   ]
  },
  {
   "cell_type": "markdown",
   "id": "d89fa500",
   "metadata": {},
   "source": [
    "Not indenting properly causes errors and bugs in your code."
   ]
  },
  {
   "cell_type": "markdown",
   "id": "b36d2793",
   "metadata": {},
   "source": [
    "**Comments**\n",
    "\n",
    "Comments help us make notes alongside our code. They can be used to describe the code to increase readability. They are called Markdown texts in Jupyter Notebooks. Comments are not executed by the interpreter when the code is run.\n",
    "They can be single line comments or multiline comments. A single line comment starts with the hash (**#**) key while multiline comments are put between triple codes **‘’’lines of code’’’**. In order to comment on multiple lines at once in Jupyter Notebook, you have to select the required lines and then press the **Ctrl + /** ."
   ]
  },
  {
   "cell_type": "code",
   "execution_count": 8,
   "id": "d60da9ea",
   "metadata": {},
   "outputs": [],
   "source": [
    "# this is a single line comment"
   ]
  },
  {
   "attachments": {
    "image.png": {
     "image/png": "[encoded data removed]"
    }
   },
   "cell_type": "markdown",
   "id": "1adc545b",
   "metadata": {},
   "source": [
    "![image.png](attachment:image.png)"
   ]
  },
  {
   "cell_type": "markdown",
   "id": "dc32074b",
   "metadata": {},
   "source": [
    "Adding extensive text to Jupyter notebooks can be done using **Markdown** from the dropdown list"
   ]
  },
  {
   "attachments": {
    "image.png": {
     "image/png": "[encoded data removed]"
    }
   },
   "cell_type": "markdown",
   "id": "d22038e2",
   "metadata": {},
   "source": [
    "![image.png](attachment:image.png)"
   ]
  },
  {
   "cell_type": "markdown",
   "id": "804e39ba",
   "metadata": {},
   "source": [
    "**Pseudocode**\n",
    "\n",
    "Pseudocode is not specific to Python, but it is a way of representing code in human readable form. It is used to plan out the logic and flow of a program before translating it into actual code. Pseudocode uses a combination of natural language and programming-like-syntax to describe the steps and flow of a program. When writing pseudocode, the emphasis should be on the high-level details and not on strict syntax rules. It is particularly recommended for collaborative work since it can be easily understood by people with varying levels of programming.\n",
    "We will be using Pseudocode throughout this course, and it will be a deliverable for every programming exercise. \n",
    "\n",
    "Example: Write a program to add two numbers <br>\n",
    "Pseudocode: <br>\n",
    "\n",
    "Input first number <br>\n",
    "Input second number <br>\n",
    "Add the first and second number and store this result in a variable <br>\n",
    "Display the sum of both numbers."
   ]
  },
  {
   "cell_type": "code",
   "execution_count": 9,
   "id": "c31adb37",
   "metadata": {},
   "outputs": [
    {
     "name": "stdout",
     "output_type": "stream",
     "text": [
      "8\n"
     ]
    }
   ],
   "source": [
    "#Python code\n",
    "\n",
    "\n",
    "num1 = 5\n",
    "num2 = 3\n",
    "\n",
    "addition = num1 + num2\n",
    "print(addition)"
   ]
  }
 ],
 "metadata": {
  "kernelspec": {
   "display_name": "Python 3 (ipykernel)",
   "language": "python",
   "name": "python3"
  },
  "language_info": {
   "codemirror_mode": {
    "name": "ipython",
    "version": 3
   },
   "file_extension": ".py",
   "mimetype": "text/x-python",
   "name": "python",
   "nbconvert_exporter": "python",
   "pygments_lexer": "ipython3",
   "version": "3.11.5"
  }
 },
 "nbformat": 4,
 "nbformat_minor": 5
}
