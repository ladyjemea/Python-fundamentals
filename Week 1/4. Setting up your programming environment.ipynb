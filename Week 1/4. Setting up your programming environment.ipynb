{
 "cells": [
  {
   "cell_type": "markdown",
   "id": "4c000862",
   "metadata": {},
   "source": [
    "<img src=\"LaeCodes.png\" \n",
    "     align=\"center\" \n",
    "     width=\"100\" />"
   ]
  },
  {
   "cell_type": "markdown",
   "id": "85125fd5",
   "metadata": {},
   "source": [
    "# Installing Python"
   ]
  },
  {
   "cell_type": "markdown",
   "id": "0748486c",
   "metadata": {},
   "source": [
    "There are several ways to run your python code, but we will explore 3 options and we will only use and accept two of them for this course.\n",
    "\n",
    "- Anaconda distribution of Python\n",
    "- Downloading Python locally on your computer\n",
    "- No install options to run python code"
   ]
  },
  {
   "cell_type": "markdown",
   "id": "2230d07b",
   "metadata": {},
   "source": [
    "# Installing Python with the free Anaconda distribution\n",
    "\n",
    "It is free and open source, and it includes Python and the Jupyter notebook environment which we will use for coding in this course. It can be installed on any major OS: Windows, MacOS, Linux.\n",
    "\n",
    "- Go to **www.anaconda.com/downloads**\n",
    "- Find the installers for Windows, MacOS and Linux\n",
    "- Download the 64-Bit graphical installer for Windows, the 64-Bit graphical installer for Mac and the 64-Bit(x86) installer for Linux.\n",
    "- **docs.anaconda.com/anaconda/install/** gives you a step-by-step guide on installing Anaconda for your OS.\n",
    "- Once downloaded, click on the executable file you downloaded and install. It is ok to accept all the default properties and destination folder. \n",
    "- For Windows users, if this is your first installation of Python on your computer and you intend to use this distribution of Anaconda as your main source for running Python code, it is recommended to **Add Anaconda to your Path** during installation. In this way, every time you run a python command, it finds the Anaconda installation first. If you already have Python installed, you can choose to leave it out. If you are unsure, add it to your path. You can always go back and change this.\n",
    "- Click on **Install** and finish the setup. "
   ]
  },
  {
   "cell_type": "markdown",
   "id": "65eee902",
   "metadata": {},
   "source": [
    "**Runing Anaconda through the Anaconda navigator:**\n",
    "\n",
    "- Search your computer for **Anaconda Navigator**, click on the Anaconda navigator app and let it initialize.\n",
    "- Anaconda navigator can be thought of like the *home* for launching environments for running your python code. It hosts the Jupyter Notebook; one of the coding environments for this course. \n",
    "- In the Anaconda navigator, you will find other applications hosted by Anaconda. Find Jupyter Notebook and click on **Launch** (Feel free to explore the Anaconda navigator at will).\n",
    "- On launching the notebook, it opens on your default browser. Jupyter uses the browser as a visual interface to write code in and can work without the internet. It launches in your main user drive, and you should be able to see all the files and folders in that drive. You can navigate the files and folders in your computer from this view.\n",
    "- You can create new folders and notebooks from this view as well. Click on **New** and choose **Folder**. Rename the folder **Python fundamentals**. While in the new Python fundamentals folder, click on **New -> Notebook -> Python 3.** This automatically launches and connects to a new notebook."
   ]
  },
  {
   "cell_type": "markdown",
   "id": "fd8b15e3",
   "metadata": {},
   "source": [
    "**The Jupyter Notebook**\n",
    "\n",
    "It is an open-source web application that allows you to create and share documents that contain inline markdown notes (text), code, images, videos, visualizations, and equations. It can be used for documentation, data cleaning and analysis, writing code, Machine learning and much more. It is an environment with individual cells where you can write Python code. It is good for beginners because you get to see the output immediately, you can easily spot errors, track individual cells, and have clear notes and code in the same place.\n",
    "\n",
    "With the Jupyter notebook, you can choose to run individual cells or the entire program. (**Shift + Enter** runs an individual cell and creates a new cell below. Feel free to get a user interface tour of the Jupyter notebook with the **Help** tab.\n",
    "Close the notebook tab and make sure to shut it down in the folder when you are done with the notebook. The code and text are saved automatically.\n",
    "\n",
    "You can delete, duplicate, move, edit, view, and download a notebook. You can also delete the parent folder, but you need to delete all the files in the folder first before Jupyter allows you to delete the folder. \n",
    "Because notebooks support extra functionalities, their file format is **.ipynb** (i-python notebook) and not **.py** which python scripts use. "
   ]
  },
  {
   "cell_type": "markdown",
   "id": "4c5b93d9",
   "metadata": {},
   "source": [
    "# Downloading Python locally on your computer\n",
    "\n",
    "- Go to your browser of choice and enter **python.org/downloads/**\n",
    "- Download the latest version of Python for your OS\n",
    "- Run the executable file\n",
    "- For Windows Users, if this is going to be the main Python distribution you use, make sure to **add it to your path** when installing.\n",
    "- It is advisable to keep the default installation options as they are and make sure to check the **Install Python 3 for all users**\n",
    "- Click on **Install**\n",
    "- To check if Python was installed, go to your **command prompt**, and enter **python** or to your **terminal**, and enter **python3 --version**. If properly installed, the python version will be shown in the prompt and a Python shell will start (for Windows). This can enable you write and run simple Python code. You can find a separate Python shell by simply searching for **IDLE** on your computer. To write more complex python code, use a source code editor, create, and save a file with **filename.py**. (.py tells the interpreter it is python code)"
   ]
  },
  {
   "cell_type": "markdown",
   "id": "abfa0b06",
   "metadata": {},
   "source": [
    "**Installing a source code editor for running python code**\n",
    "\n",
    "A source code editor is a text editor program designed for editing computer program’s source code. It is programming language sensitive and provides help like highlighting, auto completion and error detection when writing code.\n",
    "Examples include Atom, Sublime text, Visual studio code, vim, etc.\n",
    "The source code editor of choice for this course is **Visual Studio Code.**"
   ]
  },
  {
   "cell_type": "markdown",
   "id": "07b9dbc8",
   "metadata": {},
   "source": [
    "**Visual Studio Code installation and setup for running Python**\n",
    "\n",
    "VS Code is a source code editor made by Microsoft and optimized for building modern applications.\n",
    "To install VS code:\n",
    "\n",
    "- Go to the official website – **code.visualstudio.com**\n",
    "- Download the latest version of VS code for your OS.\n",
    "- Run the executable and **add to PATH** for Windows users (default suggestions are recommended).\n",
    "- When Visual Studio installs completely, go to the **Extensions** menu and search **Python**. Install the version by Microsoft. This will enable you to run your Python code.\n",
    "\n",
    "On your computer, open your C drive and create a folder called **Python fundamentals**. This is where you will save all the files and folders for this course. Choose the development environment of your choice and let’s start writing python code!"
   ]
  },
  {
   "cell_type": "markdown",
   "id": "158bcacf",
   "metadata": {},
   "source": [
    "# No install options to run python code\n",
    "\n",
    "A quick Google search will give you dozens of online Python interpreters. For this course, we will use either the Jupyter notebooks or locally installed python programming environments, but these online features are nice to know. \n",
    "\n",
    "A few No install options include:\n",
    "\n",
    "- Repl.it\n",
    "- Jupyter.org/try\n",
    "- Google Collab online notebooks – you need a Google account for this.\n",
    "- W3Schools …\n",
    "\n",
    "They are useful for running simple Python code when you do not have access to your computer now and can also be very useful for collaboration with others."
   ]
  }
 ],
 "metadata": {
  "kernelspec": {
   "display_name": "Python 3 (ipykernel)",
   "language": "python",
   "name": "python3"
  },
  "language_info": {
   "codemirror_mode": {
    "name": "ipython",
    "version": 3
   },
   "file_extension": ".py",
   "mimetype": "text/x-python",
   "name": "python",
   "nbconvert_exporter": "python",
   "pygments_lexer": "ipython3",
   "version": "3.11.5"
  }
 },
 "nbformat": 4,
 "nbformat_minor": 5
}
