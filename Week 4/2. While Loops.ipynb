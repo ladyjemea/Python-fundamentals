{
 "cells": [
  {
   "cell_type": "markdown",
   "id": "570875b9",
   "metadata": {},
   "source": [
    "<img src=\"LaeCodes.png\" \n",
    "     align=\"center\" \n",
    "     width=\"100\" />"
   ]
  },
  {
   "cell_type": "markdown",
   "id": "a3e95d9a",
   "metadata": {},
   "source": [
    "# While loops:\n",
    "\n",
    "A While loops in Python is a control flow statement that repeatedly executes a block of code if a given condition is true. The while loop is used when you want to repeat some actions, but the number of iterations needed is not known before the loop starts. It differs from the for loop in that, in the for loop, the number of iterations is determined by the elements in the sequence being iterated over."
   ]
  },
  {
   "attachments": {
    "image.png": {
     "image/png": "[encoded data removed]"
    }
   },
   "cell_type": "markdown",
   "id": "7af273d1",
   "metadata": {},
   "source": [
    "![image.png](attachment:image.png)"
   ]
  },
  {
   "cell_type": "markdown",
   "id": "25f050ce",
   "metadata": {},
   "source": [
    "- While is a python keyword used for while loops. <br>\n",
    "- Condition is a Boolean expression. The loop continues to execute if the condition evaluates to True. It is important to ensure that the condition eventually becomes false to avoid creating an infinite loop, causing the program to run indefinitely. <br>\n",
    "- Statement(s) is a block of code to be executed.\n",
    "<br><br>\n",
    "Example:"
   ]
  },
  {
   "cell_type": "code",
   "execution_count": 1,
   "id": "44387275",
   "metadata": {},
   "outputs": [
    {
     "name": "stdout",
     "output_type": "stream",
     "text": [
      "1\n",
      "2\n",
      "3\n"
     ]
    }
   ],
   "source": [
    "number = 1 \n",
    "\n",
    "while number <= 3: \n",
    "    print(number)\n",
    "    number += 1  "
   ]
  },
  {
   "cell_type": "markdown",
   "id": "2630e756",
   "metadata": {},
   "source": [
    "For every iteration, number is incremented until the condition becomes false and the control comes out of the loop.\n",
    "<br><br>\n",
    "**The Break statement:**\n",
    "<br>\n",
    "With the break statement, we can stop the loop even if the while condition is true. The loop is exited, and the execution continues with the first statement following the loop."
   ]
  },
  {
   "cell_type": "code",
   "execution_count": 3,
   "id": "90ff052a",
   "metadata": {},
   "outputs": [
    {
     "name": "stdout",
     "output_type": "stream",
     "text": [
      "1\n",
      "2\n",
      "3\n"
     ]
    }
   ],
   "source": [
    "number = 1\n",
    "\n",
    "while True:\n",
    "    if number > 3:\n",
    "        break \n",
    "    print(number)\n",
    "    number += 1"
   ]
  },
  {
   "cell_type": "markdown",
   "id": "2037ea97",
   "metadata": {},
   "source": [
    "The break statement here prevents an infinite loop since the condition is always True.\n",
    "<br><br>\n",
    "**The Continue statement:**\n",
    "<br>\n",
    "With the continue statement, we can stop the current iteration and continue to the next. It skips the rest of the code inside the loop for the current iteration and moves to the next iteration of the loop."
   ]
  },
  {
   "cell_type": "code",
   "execution_count": 3,
   "id": "ecba84b5",
   "metadata": {},
   "outputs": [
    {
     "name": "stdout",
     "output_type": "stream",
     "text": [
      "1\n",
      "2\n",
      "4\n",
      "5\n",
      "6\n"
     ]
    }
   ],
   "source": [
    "number = 0\n",
    "while number < 6:\n",
    "  number += 1\n",
    "  if number == 3:\n",
    "    continue\n",
    "  print(number)"
   ]
  },
  {
   "cell_type": "markdown",
   "id": "e38b321b",
   "metadata": {},
   "source": [
    "**The Else statement:**\n",
    "<br>\n",
    "With the else statement, we can run a block of code once the condition is no longer true."
   ]
  },
  {
   "cell_type": "code",
   "execution_count": 4,
   "id": "1d43aa9e",
   "metadata": {},
   "outputs": [
    {
     "name": "stdout",
     "output_type": "stream",
     "text": [
      "1\n",
      "2\n",
      "number is no longer less than 3\n"
     ]
    }
   ],
   "source": [
    "number = 1\n",
    "while number < 3:\n",
    "  print(number)\n",
    "  number += 1\n",
    "else:\n",
    "  print(\"number is no longer less than 3\")"
   ]
  }
 ],
 "metadata": {
  "kernelspec": {
   "display_name": "Python 3 (ipykernel)",
   "language": "python",
   "name": "python3"
  },
  "language_info": {
   "codemirror_mode": {
    "name": "ipython",
    "version": 3
   },
   "file_extension": ".py",
   "mimetype": "text/x-python",
   "name": "python",
   "nbconvert_exporter": "python",
   "pygments_lexer": "ipython3",
   "version": "3.11.5"
  }
 },
 "nbformat": 4,
 "nbformat_minor": 5
}
