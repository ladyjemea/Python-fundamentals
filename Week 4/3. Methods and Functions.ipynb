{
 "cells": [
  {
   "cell_type": "markdown",
   "id": "76126e1e",
   "metadata": {},
   "source": [
    "<img src=\"LaeCodes.png\" \n",
    "     align=\"center\" \n",
    "     width=\"100\" />"
   ]
  },
  {
   "cell_type": "markdown",
   "id": "81f97537",
   "metadata": {},
   "source": [
    "# Methods and Functions:\n",
    "\n",
    "Methods and functions in programming are blocks of code designed to do specific tasks. They are similar in many ways but there are some differences like:\n",
    "<br>\n",
    "\n",
    "- Definition and Invocation: Functions are defined outside of classes and are called by their name. Methods are defined within a class and are called on an object, which is passed implicitly to the method. <br>\n",
    "- Relationship: Functions can exist on their own, whereas methods are always associated with an object or class. <br>\n",
    "- Parameter: The first parameter of a method in a class must be the object itself, conventionally named self, while a function does not automatically pass any object. <br>\n",
    "- Scope: Functions can be used for general-purpose tasks not related to any specific object, while methods are used to manipulate the internal state of an object or perform operations related to it. <br><br>"
   ]
  }
 ],
 "metadata": {
  "kernelspec": {
   "display_name": "Python 3 (ipykernel)",
   "language": "python",
   "name": "python3"
  },
  "language_info": {
   "codemirror_mode": {
    "name": "ipython",
    "version": 3
   },
   "file_extension": ".py",
   "mimetype": "text/x-python",
   "name": "python",
   "nbconvert_exporter": "python",
   "pygments_lexer": "ipython3",
   "version": "3.11.5"
  }
 },
 "nbformat": 4,
 "nbformat_minor": 5
}
