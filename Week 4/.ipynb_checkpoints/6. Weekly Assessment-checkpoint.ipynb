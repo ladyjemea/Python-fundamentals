{
 "cells": [
  {
   "cell_type": "markdown",
   "id": "fd5da800",
   "metadata": {},
   "source": [
    "<img src=\"LaeCodes.png\" \n",
    "     align=\"center\" \n",
    "     width=\"100\" />"
   ]
  },
  {
   "cell_type": "markdown",
   "id": "80131d9b",
   "metadata": {},
   "source": [
    "## Weekly Assessment:"
   ]
  },
  {
   "cell_type": "markdown",
   "id": "593b79a9",
   "metadata": {},
   "source": [
    "- Write a for loop that calculates the sum of all numbers from 1 to 100, including both 1 and 100.\n",
    "- Write a for loop that calculates the factorial of a given number n. The factorial of n (denoted as n!) is the product of all positive integers less than or equal to n.\n",
    "- Use a for loop to reverse a given string. For example, if the input string is \"hello\", the output should be \"olleh\".\n",
    "- Write a program that counts down from 10 to 1 and then prints \"Liftoff!\". <br>\n",
    "Use a while loop to decrease the count and print to display each count.<br>\n",
    "After the loop finishes, print \"Liftoff!\".\n",
    "- Create a program that prints all even numbers from 2 to 20, inclusive. <br>\n",
    "Initialize a variable at 2 and use a while loop to keep printing if the number is less than or equal to 20. <br>\n",
    "Inside the loop, print the number and then increase it by 2 each time (to skip odd numbers)."
   ]
  }
 ],
 "metadata": {
  "kernelspec": {
   "display_name": "Python 3 (ipykernel)",
   "language": "python",
   "name": "python3"
  },
  "language_info": {
   "codemirror_mode": {
    "name": "ipython",
    "version": 3
   },
   "file_extension": ".py",
   "mimetype": "text/x-python",
   "name": "python",
   "nbconvert_exporter": "python",
   "pygments_lexer": "ipython3",
   "version": "3.11.5"
  }
 },
 "nbformat": 4,
 "nbformat_minor": 5
}
