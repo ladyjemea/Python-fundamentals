{
 "cells": [
  {
   "cell_type": "markdown",
   "id": "cdb0e3c6",
   "metadata": {},
   "source": [
    "<img src=\"LaeCodes.png\" \n",
    "     align=\"center\" \n",
    "     width=\"100\" />"
   ]
  },
  {
   "attachments": {
    "image.png": {
     "image/png": "[encoded data removed]"
    }
   },
   "cell_type": "markdown",
   "id": "3d5ea383",
   "metadata": {},
   "source": [
    "# Methods in Python:\n",
    "\n",
    "Methods are functions defined within a class. They are used to define the behavior of an object created from that class. Unlike standalone functions, methods are always associated with a class/object. Methods are a fundamental part of Python's class system, allowing for encapsulation and the bundling of data and functionality. \n",
    "\n",
    "**Key Characteristics:**\n",
    "<br><br>\n",
    "• **Bound to an Object:** Methods are bound to the objects for which they are called, allowing them to access and manipulate the object's data attributes and other methods.\n",
    "<br>\n",
    "• **First Argument is self:** In instance methods, the first argument is always self, which is a reference to the instance calling the method. This allows the method to access the object’s attributes and other methods freely.\n",
    "<br>\n",
    "• **Can Accept More Arguments:** Besides self, methods can accept more arguments to perform operations.\n",
    "<br>\n",
    "\n",
    "**Creating a method:**\n",
    "<br>\n",
    "Methods are defined similarly to functions, but they are defined within a class and are used to define the behavior of an object. They are called on objects and can access and modify the state of the object, which is an instance if the class. With methods, you can encapsulate behavior within a class, making the code modular and object-oriented.\n",
    "\n",
    "![image.png](attachment:image.png)\n",
    "\n",
    "**Calling a Method:**\n",
    "<br>\n",
    "To use a method, we need to call it. We call the method just like a function but since methods are associated with a class/object, we need to use a class/object name and a dot operator to call it.\n",
    "<br><br>\n",
    "**Example:**"
   ]
  },
  {
   "cell_type": "code",
   "execution_count": 1,
   "id": "e8f6233e",
   "metadata": {},
   "outputs": [
    {
     "data": {
      "text/plain": [
       "5"
      ]
     },
     "execution_count": 1,
     "metadata": {},
     "output_type": "execute_result"
    }
   ],
   "source": [
    "class Addition:\n",
    "    def add(self, num1, num2):\n",
    "        return num1 + num2\n",
    "\n",
    "# Create an instance of Addition\n",
    "add1 = Addition() \n",
    "\n",
    "#Call the method\n",
    "add1.add(2,3)"
   ]
  },
  {
   "cell_type": "markdown",
   "id": "db4940ea",
   "metadata": {},
   "source": [
    "**Types of Methods:**\n",
    "<br><br>\n",
    "1. **Instance Methods:** The most common type of method. Operate on an instance of the class and have access to the instance (self) and its attributes. Used for the majority of class interactions.\n",
    "2. **Class Methods:** Bound to the class rather than the instance. They can modify class state that applies across all instances of the class. Defined with the @classmethod decorator, and the first argument is cls, referring to the class itself.\n",
    "3. **Static Methods:** Don’t modify class or instance state. They are limited in what data they can access - only what is passed to them. They're defined with the @staticmethod decorator and do not take a self or cls parameter. Useful for utility functions that perform a task in isolation.\n",
    "<br><br>\n",
    "**Example:**"
   ]
  },
  {
   "cell_type": "code",
   "execution_count": 2,
   "id": "3b087c60",
   "metadata": {},
   "outputs": [],
   "source": [
    "class MyClassName:\n",
    "    # Instance method\n",
    "    def instance_method(self, arg1):\n",
    "        self.arg1 = arg1\n",
    "        return self.arg1\n",
    "\n",
    "    # Class method\n",
    "    @classmethod\n",
    "    def class_method(cls, arg1):\n",
    "        cls.arg1 = arg1\n",
    "        return cls.arg1\n",
    "\n",
    "    # Static method\n",
    "    @staticmethod\n",
    "    def static_method(arg1):\n",
    "        return arg1"
   ]
  },
  {
   "cell_type": "markdown",
   "id": "9ea2463e",
   "metadata": {},
   "source": [
    "• Instance methods are called on an object and can access the object and its attributes.\n",
    "<br>\n",
    "• Class methods are called on the class and can modify class state.\n",
    "<br>\n",
    "• Static methods act like regular functions but belong to the class's namespace."
   ]
  }
 ],
 "metadata": {
  "kernelspec": {
   "display_name": "Python 3 (ipykernel)",
   "language": "python",
   "name": "python3"
  },
  "language_info": {
   "codemirror_mode": {
    "name": "ipython",
    "version": 3
   },
   "file_extension": ".py",
   "mimetype": "text/x-python",
   "name": "python",
   "nbconvert_exporter": "python",
   "pygments_lexer": "ipython3",
   "version": "3.11.5"
  }
 },
 "nbformat": 4,
 "nbformat_minor": 5
}
