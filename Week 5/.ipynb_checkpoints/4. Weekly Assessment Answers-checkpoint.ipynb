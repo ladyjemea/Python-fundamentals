{
 "cells": [
  {
   "cell_type": "markdown",
   "id": "5468e8fd",
   "metadata": {},
   "source": [
    "<img src=\"LaeCodes.png\" \n",
    "align=\"center\" \n",
    "width=\"100\" />"
   ]
  },
  {
   "cell_type": "markdown",
   "id": "b7a97739",
   "metadata": {},
   "source": [
    "## Weekly Assessment:"
   ]
  },
  {
   "cell_type": "code",
   "execution_count": 1,
   "id": "723f30d7",
   "metadata": {},
   "outputs": [
    {
     "name": "stdout",
     "output_type": "stream",
     "text": [
      "The sum is: 5050\n"
     ]
    }
   ],
   "source": [
    "# Write a for loop that calculates the sum of all numbers from 1 to 100, including both 1 and 100.\n",
    "\n",
    "total_sum = 0\n",
    "for num in range(1, 101):\n",
    "    total_sum += num\n",
    "\n",
    "print(\"The sum is:\", total_sum)"
   ]
  },
  {
   "cell_type": "code",
   "execution_count": 2,
   "id": "c28f0a99",
   "metadata": {},
   "outputs": [
    {
     "name": "stdout",
     "output_type": "stream",
     "text": [
      "Enter a number: 3\n",
      "The factorial of 3 is: 6\n"
     ]
    }
   ],
   "source": [
    "# Write a for loop that calculates the factorial of a given number n. The factorial of n (denoted as n!) is the product of all positive integers less than or equal to n.\n",
    "\n",
    "n = int(input(\"Enter a number: \"))\n",
    "\n",
    "factorial = 1\n",
    "\n",
    "for i in range(1, n + 1):\n",
    "    factorial *= i\n",
    "\n",
    "print(\"The factorial of\", n, \"is:\", factorial)"
   ]
  },
  {
   "cell_type": "code",
   "execution_count": 3,
   "id": "f8ee6a2b",
   "metadata": {},
   "outputs": [
    {
     "name": "stdout",
     "output_type": "stream",
     "text": [
      "Enter a string: error\n",
      "Reversed string: rorre\n"
     ]
    }
   ],
   "source": [
    "# Use a for loop to reverse a given string. For example, if the input string is \"hello\", the output should be \"olleh\".\n",
    "\n",
    "input_string = input(\"Enter a string: \")\n",
    "reversed_string = \"\"\n",
    "\n",
    "for char in input_string:\n",
    "    reversed_string = char + reversed_string\n",
    "\n",
    "print(\"Reversed string:\", reversed_string)"
   ]
  },
  {
   "cell_type": "markdown",
   "id": "d1f210f8",
   "metadata": {},
   "source": [
    "- Write a program that counts down from 10 to 1 and then prints \"Liftoff!\".\n",
    "Use a while loop to decrease the count and print to display each count.\n",
    "After the loop finishes, print \"Liftoff!\"."
   ]
  },
  {
   "cell_type": "code",
   "execution_count": 5,
   "id": "a454ddb1",
   "metadata": {},
   "outputs": [
    {
     "name": "stdout",
     "output_type": "stream",
     "text": [
      "10\n",
      "9\n",
      "8\n",
      "7\n",
      "6\n",
      "5\n",
      "4\n",
      "3\n",
      "2\n",
      "1\n",
      "Liftoff!\n"
     ]
    }
   ],
   "source": [
    "# Write a program that counts down from 10 to 1 and then prints \"Liftoff!\".\n",
    "# Use a while loop to decrease the count and print to display each count.\n",
    "\n",
    "count = 10\n",
    "\n",
    "while count > 0:\n",
    "    print(count)\n",
    "    count -= 1\n",
    "\n",
    "print(\"Liftoff!\")"
   ]
  },
  {
   "cell_type": "code",
   "execution_count": 4,
   "id": "1698861a",
   "metadata": {},
   "outputs": [
    {
     "name": "stdout",
     "output_type": "stream",
     "text": [
      "2\n",
      "4\n",
      "6\n",
      "8\n",
      "10\n",
      "12\n",
      "14\n",
      "16\n",
      "18\n",
      "20\n",
      "Even numbers from 2 to 20:\n",
      "2\n",
      "4\n",
      "6\n",
      "8\n",
      "10\n",
      "12\n",
      "14\n",
      "16\n",
      "18\n",
      "20\n"
     ]
    }
   ],
   "source": [
    "# Create a program that prints all even numbers from 2 to 20, inclusive.\n",
    "\n",
    "#while loop\n",
    "number = 2\n",
    "while number <= 20:\n",
    "    print(number)\n",
    "    number += 2\n",
    "    \n",
    "#for loop    \n",
    "print(\"Even numbers from 2 to 20:\")\n",
    "for num in range(2, 21, 2):\n",
    "    print(num)"
   ]
  },
  {
   "cell_type": "code",
   "execution_count": 5,
   "id": "0fff48c2",
   "metadata": {},
   "outputs": [
    {
     "name": "stdout",
     "output_type": "stream",
     "text": [
      "Guess the number between 1 and 100.\n",
      "Enter your guess: 67\n",
      "Too high, try again.\n",
      "Enter your guess: 40\n",
      "Too high, try again.\n",
      "Enter your guess: 30\n",
      "Too high, try again.\n",
      "Enter your guess: 20\n",
      "Too high, try again.\n",
      "Enter your guess: 10\n",
      "Too high, try again.\n",
      "Enter your guess: 2\n",
      "Congratulations! You guessed the number.\n"
     ]
    }
   ],
   "source": [
    "# Implement a guess-the-number game using a while loop. The program should randomly select a number between 1 and 100 and prompt the user to guess the number, providing hints like \"too high\" or \"too low\" until the user guesses the number.\n",
    "\n",
    "import random\n",
    "\n",
    "# Generate a random number between 1 and 100\n",
    "target_number = random.randint(1, 100)\n",
    "\n",
    "# Instructions for the user\n",
    "print(\"Guess the number between 1 and 100.\")\n",
    "\n",
    "# Start the guessing game\n",
    "guess = None\n",
    "while guess != target_number:\n",
    "    # Get the user's guess\n",
    "    try:\n",
    "        guess = int(input(\"Enter your guess: \"))\n",
    "    except ValueError:\n",
    "        print(\"Please enter a valid integer.\")\n",
    "        continue\n",
    "    \n",
    "    # Check the guess against the target number\n",
    "    if guess < target_number:\n",
    "        print(\"Too low, try again.\")\n",
    "    elif guess > target_number:\n",
    "        print(\"Too high, try again.\")\n",
    "    else:\n",
    "        print(\"Congratulations! You guessed the number.\")"
   ]
  },
  {
   "cell_type": "code",
   "execution_count": 6,
   "id": "bc1fa019",
   "metadata": {},
   "outputs": [
    {
     "name": "stdout",
     "output_type": "stream",
     "text": [
      "Hello, World!\n"
     ]
    }
   ],
   "source": [
    "# Create a function named ‘greet’ that prints “Hello, World!” when called.\n",
    "\n",
    "def greet():\n",
    "    print(\"Hello, World!\")\n",
    "    \n",
    "greet()"
   ]
  },
  {
   "cell_type": "code",
   "execution_count": 7,
   "id": "21c43190",
   "metadata": {},
   "outputs": [
    {
     "name": "stdout",
     "output_type": "stream",
     "text": [
      "8\n"
     ]
    }
   ],
   "source": [
    "# Write a function named add that takes two numbers as arguments and returns their sum.\n",
    "\n",
    "def add(number1, number2):\n",
    "    return number1 + number2\n",
    "\n",
    "# Example usage\n",
    "result = add(5, 3)\n",
    "print(result) "
   ]
  },
  {
   "cell_type": "code",
   "execution_count": 9,
   "id": "c4685ad8",
   "metadata": {},
   "outputs": [
    {
     "name": "stdout",
     "output_type": "stream",
     "text": [
      "20\n"
     ]
    }
   ],
   "source": [
    "# Define a function called max_of_two that takes two numbers as arguments and returns the largest of them. Do not use Python's built-in max() function.\n",
    "\n",
    "def max_of_two(number1, number2):\n",
    "    if number1 > number2:\n",
    "        return number1\n",
    "    else:\n",
    "        return number2\n",
    "\n",
    "# Example usage\n",
    "print(max_of_two(10, 20))"
   ]
  },
  {
   "cell_type": "code",
   "execution_count": 10,
   "id": "c5c1db45",
   "metadata": {},
   "outputs": [
    {
     "name": "stdout",
     "output_type": "stream",
     "text": [
      "120\n"
     ]
    }
   ],
   "source": [
    "#Create a function named multiply_list that takes a list of numbers and returns the product of all the numbers in the list.\n",
    "\n",
    "def multiply_list(numbers):\n",
    "    product = 1  # Start with 1 because it's the identity value for multiplication\n",
    "    for number in numbers:\n",
    "        product *= number\n",
    "    return product\n",
    "\n",
    "# Example usage\n",
    "my_list = [1, 2, 3, 4, 5]\n",
    "print(multiply_list(my_list))"
   ]
  },
  {
   "cell_type": "code",
   "execution_count": 11,
   "id": "7f843e8f",
   "metadata": {},
   "outputs": [
    {
     "name": "stdout",
     "output_type": "stream",
     "text": [
      "olleh\n"
     ]
    }
   ],
   "source": [
    "# Write a function called reverse_string that takes a string as an argument and returns the string in reversed order.\n",
    "\n",
    "def reverse_string(s):\n",
    "    return s[::-1]\n",
    "\n",
    "# Example usage\n",
    "original_string = \"hello\"\n",
    "reversed_string = reverse_string(original_string)\n",
    "print(reversed_string) "
   ]
  },
  {
   "cell_type": "code",
   "execution_count": 16,
   "id": "870ac02e",
   "metadata": {},
   "outputs": [
    {
     "name": "stdout",
     "output_type": "stream",
     "text": [
      "3\n"
     ]
    }
   ],
   "source": [
    "# Define a function named count_vowels that takes a string and returns the number of vowels in the string. Consider 'a', 'e', 'i', 'o', 'u' as vowels for this exercise.\n",
    "\n",
    "def count_vowels(string):\n",
    "    vowels = 'aeiouAEIOU'\n",
    "    count = 0\n",
    "    for char in string:\n",
    "        if char in vowels:\n",
    "            count += 1\n",
    "    return count\n",
    "\n",
    "result = count_vowels(\"Hello, World!\")\n",
    "print(result) "
   ]
  },
  {
   "cell_type": "code",
   "execution_count": 17,
   "id": "c5d304fb",
   "metadata": {},
   "outputs": [
    {
     "name": "stdout",
     "output_type": "stream",
     "text": [
      "120\n"
     ]
    }
   ],
   "source": [
    "# Define a function called factorial that takes a non-negative integer and returns its factorial. The factorial of a number n is the product of all positive integers less than or equal to n.\n",
    "\n",
    "def factorial(n):\n",
    "    if n == 0:\n",
    "        return 1\n",
    "    else:\n",
    "        result = 1\n",
    "        for i in range(1, n + 1):\n",
    "            result *= i\n",
    "        return result\n",
    "\n",
    "result = factorial(5)\n",
    "print(result)"
   ]
  },
  {
   "cell_type": "code",
   "execution_count": 18,
   "id": "95bf76fd",
   "metadata": {},
   "outputs": [
    {
     "name": "stdout",
     "output_type": "stream",
     "text": [
      "Hello, John!\n"
     ]
    }
   ],
   "source": [
    "# Create a class called Greeter with an instance method named greet that accepts a name as an argument and prints a greeting message with that name.\n",
    "\n",
    "class Greeter:\n",
    "    def greet(self, name):\n",
    "        print(\"Hello, {}!\".format(name))\n",
    "        \n",
    "greeter = Greeter()\n",
    "greeter.greet(\"John\")"
   ]
  },
  {
   "cell_type": "code",
   "execution_count": 15,
   "id": "ce07cef7",
   "metadata": {},
   "outputs": [],
   "source": [
    "# Create a class named Counter that has a class attribute for keeping track of the number of instances created. Add a class method named count_instances that prints the current number of instances.\n",
    "\n",
    "class Counter:\n",
    "    num_instances = 0\n",
    "    \n",
    "    def __init__(self):\n",
    "        Counter.num_instances += 1\n",
    "    \n",
    "    @classmethod\n",
    "    def count_instances(cls):\n",
    "        print(\"Number of instances created:\", cls.num_instances)"
   ]
  },
  {
   "cell_type": "code",
   "execution_count": 19,
   "id": "54b78b3c",
   "metadata": {},
   "outputs": [
    {
     "name": "stdout",
     "output_type": "stream",
     "text": [
      "Hello, Mary!\n"
     ]
    }
   ],
   "source": [
    "# Create a class called Greeter with an instance method named greet that accepts a name as an argument and prints a greeting message with that name.\n",
    "\n",
    "class Greeter:\n",
    "    def greet(self, name):\n",
    "        print(\"Hello, {}!\".format(name))\n",
    "        \n",
    "greeter = Greeter()\n",
    "greeter.greet(\"Mary\")"
   ]
  }
 ],
 "metadata": {
  "kernelspec": {
   "display_name": "Python 3 (ipykernel)",
   "language": "python",
   "name": "python3"
  },
  "language_info": {
   "codemirror_mode": {
    "name": "ipython",
    "version": 3
   },
   "file_extension": ".py",
   "mimetype": "text/x-python",
   "name": "python",
   "nbconvert_exporter": "python",
   "pygments_lexer": "ipython3",
   "version": "3.11.5"
  }
 },
 "nbformat": 4,
 "nbformat_minor": 5
}
