{
 "cells": [
  {
   "cell_type": "markdown",
   "id": "fd5da800",
   "metadata": {},
   "source": [
    "<img src=\"LaeCodes.png\" \n",
    "     align=\"center\" \n",
    "     width=\"100\" />"
   ]
  },
  {
   "cell_type": "markdown",
   "id": "80131d9b",
   "metadata": {},
   "source": [
    "## Weekly Assessment:"
   ]
  },
  {
   "cell_type": "markdown",
   "id": "593b79a9",
   "metadata": {},
   "source": [
    "- Write a for loop that calculates the sum of all numbers from 1 to 100, including both 1 and 100.\n",
    "- Write a for loop that calculates the factorial of a given number n. The factorial of n (denoted as n!) is the product of all positive integers less than or equal to n.\n",
    "- Use a for loop to reverse a given string. For example, if the input string is \"hello\", the output should be \"olleh\".\n",
    "- Write a program that counts down from 10 to 1 and then prints \"Liftoff!\". <br>\n",
    "Use a while loop to decrease the count and print to display each count.<br>\n",
    "After the loop finishes, print \"Liftoff!\".\n",
    "- Create a program that prints all even numbers from 2 to 20, inclusive. <br>\n",
    "Initialize a variable at 2 and use a while loop to keep printing if the number is less than or equal to 20. <br>\n",
    "Inside the loop, print the number and then increase it by 2 each time (to skip odd numbers).\n",
    "- Implement a guess-the-number game using a while loop. The program should randomly select a number between 1 and 100 and prompt the user to guess the number, providing hints like \"too high\" or \"too low\" until the user guesses the number. <br>\n",
    "- Create a function named ‘greet’ that prints “Hello, World!” when called. <br>\n",
    "- Write a function named add that takes two numbers as arguments and returns their sum. <br>\n",
    "- Define a function called max_of_two that takes two numbers as arguments and returns the largest of them. Do not use Python's built-in max() function. <br>\n",
    "- Create a function named multiply_list that takes a list of numbers and returns the product of all the numbers in the list. <br>\n",
    "- Write a function called reverse_string that takes a string as an argument and returns the string in reversed order. <br>\n",
    "- Define a function named count_vowels that takes a string and returns the number of vowels in the string. Consider 'a', 'e', 'i', 'o', 'u' as vowels for this exercise. <br>\n",
    "- Define a function called factorial that takes a non-negative integer and returns its factorial. The factorial of a number n is the product of all positive integers less than or equal to n. <br>\n",
    "- Create a class called Greeter with an instance method named greet that accepts a name as an argument and prints a greeting message with that name. <br>\n",
    "- Create a class named Counter that has a class attribute for keeping track of the number of instances created. Add a class method named count_instances that prints the current number of instances. <br>\n",
    "- Create a class called Greeter with an instance method named greet that accepts a name as an argument and prints a greeting message with that name."
   ]
  }
 ],
 "metadata": {
  "kernelspec": {
   "display_name": "Python 3 (ipykernel)",
   "language": "python",
   "name": "python3"
  },
  "language_info": {
   "codemirror_mode": {
    "name": "ipython",
    "version": 3
   },
   "file_extension": ".py",
   "mimetype": "text/x-python",
   "name": "python",
   "nbconvert_exporter": "python",
   "pygments_lexer": "ipython3",
   "version": "3.11.5"
  }
 },
 "nbformat": 4,
 "nbformat_minor": 5
}
