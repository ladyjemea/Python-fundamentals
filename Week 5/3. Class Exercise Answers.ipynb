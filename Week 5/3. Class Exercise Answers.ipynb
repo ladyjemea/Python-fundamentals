{
 "cells": [
  {
   "cell_type": "code",
   "execution_count": 3,
   "id": "5af6a0c3",
   "metadata": {},
   "outputs": [
    {
     "name": "stdout",
     "output_type": "stream",
     "text": [
      "Hello, World!\n",
      "Hello Lae\n"
     ]
    }
   ],
   "source": [
    "# Create a function named ‘greet’ that prints “Hello, World!” when called.\n",
    "\n",
    "def greet1():\n",
    "    print('Hello, World!')\n",
    "greet1()\n",
    "\n",
    "\n",
    "def greet(name):\n",
    "    print(f\"Hello {name}\")\n",
    "greet('Lae')"
   ]
  },
  {
   "cell_type": "code",
   "execution_count": 5,
   "id": "f79eab52",
   "metadata": {},
   "outputs": [
    {
     "name": "stdout",
     "output_type": "stream",
     "text": [
      "24\n"
     ]
    }
   ],
   "source": [
    "# Write a function named add that takes two numbers as arguments and returns their sum.\n",
    "\n",
    "def add(num1, num2):\n",
    "    return num1 + num2\n",
    "result = add(20, 4)\n",
    "print(result)"
   ]
  },
  {
   "cell_type": "code",
   "execution_count": 14,
   "id": "d9a66bdb",
   "metadata": {},
   "outputs": [
    {
     "name": "stdout",
     "output_type": "stream",
     "text": [
      "both numbers are the same\n"
     ]
    }
   ],
   "source": [
    "# Define a function called max_of_two that takes two numbers as arguments and returns the largest of them. Do not use Python's built-in max() function.\n",
    "\n",
    "def max_of_two(number1, number2):\n",
    "    if number1 > number2:\n",
    "        return number1\n",
    "    elif number2 > number1:\n",
    "        return number2\n",
    "    else:\n",
    "        return 'both numbers are the same'\n",
    "\n",
    "# Example usage\n",
    "print(max_of_two(10, 10))"
   ]
  },
  {
   "cell_type": "code",
   "execution_count": 7,
   "id": "f53eba2e",
   "metadata": {},
   "outputs": [
    {
     "name": "stdout",
     "output_type": "stream",
     "text": [
      "120\n"
     ]
    }
   ],
   "source": [
    "#Create a function named multiply_list that takes a list of numbers and returns the product of all the numbers in the list.\n",
    "\n",
    "def multiply_list(numbers):\n",
    "    product = 1  # Start with 1 because it's the identity value for multiplication\n",
    "    for number in numbers:\n",
    "        product *= number\n",
    "    return product\n",
    "\n",
    "# Example usage\n",
    "my_list = [1, 2, 3, 4, 5]\n",
    "print(multiply_list(my_list))"
   ]
  },
  {
   "cell_type": "code",
   "execution_count": 8,
   "id": "62056e01",
   "metadata": {},
   "outputs": [
    {
     "name": "stdout",
     "output_type": "stream",
     "text": [
      "olleh\n"
     ]
    }
   ],
   "source": [
    "# Write a function called reverse_string that takes a string as an argument and returns the string in reversed order.\n",
    "\n",
    "def reverse_string(s):\n",
    "    return s[::-1]\n",
    "\n",
    "# Example usage\n",
    "original_string = \"hello\"\n",
    "reversed_string = reverse_string(original_string)\n",
    "print(reversed_string) "
   ]
  },
  {
   "cell_type": "code",
   "execution_count": 9,
   "id": "15bea61f",
   "metadata": {},
   "outputs": [
    {
     "name": "stdout",
     "output_type": "stream",
     "text": [
      "3.0\n",
      "3\n"
     ]
    }
   ],
   "source": [
    "# Write a Python function to calculate the mean and median of a list of numbers.\n",
    "\n",
    "def mean(numbers): #average\n",
    "    return sum(numbers) / len(numbers)\n",
    "\n",
    "def median(numbers): #middle number in a sorted list\n",
    "    numbers.sort()\n",
    "    n = len(numbers)\n",
    "    if n % 2 == 0:\n",
    "        #mid1 = numbers[n//2 - 1]\n",
    "        #mid2 = numbers[n//2]\n",
    "        #final_mid = (mid1 + mid2) / 2\n",
    "        #return final_mid\n",
    "        return (numbers[n//2 - 1] + numbers[n//2]) / 2\n",
    "    else:\n",
    "        return numbers[n//2]\n",
    "\n",
    "\n",
    "num_list = [1, 2, 3, 4, 5]\n",
    "print(mean(num_list))    \n",
    "print(median(num_list)) "
   ]
  },
  {
   "cell_type": "code",
   "execution_count": 10,
   "id": "94fbde4b",
   "metadata": {},
   "outputs": [
    {
     "name": "stdout",
     "output_type": "stream",
     "text": [
      "91\n"
     ]
    }
   ],
   "source": [
    "# Write a Python function to find the maximum element in a list.\n",
    "\n",
    "def find_max(elements):\n",
    "    return max(elements)\n",
    "\n",
    "\n",
    "my_list = [4, 60, 37, 91, 2]\n",
    "print(find_max(my_list)) "
   ]
  },
  {
   "cell_type": "code",
   "execution_count": 11,
   "id": "afbc3989",
   "metadata": {},
   "outputs": [
    {
     "name": "stdout",
     "output_type": "stream",
     "text": [
      "{1: 2, 2: 2, 3: 3, 4: 2, 5: 1}\n"
     ]
    }
   ],
   "source": [
    "# Write a Python function to count the occurrences of each element in a list\n",
    "\n",
    "def count_occurrences(arr):\n",
    "    occurrence_count = {}  # Create an empty dictionary to store occurrences\n",
    "    for item in arr:  # Iterate through each element in the list\n",
    "        if item in occurrence_count:  # Check if the element is already in the dictionary\n",
    "            occurrence_count[item] += 1  # If yes, increment its count\n",
    "        else:\n",
    "            occurrence_count[item] = 1  # If not, initialize its count to 1\n",
    "    return occurrence_count  # Return the dictionary containing the counts\n",
    "\n",
    "# Test the function\n",
    "my_list = [1, 2, 2, 3, 4, 4, 1, 3, 3, 5]\n",
    "print(count_occurrences(my_list))"
   ]
  }
 ],
 "metadata": {
  "kernelspec": {
   "display_name": "Python 3 (ipykernel)",
   "language": "python",
   "name": "python3"
  },
  "language_info": {
   "codemirror_mode": {
    "name": "ipython",
    "version": 3
   },
   "file_extension": ".py",
   "mimetype": "text/x-python",
   "name": "python",
   "nbconvert_exporter": "python",
   "pygments_lexer": "ipython3",
   "version": "3.11.5"
  }
 },
 "nbformat": 4,
 "nbformat_minor": 5
}
