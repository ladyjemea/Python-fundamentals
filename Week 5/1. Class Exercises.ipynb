{
 "cells": [
  {
   "cell_type": "markdown",
   "id": "2ef37e63",
   "metadata": {},
   "source": [
    "<img src=\"LaeCodes.png\" \n",
    "     align=\"center\" \n",
    "     width=\"100\" />"
   ]
  },
  {
   "cell_type": "markdown",
   "id": "1c7e0115",
   "metadata": {},
   "source": [
    "# Exercises on Functions and Methods\n",
    "\n",
    "1. Create a function named ‘greet’ that prints “Hello, World!” when called. <br>\n",
    "2. Write a function named add that takes two numbers as arguments and returns their sum. <br>\n",
    "3. Define a function called max_of_two that takes two numbers as arguments and returns the largest of them. Do not use Python's built-in max() function. <br>\n",
    "4. Create a function named multiply_list that takes a list of numbers and returns the product of all the numbers in the list. <br>\n",
    "5. Write a function called reverse_string that takes a string as an argument and returns the string in reversed order. <br>\n",
    "6. Write a Python function to calculate the mean and median of a list of numbers. <br>\n",
    "7. Write a Python function to find the maximum element in a list. <br>\n",
    "8. Write a Python function to count the occurrences of each element in a list"
   ]
  }
 ],
 "metadata": {
  "kernelspec": {
   "display_name": "Python 3 (ipykernel)",
   "language": "python",
   "name": "python3"
  },
  "language_info": {
   "codemirror_mode": {
    "name": "ipython",
    "version": 3
   },
   "file_extension": ".py",
   "mimetype": "text/x-python",
   "name": "python",
   "nbconvert_exporter": "python",
   "pygments_lexer": "ipython3",
   "version": "3.11.5"
  }
 },
 "nbformat": 4,
 "nbformat_minor": 5
}
