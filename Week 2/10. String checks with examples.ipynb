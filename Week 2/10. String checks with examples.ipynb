{
 "cells": [
  {
   "cell_type": "markdown",
   "id": "89307bcb",
   "metadata": {},
   "source": [
    "<img src=\"LaeCodes.png\" \n",
    "     align=\"center\" \n",
    "     width=\"100\" />"
   ]
  },
  {
   "cell_type": "markdown",
   "id": "fc2ce346",
   "metadata": {},
   "source": [
    "# String checks\n",
    "\n",
    "String check refers to checking certain conditions or properties of a string. Some common checks include:\n",
    "<br> <br>\n",
    "**String length** \n",
    "<br>\n",
    "Used to check the length of a string using the **len()** function."
   ]
  },
  {
   "cell_type": "code",
   "execution_count": 1,
   "id": "bb674cb9",
   "metadata": {},
   "outputs": [
    {
     "name": "stdout",
     "output_type": "stream",
     "text": [
      "The text has 13 characters\n"
     ]
    }
   ],
   "source": [
    "text = \"I love Python\"\n",
    "length = len(text)\n",
    "\n",
    "print(f\"The text has {length} characters\")"
   ]
  },
  {
   "cell_type": "markdown",
   "id": "ccf8da5a",
   "metadata": {},
   "source": [
    "**String contains**\n",
    "<br>\n",
    "The keyword **in** is used to check if a substring is present in a string."
   ]
  },
  {
   "cell_type": "code",
   "execution_count": 5,
   "id": "339ea4f3",
   "metadata": {},
   "outputs": [
    {
     "name": "stdout",
     "output_type": "stream",
     "text": [
      "Substring found!\n"
     ]
    }
   ],
   "source": [
    "text = \"I love Python\"\n",
    "\n",
    "if \"Python\" in text:\n",
    "    print(\"Substring found!\")\n",
    "else:\n",
    "    print(\"Substring not found.\")"
   ]
  },
  {
   "cell_type": "markdown",
   "id": "32758ad2",
   "metadata": {},
   "source": [
    "**Checking for alphanumeric characters/digits**\n",
    "<br>\n",
    "Used to check if a string contains digits or other alphanumeric characters using the **isalpha()** or **isdigit()**. Isalpha() returns true if the string contains **only** alphabetical characters and isdigit() returns true if the string contains **only** digits."
   ]
  },
  {
   "cell_type": "code",
   "execution_count": 2,
   "id": "3732d4e2",
   "metadata": {},
   "outputs": [
    {
     "name": "stdout",
     "output_type": "stream",
     "text": [
      "String contains only digits.\n",
      "String contains only alphabetical characters.\n"
     ]
    }
   ],
   "source": [
    "text = \"12345\"\n",
    "if text.isdigit():\n",
    "    print(\"String contains only digits.\")\n",
    "\n",
    "text = \"Python\"\n",
    "if text.isalpha():\n",
    "    print(\"String contains only alphabetical characters.\")"
   ]
  },
  {
   "cell_type": "markdown",
   "id": "3f0c9ec5",
   "metadata": {},
   "source": [
    "Note: Whitespaces are neither digits nor alphabetical characters"
   ]
  },
  {
   "cell_type": "markdown",
   "id": "a75d6b85",
   "metadata": {},
   "source": [
    "**Checking for whitespaces**\n",
    "<br>\n",
    "The **isspace()** method is used to check if a string contains only white spaces or if a string is not empty."
   ]
  },
  {
   "cell_type": "code",
   "execution_count": 8,
   "id": "87e38a54",
   "metadata": {},
   "outputs": [
    {
     "name": "stdout",
     "output_type": "stream",
     "text": [
      "String contains only whitespace.\n"
     ]
    }
   ],
   "source": [
    "text = \"    \"\n",
    "if text.isspace():\n",
    "    print(\"String contains only whitespace.\")\n",
    "else:\n",
    "    print(\"String is not empty or contains non-whitespace characters.\")"
   ]
  },
  {
   "cell_type": "markdown",
   "id": "77ce861d",
   "metadata": {},
   "source": [
    "**Checking if a string starts or ends with a certain substring**\n",
    "<br>\n",
    "The **startswith()** and **endswith()** methods check if strings start or end with certain substrings"
   ]
  },
  {
   "cell_type": "code",
   "execution_count": 5,
   "id": "fd2d0d8e",
   "metadata": {},
   "outputs": [
    {
     "name": "stdout",
     "output_type": "stream",
     "text": [
      "String starts with 'I'\n",
      "String ends with 'Python!'\n"
     ]
    }
   ],
   "source": [
    "text = \"I love Python!\"\n",
    "if text.startswith(\"I\"):\n",
    "    print(\"String starts with 'I'\")\n",
    "if text.endswith(\"Python!\"):\n",
    "    print(\"String ends with 'Python!'\")"
   ]
  },
  {
   "cell_type": "markdown",
   "id": "740cfd23",
   "metadata": {},
   "source": [
    "**Upper and lower case**\n",
    "<br>\n",
    "The **isupper()** and **islower()** methods check if a string contains only upper or lower case characters."
   ]
  },
  {
   "cell_type": "code",
   "execution_count": 10,
   "id": "092f5489",
   "metadata": {},
   "outputs": [
    {
     "name": "stdout",
     "output_type": "stream",
     "text": [
      "String is all lowercase.\n"
     ]
    }
   ],
   "source": [
    "text = \"hello\"\n",
    "if text.isupper():\n",
    "    print(\"String is all uppercase.\")\n",
    "elif text.islower():\n",
    "    print(\"String is all lowercase.\")\n",
    "else:\n",
    "    print(\"String has a mix of uppercase and lowercase characters.\")"
   ]
  },
  {
   "cell_type": "code",
   "execution_count": null,
   "id": "ec9f00ca",
   "metadata": {},
   "outputs": [],
   "source": []
  }
 ],
 "metadata": {
  "kernelspec": {
   "display_name": "Python 3 (ipykernel)",
   "language": "python",
   "name": "python3"
  },
  "language_info": {
   "codemirror_mode": {
    "name": "ipython",
    "version": 3
   },
   "file_extension": ".py",
   "mimetype": "text/x-python",
   "name": "python",
   "nbconvert_exporter": "python",
   "pygments_lexer": "ipython3",
   "version": "3.11.5"
  }
 },
 "nbformat": 4,
 "nbformat_minor": 5
}
