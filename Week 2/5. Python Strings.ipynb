{
 "cells": [
  {
   "cell_type": "markdown",
   "id": "dde94da7",
   "metadata": {},
   "source": [
    "<img src=\"LaeCodes.png\" \n",
    "     align=\"center\" \n",
    "     width=\"100\" />"
   ]
  },
  {
   "cell_type": "markdown",
   "id": "cf5443ac",
   "metadata": {},
   "source": [
    "# Python Strings\n",
    "\n",
    "Strings are a Python data type used to represent text and character sequences. They are surrounded by single or double quotation marks. The print() function can be used to display a string literal. <br>\n",
    "\n",
    "'Hello' <br>\n",
    "\"Hello\" <br>\n",
    "\"Hello, sorry you can't come\" <br>"
   ]
  },
  {
   "cell_type": "markdown",
   "id": "4744a277",
   "metadata": {},
   "source": [
    "You can create strings and assign them to variables by:"
   ]
  },
  {
   "cell_type": "code",
   "execution_count": 1,
   "id": "609cba2d",
   "metadata": {},
   "outputs": [
    {
     "name": "stdout",
     "output_type": "stream",
     "text": [
      "Hi, my name is Jane and I'm 56 years old\n"
     ]
    }
   ],
   "source": [
    "name = \"Jane\"\n",
    "introduction = \"Hi, my name is Jane and I'm 56 years old\"\n",
    "\n",
    "print(introduction)"
   ]
  },
  {
   "cell_type": "markdown",
   "id": "0aaaa102",
   "metadata": {},
   "source": [
    "You can assign multiline strings to a variable using three single or double quotes (‘’’ or “””):"
   ]
  },
  {
   "cell_type": "code",
   "execution_count": 2,
   "id": "ab59c01f",
   "metadata": {},
   "outputs": [],
   "source": [
    "text = \"\"\"\n",
    "Lorem ipsum dolor sit amet, consectetur adipiscing elit. \n",
    "Praesent facilisis dui enim, eu interdum dolor ornare eu. \n",
    "Sed elementum at dui at ullamcorper. Nam suscipit luctus risus eu porttitor. \n",
    "Aenean in est eleifend, vehicula tellus laoreet, consectetur tellus.\"\"\""
   ]
  },
  {
   "cell_type": "markdown",
   "id": "8ca6cffa",
   "metadata": {},
   "source": [
    "You can use an escape character to have a single line string printed on multiple lines."
   ]
  },
  {
   "cell_type": "code",
   "execution_count": 2,
   "id": "e1e45643",
   "metadata": {},
   "outputs": [
    {
     "name": "stdout",
     "output_type": "stream",
     "text": [
      "Hi, my name is Jane \n",
      " and I'm 56 years old\n"
     ]
    }
   ],
   "source": [
    "print(\"Hi, my name is Jane \\n and I'm 56 years old\")"
   ]
  },
  {
   "cell_type": "markdown",
   "id": "850ceb6e",
   "metadata": {},
   "source": [
    "The escape character \\n represents a new line. Another widely used escape character is \\t used to represent a tab. It adds a tab (4 spaces) between the characters where it is placed in."
   ]
  }
 ],
 "metadata": {
  "kernelspec": {
   "display_name": "Python 3 (ipykernel)",
   "language": "python",
   "name": "python3"
  },
  "language_info": {
   "codemirror_mode": {
    "name": "ipython",
    "version": 3
   },
   "file_extension": ".py",
   "mimetype": "text/x-python",
   "name": "python",
   "nbconvert_exporter": "python",
   "pygments_lexer": "ipython3",
   "version": "3.11.5"
  }
 },
 "nbformat": 4,
 "nbformat_minor": 5
}
