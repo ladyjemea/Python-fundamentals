{
 "cells": [
  {
   "cell_type": "markdown",
   "id": "0e7a6d8d",
   "metadata": {},
   "source": [
    "<img src=\"LaeCodes.png\" \n",
    "     align=\"center\" \n",
    "     width=\"100\" />"
   ]
  },
  {
   "cell_type": "markdown",
   "id": "e0cbd7f4",
   "metadata": {},
   "source": [
    "# Weekly Assessment"
   ]
  },
  {
   "cell_type": "markdown",
   "id": "916a652b",
   "metadata": {},
   "source": [
    "- What are variables?\n",
    "- Declare 4 variables and assign values of different types to them\n",
    "- Name 3 data types and use them in variable declarations\n",
    "- What is the Modulus operator? Use it in a mathematical statement\n",
    "- Print a multiline string assigned to a variable\n",
    "- Given the strings: \"I am learning Fundamentals of Programming  in Python\" and \"I will like to learn it\"\n",
    "    - Assign both strings to variables\n",
    "    - Concatenate both strings\n",
    "    - On the first string, what characters are on indices 16 and -10\n",
    "    - On the second string, what characters are on indices 11 and -8\n",
    "    - What substring does the first string return [3:23:2]\n",
    "    - What substring does the second string return [-18:-3]\n",
    "    - What substring does the first string return [::]\n",
    "    - Format string one replacing the substring \"Fundamentals of Programming in Python\" with \"Python programming\" using str.format() method and f-strings\n",
    "- Given the string: \"Python programming is good\"\n",
    "    - Apply the following methods: len(), capitalize(), rstrip(), isspace(), startswith() replace()-replace good with easy, split() on the empty space.\n",
    "    - Add any two escape characters of your choice when printing the above string\n",
    "- Write a simple program that takes the the name and age of a person and displays this information on the screen\n",
    "\n",
    "All **scripts** should be submitted to me before the next class to info.laecodes@gmail.com\n",
    "\n",
    "- Adding pseudocode to explain your thinking is a bonus"
   ]
  }
 ],
 "metadata": {
  "kernelspec": {
   "display_name": "Python 3 (ipykernel)",
   "language": "python",
   "name": "python3"
  },
  "language_info": {
   "codemirror_mode": {
    "name": "ipython",
    "version": 3
   },
   "file_extension": ".py",
   "mimetype": "text/x-python",
   "name": "python",
   "nbconvert_exporter": "python",
   "pygments_lexer": "ipython3",
   "version": "3.11.5"
  }
 },
 "nbformat": 4,
 "nbformat_minor": 5
}
