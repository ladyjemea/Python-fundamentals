{
 "cells": [
  {
   "cell_type": "markdown",
   "id": "74177d4c",
   "metadata": {},
   "source": [
    "<img src=\"LaeCodes.png\" \n",
    "     align=\"center\" \n",
    "     width=\"100\" />"
   ]
  },
  {
   "cell_type": "markdown",
   "id": "c931887b",
   "metadata": {},
   "source": [
    "# String Modification \n",
    "\n",
    "This is the process of altering or manipulating strings. Strings are immutable (their values cannot be changed after creation) but we can create new strings by altering or modifying existing strings. <br>\n",
    "\n",
    "**String Concatenation** \n",
    "<br>\n",
    "This is the process of combining two or more strings into a single string using the + operator or the += operator. <br>\n",
    "\n",
    "**+ operator**"
   ]
  },
  {
   "cell_type": "code",
   "execution_count": 1,
   "id": "8c63127d",
   "metadata": {},
   "outputs": [
    {
     "name": "stdout",
     "output_type": "stream",
     "text": [
      "Hello world\n"
     ]
    }
   ],
   "source": [
    "str1 = \"Hello\"\n",
    "str2 = \"world\"\n",
    "final_str = str1 + \" \" + str2\n",
    "\n",
    "print(final_str)"
   ]
  },
  {
   "cell_type": "markdown",
   "id": "43bda682",
   "metadata": {},
   "source": [
    "**+= operator**"
   ]
  },
  {
   "cell_type": "code",
   "execution_count": 2,
   "id": "76d0c025",
   "metadata": {},
   "outputs": [
    {
     "name": "stdout",
     "output_type": "stream",
     "text": [
      "Hello world\n"
     ]
    }
   ],
   "source": [
    "str1 = \"Hello\"\n",
    "str2 = \"world\"\n",
    "str1 += \" \" + str2\n",
    "\n",
    "print(str1)"
   ]
  },
  {
   "cell_type": "markdown",
   "id": "aa1e0475",
   "metadata": {},
   "source": [
    "“ “ adds a space between strings when concatenating or the space can be added at the end of the string before the ‘+’ sign. "
   ]
  },
  {
   "cell_type": "code",
   "execution_count": 3,
   "id": "656c1fac",
   "metadata": {},
   "outputs": [
    {
     "name": "stdout",
     "output_type": "stream",
     "text": [
      "Hello world\n"
     ]
    }
   ],
   "source": [
    "str1 = \"Hello \"\n",
    "str2 = \"world\"\n",
    "final_str = str1 + str2\n",
    "\n",
    "print(final_str)"
   ]
  },
  {
   "attachments": {
    "image.png": {
     "image/png": "[encoded data removed]"
    }
   },
   "cell_type": "markdown",
   "id": "d1285309",
   "metadata": {},
   "source": [
    "**Indexing and slicing strings:**\n",
    "<br>\n",
    "Strings are **ordered** sequences; meaning each character has a specific position in a string. It is possible to grab a subsection of the string or access individual elements in a string.\n",
    "<br>\n",
    "**Indexing:**\n",
    "<br>\n",
    "Indexing is the process of accessing a specific element/character of a sequence (string) using their position index. In Python, indexing starts at 0, so the first character of a string is at index 0, the second character at index 1, and so on. Indexing uses ‘[ ]’ after the string or the variable assigned to the string.\n",
    "<br>\n",
    "\n",
    "![image.png](attachment:image.png)"
   ]
  },
  {
   "cell_type": "code",
   "execution_count": 4,
   "id": "be6b521a",
   "metadata": {},
   "outputs": [
    {
     "name": "stdout",
     "output_type": "stream",
     "text": [
      "o\n",
      "W\n"
     ]
    }
   ],
   "source": [
    "my_string  = \"Hello, World!\"\n",
    "\n",
    "print(my_string[4])   #character on index 4\n",
    "print(my_string[7])   #character on index 7"
   ]
  },
  {
   "attachments": {
    "image.png": {
     "image/png": "[encoded data removed]"
    }
   },
   "cell_type": "markdown",
   "id": "918e8ae3",
   "metadata": {},
   "source": [
    "**Negative/Reverse indexing:**\n",
    "<br>\n",
    "With negative indexing, -1 represents the last character in the string, -2 represents the second-to-last element, and so on. \n",
    "<br>\n",
    "\n",
    "![image.png](attachment:image.png)"
   ]
  },
  {
   "cell_type": "code",
   "execution_count": 5,
   "id": "fef9beaa",
   "metadata": {},
   "outputs": [
    {
     "name": "stdout",
     "output_type": "stream",
     "text": [
      "o\n",
      "l\n"
     ]
    }
   ],
   "source": [
    "my_string  = \"Hello, World!\"\n",
    "\n",
    "print(my_string[-5])   #character on index -5\n",
    "print(my_string[-10])  #character on index -10"
   ]
  },
  {
   "attachments": {
    "image.png": {
     "image/png": "[encoded data removed]"
    }
   },
   "cell_type": "markdown",
   "id": "daa8369f",
   "metadata": {},
   "source": [
    "**Slicing**\n",
    "<br>\n",
    "With slicing, you extract a portion (substring) of a sequence (the entire string) using the slice syntax. You specify the start index and the end index, separated by a colon.\n",
    "<br>\n",
    "\n",
    "![image.png](attachment:image.png)\n",
    "\n",
    "<br>\n",
    "It extracts the index from start index up to but not including the stop index. The default step is 1 and it is usually ignored. <br>\n",
    "Start: numerical index for the slice start <br>\n",
    "Stop: the index you will go up to (but not include) <br>\n",
    "Step: the size of the ‘jump’ you take which is 1 by default"
   ]
  },
  {
   "cell_type": "code",
   "execution_count": 2,
   "id": "acc2368b",
   "metadata": {},
   "outputs": [
    {
     "name": "stdout",
     "output_type": "stream",
     "text": [
      "World\n"
     ]
    }
   ],
   "source": [
    "my_string  = \"Hello, World!\"\n",
    "substring = my_string[7:12:1]\n",
    "\n",
    "print(substring)\n",
    "\n",
    "#Returns the characters from index 7 to (but not including) index 12; so, index 7-11."
   ]
  },
  {
   "cell_type": "code",
   "execution_count": 7,
   "id": "0935b977",
   "metadata": {},
   "outputs": [
    {
     "name": "stdout",
     "output_type": "stream",
     "text": [
      "lo ol\n"
     ]
    }
   ],
   "source": [
    "my_string  = \"Hello, World!\"\n",
    "substring = my_string[2:12:2]\n",
    "\n",
    "print(substring)\n",
    "\n",
    "#This example uses a step of 2 – gets every second character. "
   ]
  },
  {
   "attachments": {
    "image.png": {
     "image/png": "[encoded data removed]"
    }
   },
   "cell_type": "markdown",
   "id": "7c8db4b6",
   "metadata": {},
   "source": [
    "![image.png](attachment:image.png)\n",
    "<br>\n",
    "The start index falls on the first l and the stop index falls on the character ! so our string of interest is ‘llo , World’. With a step of 2, we get every second character which results to ‘lo ol’. We do not have the ! character because we count up to, but not including index 12 (from index 2-11). <br>\n",
    "\n",
    "**Slicing from the start:** <br>\n",
    "If you omit the start index, the range will start from the first character up to the index set for the last character."
   ]
  },
  {
   "cell_type": "code",
   "execution_count": 8,
   "id": "35efce1a",
   "metadata": {},
   "outputs": [
    {
     "name": "stdout",
     "output_type": "stream",
     "text": [
      "Hello\n"
     ]
    }
   ],
   "source": [
    "my_string  = \"Hello, World!\"\n",
    "\n",
    "print(my_string[:5])\n",
    "\n",
    "#From index 0 up to, but not including index 5"
   ]
  },
  {
   "cell_type": "markdown",
   "id": "6bf47f71",
   "metadata": {},
   "source": [
    "**Slicing to the end:**\n",
    "<br>\n",
    "Omitting the end index returns characters from the given start index to the end of the string."
   ]
  },
  {
   "cell_type": "code",
   "execution_count": 9,
   "id": "52ace98a",
   "metadata": {},
   "outputs": [
    {
     "name": "stdout",
     "output_type": "stream",
     "text": [
      "World!\n"
     ]
    }
   ],
   "source": [
    "my_string  = \"Hello, World!\"\n",
    "\n",
    "print(my_string[7:])"
   ]
  },
  {
   "cell_type": "code",
   "execution_count": 10,
   "id": "762fadf5",
   "metadata": {},
   "outputs": [
    {
     "name": "stdout",
     "output_type": "stream",
     "text": [
      "Hello, World!\n"
     ]
    }
   ],
   "source": [
    "#To return an entire string, you omit the start and stop indices.\n",
    "\n",
    "my_string  = \"Hello, World!\"\n",
    "\n",
    "print(my_string[::])"
   ]
  },
  {
   "cell_type": "code",
   "execution_count": 11,
   "id": "427118e9",
   "metadata": {},
   "outputs": [
    {
     "name": "stdout",
     "output_type": "stream",
     "text": [
      "Hlo ol!\n"
     ]
    }
   ],
   "source": [
    "#This can be used together with the step parameter allowing one to skip elements in a string.\n",
    "\n",
    "my_string  = \"Hello, World!\"\n",
    "\n",
    "print(my_string[::2])\n",
    "\n",
    "#Returns every second character in the entire string."
   ]
  },
  {
   "cell_type": "markdown",
   "id": "e85ef7e3",
   "metadata": {},
   "source": [
    "**Slicing using negative indexing:**"
   ]
  },
  {
   "cell_type": "code",
   "execution_count": 12,
   "id": "8f946c9c",
   "metadata": {},
   "outputs": [
    {
     "name": "stdout",
     "output_type": "stream",
     "text": [
      "Worl\n"
     ]
    }
   ],
   "source": [
    "my_string  = \"Hello, World!\"\n",
    "\n",
    "print(my_string[-6:-2])"
   ]
  },
  {
   "cell_type": "markdown",
   "id": "ff6efc34",
   "metadata": {},
   "source": [
    "Returns characters from index -6 up to, but not including index -2. <br>\n",
    "Note: You cannot use both positive and negative indexing at once."
   ]
  }
 ],
 "metadata": {
  "kernelspec": {
   "display_name": "Python 3 (ipykernel)",
   "language": "python",
   "name": "python3"
  },
  "language_info": {
   "codemirror_mode": {
    "name": "ipython",
    "version": 3
   },
   "file_extension": ".py",
   "mimetype": "text/x-python",
   "name": "python",
   "nbconvert_exporter": "python",
   "pygments_lexer": "ipython3",
   "version": "3.11.5"
  }
 },
 "nbformat": 4,
 "nbformat_minor": 5
}
