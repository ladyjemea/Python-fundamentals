{
 "cells": [
  {
   "cell_type": "markdown",
   "id": "00808eb7",
   "metadata": {},
   "source": [
    "<img src=\"LaeCodes.png\" \n",
    "     align=\"center\" \n",
    "     width=\"100\" />"
   ]
  },
  {
   "cell_type": "markdown",
   "id": "eefb6f03",
   "metadata": {},
   "source": [
    "# Input/Output Operations\n",
    "Input/output operations (I/O) involve reading data from external sources (input) and displaying or saving data to external destinations (output). There are several ways to do I/O operations, but we will look at the simplest this week and go to more complex I/O operations in the next few weeks. \n",
    "<br> <br>\n",
    "**Input operations:**\n",
    "<br>\n",
    "The **input()** function is used to take input from users. It reads a line from the standard input (usually the keyboard) and returns it as a string."
   ]
  },
  {
   "cell_type": "code",
   "execution_count": 1,
   "id": "25eb1b53",
   "metadata": {},
   "outputs": [
    {
     "name": "stdout",
     "output_type": "stream",
     "text": [
      "Enter your name: X\n",
      "Your name is: X\n"
     ]
    }
   ],
   "source": [
    "name = input(\"Enter your name: \")\n",
    "print(\"Your name is:\", name)"
   ]
  },
  {
   "cell_type": "markdown",
   "id": "e70b9795",
   "metadata": {},
   "source": [
    "Since the input() function returns a string, if the desired input is a numeric type, the string needs to be converted to the desired type."
   ]
  },
  {
   "cell_type": "code",
   "execution_count": 2,
   "id": "353f12df",
   "metadata": {},
   "outputs": [
    {
     "name": "stdout",
     "output_type": "stream",
     "text": [
      "How old are you?: 78\n",
      "You entered: 78\n"
     ]
    }
   ],
   "source": [
    "age = input(\"How old are you?: \")\n",
    "age = int(age)\n",
    "print(\"You entered:\", age)"
   ]
  },
  {
   "cell_type": "markdown",
   "id": "8b024e02",
   "metadata": {},
   "source": [
    "This lets you enter an integer. Entering any other data type gives you an error. With time, we will learn type conversion at input. \n",
    "<br> <br>\n",
    "**Output operations:**\n",
    "<br>\n",
    "The most common output function is the print() function is used to display output on the console. We have studied the print() function in earlier lessons (refer to week 1)."
   ]
  }
 ],
 "metadata": {
  "kernelspec": {
   "display_name": "Python 3 (ipykernel)",
   "language": "python",
   "name": "python3"
  },
  "language_info": {
   "codemirror_mode": {
    "name": "ipython",
    "version": 3
   },
   "file_extension": ".py",
   "mimetype": "text/x-python",
   "name": "python",
   "nbconvert_exporter": "python",
   "pygments_lexer": "ipython3",
   "version": "3.11.5"
  }
 },
 "nbformat": 4,
 "nbformat_minor": 5
}
