{
 "cells": [
  {
   "cell_type": "markdown",
   "id": "2004f37e",
   "metadata": {},
   "source": [
    "<img src=\"LaeCodes.png\" \n",
    "     align=\"center\" \n",
    "     width=\"100\" />"
   ]
  },
  {
   "cell_type": "markdown",
   "id": "450ed48d",
   "metadata": {},
   "source": [
    "## Global vs Local variables\n",
    "**Global variables**\n",
    "<br>\n",
    "Global variables are variables created outside of a function (like all the variable examples above). <br> \n",
    "They can be used both inside and outside of a function."
   ]
  },
  {
   "cell_type": "code",
   "execution_count": 1,
   "id": "400d2825",
   "metadata": {},
   "outputs": [
    {
     "name": "stdout",
     "output_type": "stream",
     "text": [
      "My name is Lucy\n"
     ]
    }
   ],
   "source": [
    "name = 'Lucy'\n",
    "\n",
    "def name_func():\n",
    "    print('My name is ' + name) \n",
    "\n",
    "name_func()"
   ]
  },
  {
   "cell_type": "markdown",
   "id": "1d6653fd",
   "metadata": {},
   "source": [
    "The variable name is a global variable and it can be used in the function name_func()."
   ]
  },
  {
   "cell_type": "markdown",
   "id": "d9b75a43",
   "metadata": {},
   "source": [
    "**Local variables**\n",
    "<br>\n",
    "These are variables local to a function. They cannot be used outside of the function they are declared in. "
   ]
  },
  {
   "cell_type": "code",
   "execution_count": 2,
   "id": "8c814019",
   "metadata": {},
   "outputs": [
    {
     "name": "stdout",
     "output_type": "stream",
     "text": [
      "My name is Bianca\n"
     ]
    }
   ],
   "source": [
    "name = 'Lucy'\n",
    "\n",
    "def name_func():\n",
    "    name = 'Bianca'\n",
    "    print('My name is ' + name) \n",
    "\n",
    "name_func()"
   ]
  },
  {
   "cell_type": "markdown",
   "id": "c309d115",
   "metadata": {},
   "source": [
    "If a global variable and a local variable have the same name, in the local variable’s function, the local variable will be used. The global variable will not be changed."
   ]
  },
  {
   "cell_type": "code",
   "execution_count": 3,
   "id": "cf2972e4",
   "metadata": {},
   "outputs": [
    {
     "name": "stdout",
     "output_type": "stream",
     "text": [
      "My name is Bianca\n",
      "My name is Lucy\n"
     ]
    }
   ],
   "source": [
    "name = 'Lucy'\n",
    "\n",
    "def name_func():\n",
    "    name = 'Bianca'\n",
    "    print('My name is ' + name) #prints the local variable\n",
    "\n",
    "name_func()\n",
    "\n",
    "print('My name is ' + name) #prints the global variable"
   ]
  },
  {
   "cell_type": "markdown",
   "id": "241bf25f",
   "metadata": {},
   "source": [
    "**The global keyword**\n",
    "<br>\n",
    "You can create a global variable inside a function using the global keyword. <br>\n",
    "The global keyword can also be used inside a function to change the value of a global variable."
   ]
  },
  {
   "cell_type": "code",
   "execution_count": 4,
   "id": "5b20cc04",
   "metadata": {},
   "outputs": [
    {
     "name": "stdout",
     "output_type": "stream",
     "text": [
      "My name is Bianca\n",
      "My name is Bianca\n"
     ]
    }
   ],
   "source": [
    "def name_func():\n",
    "    global name \n",
    "    name = 'Bianca'\n",
    "    print('My name is ' + name) \n",
    "\n",
    "name_func()\n",
    "\n",
    "print('My name is ' + name)"
   ]
  },
  {
   "cell_type": "markdown",
   "id": "0491ff29",
   "metadata": {},
   "source": [
    "In the code snippet above, even though the name variable was declared inside a function, the last print statement has access to the variable because it was declared as a global variable."
   ]
  },
  {
   "cell_type": "code",
   "execution_count": 5,
   "id": "1e00b1e0",
   "metadata": {},
   "outputs": [
    {
     "name": "stdout",
     "output_type": "stream",
     "text": [
      "My name is Bianca\n",
      "My name is Bianca\n"
     ]
    }
   ],
   "source": [
    "name = 'Lucy'\n",
    "\n",
    "def name_func():\n",
    "    global name \n",
    "    name = 'Bianca'\n",
    "    print('My name is ' + name) \n",
    "\n",
    "name_func()\n",
    "\n",
    "print('My name is ' + name) "
   ]
  },
  {
   "cell_type": "markdown",
   "id": "72d10890",
   "metadata": {},
   "source": [
    "In the code snippet above, the declaration of the variable name in the function as a global variable overrides the initial name variable declaration. "
   ]
  }
 ],
 "metadata": {
  "kernelspec": {
   "display_name": "Python 3 (ipykernel)",
   "language": "python",
   "name": "python3"
  },
  "language_info": {
   "codemirror_mode": {
    "name": "ipython",
    "version": 3
   },
   "file_extension": ".py",
   "mimetype": "text/x-python",
   "name": "python",
   "nbconvert_exporter": "python",
   "pygments_lexer": "ipython3",
   "version": "3.11.5"
  }
 },
 "nbformat": 4,
 "nbformat_minor": 5
}
