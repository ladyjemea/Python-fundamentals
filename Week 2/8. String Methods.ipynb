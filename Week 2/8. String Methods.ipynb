{
 "cells": [
  {
   "cell_type": "markdown",
   "id": "6fd18bc9",
   "metadata": {},
   "source": [
    "<img src=\"LaeCodes.png\" \n",
    "     align=\"center\" \n",
    "     width=\"100\" />"
   ]
  },
  {
   "cell_type": "markdown",
   "id": "c25191bc",
   "metadata": {},
   "source": [
    "# String Methods\n",
    "\n",
    "Python has several built-in methods which are used to perform various operations on strings. Some of the most common string methods will be studied below: <br>\n",
    "\n",
    "**String length:**\n",
    "<br>\n",
    "The length of a string is the number of characters in a string including spaces and punctuation. The python ‘len()’ function can be used to get the length of a strin"
   ]
  },
  {
   "cell_type": "code",
   "execution_count": 1,
   "id": "51522a82",
   "metadata": {},
   "outputs": [
    {
     "name": "stdout",
     "output_type": "stream",
     "text": [
      "11\n"
     ]
    }
   ],
   "source": [
    "my_string = \"Hello World\"\n",
    "length = len(my_string)\n",
    "\n",
    "print(length)"
   ]
  },
  {
   "cell_type": "code",
   "execution_count": 2,
   "id": "141eff43",
   "metadata": {},
   "outputs": [
    {
     "name": "stdout",
     "output_type": "stream",
     "text": [
      "14\n"
     ]
    }
   ],
   "source": [
    "my_string = \"Hello, World!!\"\n",
    "\n",
    "print(len(my_string))"
   ]
  },
  {
   "cell_type": "markdown",
   "id": "4c707bac",
   "metadata": {},
   "source": [
    "**Converting Case:**\n",
    "<br>\n",
    "You can convert the case of a string with Python’s built-in methods: **upper(), lower(), capitalize(), title()**"
   ]
  },
  {
   "cell_type": "code",
   "execution_count": 3,
   "id": "772029c0",
   "metadata": {},
   "outputs": [
    {
     "name": "stdout",
     "output_type": "stream",
     "text": [
      "PYTHON PROGRAMMING IS GOOD\n",
      "python programming is good\n",
      "Python programming is good\n",
      "Python Programming Is Good\n"
     ]
    }
   ],
   "source": [
    "text = \"python programming is good\"\n",
    "upper_case = text.upper()\n",
    "lower_case = text.lower()\n",
    "capitalized = text.capitalize()\n",
    "title_case = text.title()\n",
    "\n",
    "\n",
    "print(upper_case)\n",
    "print(lower_case)\n",
    "print(capitalized)\n",
    "print(title_case)"
   ]
  },
  {
   "cell_type": "markdown",
   "id": "d8a7b3db",
   "metadata": {},
   "source": [
    "The **strip(), lstrip(), rstrip()**  methods remove whitespaces from the beginning or end of a string. Whitespaces are the spaces before/after the actual text."
   ]
  },
  {
   "cell_type": "code",
   "execution_count": 4,
   "id": "d73f84f2",
   "metadata": {},
   "outputs": [
    {
     "name": "stdout",
     "output_type": "stream",
     "text": [
      "python programming is good\n",
      "python programming is good \n",
      " python programming is good\n"
     ]
    }
   ],
   "source": [
    "text = \" python programming is good \"\n",
    "\n",
    "print(text.strip()) #returns \"python programming is good\"\n",
    "print(text.lstrip()) #returns \"python programming is good \"\n",
    "print(text.rstrip()) #returns \" python programming is good\""
   ]
  },
  {
   "cell_type": "markdown",
   "id": "414345ee",
   "metadata": {},
   "source": [
    "The **replace()** method replaces occurrences of a substring with another substring."
   ]
  },
  {
   "cell_type": "code",
   "execution_count": 2,
   "id": "7b4cca50",
   "metadata": {},
   "outputs": [
    {
     "name": "stdout",
     "output_type": "stream",
     "text": [
      "I love Python\n"
     ]
    }
   ],
   "source": [
    "text = \"I love JavaScript\"\n",
    "modified_text = text.replace(\"JavaScript\", \"Python\")\n",
    "\n",
    "print(modified_text)"
   ]
  },
  {
   "cell_type": "markdown",
   "id": "e67dbdb9",
   "metadata": {},
   "source": [
    "The **find()** and **index()** methods are used to find the index of a substring. They return the index of the first character in the substring. Find() returns -1 if the substring is not found while index() raises a value error if the substring is not found. The substring passed is case sensitive."
   ]
  },
  {
   "cell_type": "code",
   "execution_count": 6,
   "id": "ffcbac08",
   "metadata": {},
   "outputs": [
    {
     "name": "stdout",
     "output_type": "stream",
     "text": [
      "7\n",
      "0\n"
     ]
    }
   ],
   "source": [
    "sentence = \"I love Python\"\n",
    "index1 = sentence.find(\"Python\")\n",
    "index2 = sentence.index(\"I\")\n",
    "print(index1)\n",
    "print(index2)"
   ]
  },
  {
   "cell_type": "markdown",
   "id": "18ca41da",
   "metadata": {},
   "source": [
    "The **count()** method counts the number of occurrences in a substring. The substring passed should be case sensitive."
   ]
  },
  {
   "cell_type": "code",
   "execution_count": 7,
   "id": "92d0d7c7",
   "metadata": {},
   "outputs": [
    {
     "name": "stdout",
     "output_type": "stream",
     "text": [
      "2\n",
      "1\n"
     ]
    }
   ],
   "source": [
    "sentence = \"I love Python because Python is easy to learn\"\n",
    "\n",
    "print(sentence.count(\"Python\"))\n",
    "print(sentence.count(\"is\"))"
   ]
  },
  {
   "cell_type": "markdown",
   "id": "275e5887",
   "metadata": {},
   "source": [
    "The **startswith()** and **endswith()** methods check if a string starts or ends with a specific substring. It returns a Boolean (true or false)."
   ]
  },
  {
   "cell_type": "code",
   "execution_count": 9,
   "id": "635a7799",
   "metadata": {},
   "outputs": [
    {
     "name": "stdout",
     "output_type": "stream",
     "text": [
      "True\n",
      "False\n"
     ]
    }
   ],
   "source": [
    "text = \"Hello, World!\"\n",
    "\n",
    "print(text.startswith(\"Hello\"))\n",
    "print(text.endswith(\"World\"))"
   ]
  },
  {
   "cell_type": "markdown",
   "id": "2d06a541",
   "metadata": {},
   "source": [
    "The **split()** module is used to split a string into various substrings based on a delimeter. The default delimeter is the whitespace."
   ]
  },
  {
   "cell_type": "code",
   "execution_count": 10,
   "id": "2e3bd288",
   "metadata": {},
   "outputs": [
    {
     "name": "stdout",
     "output_type": "stream",
     "text": [
      "['I', 'love', 'Python', 'programming']\n"
     ]
    }
   ],
   "source": [
    "sentence = \"I love Python programming\"\n",
    "\n",
    "print(sentence.split(\" \"))"
   ]
  },
  {
   "cell_type": "markdown",
   "id": "c08dcebd",
   "metadata": {},
   "source": [
    "The **join()** module is used to join a list of strings into a single string"
   ]
  },
  {
   "cell_type": "code",
   "execution_count": 11,
   "id": "00a5131c",
   "metadata": {},
   "outputs": [
    {
     "name": "stdout",
     "output_type": "stream",
     "text": [
      "I love Python programming\n"
     ]
    }
   ],
   "source": [
    "sentence = \"I love Python programming\"\n",
    "words = sentence.split(\" \")\n",
    "\n",
    "print(\" \".join(words))"
   ]
  },
  {
   "cell_type": "markdown",
   "id": "d42b4c6a",
   "metadata": {},
   "source": [
    "There are many more python methods, and we will see a few more later in the course."
   ]
  },
  {
   "cell_type": "markdown",
   "id": "49aec042",
   "metadata": {},
   "source": [
    "**String Immutability:**\n",
    "<br>\n",
    "Python strings are immutable. Immutability means once the string object is created, its content cannot be changed in place."
   ]
  },
  {
   "cell_type": "code",
   "execution_count": 12,
   "id": "d6873400",
   "metadata": {},
   "outputs": [
    {
     "ename": "TypeError",
     "evalue": "'str' object does not support item assignment",
     "output_type": "error",
     "traceback": [
      "\u001b[0;31m---------------------------------------------------------------------------\u001b[0m",
      "\u001b[0;31mTypeError\u001b[0m                                 Traceback (most recent call last)",
      "Cell \u001b[0;32mIn[12], line 2\u001b[0m\n\u001b[1;32m      1\u001b[0m text \u001b[38;5;241m=\u001b[39m \u001b[38;5;124m\"\u001b[39m\u001b[38;5;124mHello\u001b[39m\u001b[38;5;124m\"\u001b[39m\n\u001b[0;32m----> 2\u001b[0m text[\u001b[38;5;241m0\u001b[39m] \u001b[38;5;241m=\u001b[39m \u001b[38;5;124m\"\u001b[39m\u001b[38;5;124mJ\u001b[39m\u001b[38;5;124m\"\u001b[39m\n\u001b[1;32m      4\u001b[0m \u001b[38;5;28mprint\u001b[39m(text)\n",
      "\u001b[0;31mTypeError\u001b[0m: 'str' object does not support item assignment"
     ]
    }
   ],
   "source": [
    "text = \"Hello\"\n",
    "text[0] = \"J\"\n",
    "\n",
    "print(text)"
   ]
  },
  {
   "cell_type": "markdown",
   "id": "d3e8cfef",
   "metadata": {},
   "source": [
    "You need to create a new string with the desired changes."
   ]
  },
  {
   "cell_type": "code",
   "execution_count": 13,
   "id": "4ad5ce2b",
   "metadata": {},
   "outputs": [
    {
     "name": "stdout",
     "output_type": "stream",
     "text": [
      "Jello\n",
      "Hello\n"
     ]
    }
   ],
   "source": [
    "text = \"Hello\"\n",
    "new_text = \"Jello\"\n",
    "\n",
    "print(new_text)\n",
    "print(text)"
   ]
  },
  {
   "cell_type": "markdown",
   "id": "752dc95b",
   "metadata": {},
   "source": [
    "New strings can also be created by modifying existing strings (concatenation) but not in place. The process of concatenation helps to optimize memory usage because parts of the original string can be shared when possible. Some other benefits of string immutability include performance optimization, safety, hashing and ease of use."
   ]
  }
 ],
 "metadata": {
  "kernelspec": {
   "display_name": "Python 3 (ipykernel)",
   "language": "python",
   "name": "python3"
  },
  "language_info": {
   "codemirror_mode": {
    "name": "ipython",
    "version": 3
   },
   "file_extension": ".py",
   "mimetype": "text/x-python",
   "name": "python",
   "nbconvert_exporter": "python",
   "pygments_lexer": "ipython3",
   "version": "3.11.5"
  }
 },
 "nbformat": 4,
 "nbformat_minor": 5
}
