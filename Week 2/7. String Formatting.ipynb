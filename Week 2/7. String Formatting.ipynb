{
 "cells": [
  {
   "cell_type": "markdown",
   "id": "7792e39a",
   "metadata": {},
   "source": [
    "<img src=\"LaeCodes.png\" \n",
    "     align=\"center\" \n",
    "     width=\"100\" />"
   ]
  },
  {
   "cell_type": "markdown",
   "id": "eec66410",
   "metadata": {},
   "source": [
    "# String Formatting\n",
    "<br>\n",
    "This is also known as string interpolation, and it is a process of adding a variable or custom string to another predefined string. It can also be defined as the process of creating strings with placeholders for values to be inserted later. \n",
    "<br> <br>\n",
    "\n",
    "**1. Formatting with the % Operator:**"
   ]
  },
  {
   "cell_type": "code",
   "execution_count": 2,
   "id": "57d21b5d",
   "metadata": {},
   "outputs": [
    {
     "name": "stdout",
     "output_type": "stream",
     "text": [
      "My name is Bob and I am 30 years old.\n"
     ]
    }
   ],
   "source": [
    "name = \"Bob\"\n",
    "age = 30\n",
    "formatted_string = \"My name is %s and I am %d years old.\" % (name, age)\n",
    "\n",
    "print(formatted_string)"
   ]
  },
  {
   "cell_type": "markdown",
   "id": "7c7cbb1e",
   "metadata": {},
   "source": [
    "%s and %d are placeholders for a strings and decimal numbers respectively. The values are passed using the % operator. This formatting can be used in languages like C too. \n",
    "<br> <br>\n",
    "\n",
    "Some other format specifiers include:\n",
    "<br>\n",
    "\n",
    "%f - Float:\n",
    "<br>\n",
    "Example: \"%.2f\" % 45.14159 (formats to two decimal places)\n",
    "<br>\n",
    "\n",
    "%x - Hexadecimal:\n",
    "<br>\n",
    "Example: \"%x\" % 255 (formats as hexadecimal)\n",
    "<br>\n",
    "\n",
    "%o - Octal:\n",
    "<br>\n",
    "Example: \"%o\" % 8 (formats as octal)\n",
    "<br>\n",
    "\n",
    "%e - Exponential:\n",
    "<br>\n",
    "Example: \"%e\" % 1000 (formats as exponential)\n",
    "<br>\n",
    "\n",
    "%c - Character:\n",
    "<br>\n",
    "Example: \"%c\" % 65 (formats as character)\n",
    "<br>\n",
    "\n",
    "%% - Literal %:\n",
    "<br>\n",
    "Example: \"%.2f%%\" % 3.14159 (formats as percentage)\n",
    "<br>\n",
    "\n",
    "%r - Represenation (calls repr())\n",
    "<br>\n",
    "Example: \"%r\" % \"Hello\" (represents the string)\n",
    "<br><br>\n",
    "\n",
    "**2. Formatting using ‘str.format()’:**\n",
    "<br>\n",
    "This method provides a more flexible way to format strings. It uses placeholders within the string and then supplies values to be inserted using the ‘format’ method."
   ]
  },
  {
   "cell_type": "code",
   "execution_count": 4,
   "id": "26e3ce73",
   "metadata": {},
   "outputs": [
    {
     "name": "stdout",
     "output_type": "stream",
     "text": [
      "My name is Bob and I am 30 years old.\n"
     ]
    }
   ],
   "source": [
    "name = \"Bob\"\n",
    "age = 30\n",
    "formatted_string = \"My name is {} and I am {} years old.\" .format(name, age)\n",
    "\n",
    "print(formatted_string)"
   ]
  },
  {
   "cell_type": "code",
   "execution_count": 2,
   "id": "0214bf07",
   "metadata": {},
   "outputs": [
    {
     "name": "stdout",
     "output_type": "stream",
     "text": [
      "My name is Bob and I am 30 years old.\n"
     ]
    }
   ],
   "source": [
    "name = \"Bob\"\n",
    "age = 30\n",
    "formatted_string = \"My name is {} and I am {} years old.\"\n",
    "\n",
    "print(formatted_string.format(name, age))"
   ]
  },
  {
   "cell_type": "markdown",
   "id": "af340f1a",
   "metadata": {},
   "source": [
    "You can use index numbers {0} to ensure that arguments are placed in the correct placeholders."
   ]
  },
  {
   "cell_type": "code",
   "execution_count": 4,
   "id": "72c3a073",
   "metadata": {},
   "outputs": [
    {
     "name": "stdout",
     "output_type": "stream",
     "text": [
      "My name is Bob, I live in Douala and I am 30 years old.\n"
     ]
    }
   ],
   "source": [
    "name = \"Bob\"\n",
    "age = 30\n",
    "location = \"Douala\"\n",
    "formatted_string = \"My name is {0}, I live in {2} and I am {1} years old.\"\n",
    "\n",
    "print(formatted_string.format(name, age, location))"
   ]
  },
  {
   "cell_type": "markdown",
   "id": "4096b5b6",
   "metadata": {},
   "source": [
    "**3. Formatted string literals (f-strings):**\n",
    "<br> <br>\n",
    "They provide a more readable way to insert expressions in string literals. They are prefixed with the letter “f” and use curly braces for the expressions."
   ]
  },
  {
   "cell_type": "code",
   "execution_count": 5,
   "id": "0cbb9ba4",
   "metadata": {},
   "outputs": [
    {
     "name": "stdout",
     "output_type": "stream",
     "text": [
      "My name is Bob, I live in Douala and I am 30 years old.\n"
     ]
    }
   ],
   "source": [
    "name = \"Bob\"\n",
    "age = 30\n",
    "location = \"Douala\"\n",
    "formatted_string = f\"My name is {name}, I live in {location} and I am {age} years old.\"\n",
    "\n",
    "print(formatted_string)"
   ]
  }
 ],
 "metadata": {
  "kernelspec": {
   "display_name": "Python 3 (ipykernel)",
   "language": "python",
   "name": "python3"
  },
  "language_info": {
   "codemirror_mode": {
    "name": "ipython",
    "version": 3
   },
   "file_extension": ".py",
   "mimetype": "text/x-python",
   "name": "python",
   "nbconvert_exporter": "python",
   "pygments_lexer": "ipython3",
   "version": "3.11.5"
  }
 },
 "nbformat": 4,
 "nbformat_minor": 5
}
