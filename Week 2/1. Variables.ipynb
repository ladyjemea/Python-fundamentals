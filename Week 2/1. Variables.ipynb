{
 "cells": [
  {
   "cell_type": "markdown",
   "id": "afc90a92",
   "metadata": {},
   "source": [
    "<img src=\"LaeCodes.png\" \n",
    "     align=\"center\" \n",
    "     width=\"100\" />"
   ]
  },
  {
   "cell_type": "markdown",
   "id": "aacb80ea",
   "metadata": {},
   "source": [
    "# Variables\n",
    "<br>\n",
    "A variable is a name or identifier used to hold/store data within a program. Variables hold data of different types such as text, numbers, lists, dictionaries, etc. Python is a dynamically typed language which means we do not need to explicitly declare the data type of a variable. Python infers the data type from the assigned variable and assigns the type at run-time. When you declare a variable, you reserve a memory location for a value. During execution of a program, the variable gives data to the program.\n",
    "<br>\n",
    "When you declare a variable, you create a storage location to hold a value: you give it a name and sometimes initialize it with a value."
   ]
  },
  {
   "attachments": {
    "image.png": {
     "image/png": "[encoded data removed]"
    }
   },
   "cell_type": "markdown",
   "id": "1f10d90e",
   "metadata": {},
   "source": [
    "**Declaring a variable in Python:**\n",
    "\n",
    "![image.png](attachment:image.png)\n",
    "\n",
    "**variable_name** is the name you give the variable and value is the data you want to store in the variable.<br>\n",
    "\n",
    "Some realistic declaration examples are:"
   ]
  },
  {
   "cell_type": "code",
   "execution_count": 1,
   "id": "01c6eff6",
   "metadata": {},
   "outputs": [],
   "source": [
    "name = 'Mike'\n",
    "age = 19\n",
    "courses = ['python programming', 'english language']"
   ]
  },
  {
   "cell_type": "markdown",
   "id": "fbc60958",
   "metadata": {},
   "source": [
    "The variable ‘name’ is assigned a string value ‘Mike’. <br>\n",
    "\n",
    "The variable ‘age’ is assigned an integer value ‘19’. <br>\n",
    "\n",
    "The variable ‘courses’ is assigned a list with values ‘python programming’ and ‘english language’. <br>\n",
    "\n",
    "In Python, you can change the value of a variable after it has been declared."
   ]
  },
  {
   "cell_type": "code",
   "execution_count": 2,
   "id": "875e308e",
   "metadata": {},
   "outputs": [],
   "source": [
    "courses = ['python programming', 'english language']\n",
    "courses = ['python programming', 'english language', 'algorithms and data structures']"
   ]
  },
  {
   "cell_type": "markdown",
   "id": "00a66187",
   "metadata": {},
   "source": [
    "Python only remembers the value of the most recent variable declaration. <br>\n",
    "\n",
    "In this case, any time we use ‘courses’ after the second declaration, you will get the list ['python programming', 'english language', 'algorithms and data structures']. <br>\n",
    "\n",
    "You can declare multiple variables on a single line:"
   ]
  },
  {
   "cell_type": "code",
   "execution_count": 3,
   "id": "a9b74d06",
   "metadata": {},
   "outputs": [],
   "source": [
    "name, age, courses = 'Mike', 19, ['python programming', 'english language', 'algorithms and data structures']\n",
    "x = y = z = 'Jane'"
   ]
  },
  {
   "cell_type": "markdown",
   "id": "82d07630",
   "metadata": {},
   "source": [
    "**Variable naming rules:** <br>\n",
    "\n",
    "Variables are case sensitive (name ≠ Name) and Python has some simple rules to remember when naming variables. \n",
    "\n",
    "- Variables can start with letters (a-z, A-Z) or underscore (_)\n",
    "- No special characters are allowed in a variable name except the underscore. (Cannot use :’”,<>/?|()!@#$%~^&*+)\n",
    "- A variable name can only contain alpha-numeric characters and underscores (a-z, A-Z, 0-9, and _).\n",
    "- Variables are case sensitive.\n",
    "- Variable names can contain numbers but not as the first character.\n",
    "- Avoid Python keywords/reserved words when naming variables. Some keywords include for, and, pass, break, try, True, False, except, else, if, in, not, etc.\n",
    "\n",
    "<br>\n",
    "Some valid variable declarations include:"
   ]
  },
  {
   "cell_type": "code",
   "execution_count": 4,
   "id": "42dfbf07",
   "metadata": {},
   "outputs": [],
   "source": [
    "name = 'Julia'\n",
    "first_name = 'Anna'\n",
    "age = 14\n",
    "_course = 'Python fundamentals'\n",
    "Term = 1"
   ]
  },
  {
   "cell_type": "markdown",
   "id": "96f69898",
   "metadata": {},
   "source": [
    "Some invalid variable declarations include: <br>\n",
    "1name = 'Julia'<br>\n",
    "first#name = 'Anna' <br>\n",
    "True = 14 <br>\n",
    "&course = 'Python fundamentals' <br>\n",
    "Term* = 1 "
   ]
  },
  {
   "cell_type": "markdown",
   "id": "39d4f96e",
   "metadata": {},
   "source": [
    "**Variable casting:** <br>\n",
    "Casting helps you specify the data type of a variable. In Python it is not mandatory, but it can be useful in certain cases."
   ]
  },
  {
   "cell_type": "code",
   "execution_count": 5,
   "id": "9b778215",
   "metadata": {},
   "outputs": [],
   "source": [
    "x = int(2) #x will be 2\n",
    "y = str(2) #y will be '2'\n",
    "z = float(2) #z will be 2.0"
   ]
  },
  {
   "cell_type": "markdown",
   "id": "43f172e8",
   "metadata": {},
   "source": [
    "**Variable Type:** <br>\n",
    "The type()  function gives you the variable type."
   ]
  },
  {
   "cell_type": "code",
   "execution_count": 6,
   "id": "120637c9",
   "metadata": {},
   "outputs": [
    {
     "name": "stdout",
     "output_type": "stream",
     "text": [
      "<class 'int'>\n",
      "<class 'str'>\n"
     ]
    }
   ],
   "source": [
    "x = 2\n",
    "y = \"your_name\"\n",
    "\n",
    "print(type(x))\n",
    "print(type(y))"
   ]
  },
  {
   "cell_type": "markdown",
   "id": "0d35cd4d",
   "metadata": {},
   "source": [
    "The value stored in variable x is an integer while the value stored in variable y is a string."
   ]
  },
  {
   "cell_type": "markdown",
   "id": "cd78e30c",
   "metadata": {},
   "source": [
    "**Declaring variable names with more than one word:** <br>\n",
    "When declaring a multi word variable, it can sometimes be difficult to read. To make variables more readable, there are some techniques which can be used: <br>\n",
    "\n",
    "- Camel Case: Each word except the first starts with a capital letter. <br>\n",
    "    **newVariableName = 'Camel case'** <br>\n",
    "    \n",
    "- Snake Case: Each space in the variable name is replaced with an underscore. <br>\n",
    "    **new_variable_name = 'Snake Case'** <br>\n",
    "    \n",
    "- Pascal Case: Each word (including the first) starts with a capital letter. <br>\n",
    "    **NewVariableName = 'Pascal Case'** <br>"
   ]
  },
  {
   "cell_type": "markdown",
   "id": "f8d9fc82",
   "metadata": {},
   "source": [
    "**Output Variables:** <br>\n",
    "The print() function is used to output variables. You can output single or multiple variables using the print() function. <br>\n",
    "\n",
    "Single variable output:"
   ]
  },
  {
   "cell_type": "code",
   "execution_count": 7,
   "id": "1944faa7",
   "metadata": {},
   "outputs": [
    {
     "name": "stdout",
     "output_type": "stream",
     "text": [
      "Laura\n",
      "22\n"
     ]
    }
   ],
   "source": [
    "name = 'Laura'\n",
    "age = '22'\n",
    "\n",
    "print(name)\n",
    "print(age)"
   ]
  },
  {
   "cell_type": "markdown",
   "id": "f0449571",
   "metadata": {},
   "source": [
    "Printing the variable name gives you the value stored in it which is Laura in this case. <br> <br>\n",
    "Multiple variable output: <br>\n",
    "**Using',':**"
   ]
  },
  {
   "cell_type": "code",
   "execution_count": 8,
   "id": "c3392738",
   "metadata": {},
   "outputs": [
    {
     "name": "stdout",
     "output_type": "stream",
     "text": [
      "Laura is 22\n"
     ]
    }
   ],
   "source": [
    "name = 'Laura'\n",
    "age = '22'\n",
    "mid = 'is'\n",
    "\n",
    "print(name, mid, age)"
   ]
  },
  {
   "cell_type": "markdown",
   "id": "ae8b934a",
   "metadata": {},
   "source": [
    "When you use the ‘,’ to print multiple variables, the output will be each value separated by an empty space. <br> <br>\n",
    "**Using ‘+’:**"
   ]
  },
  {
   "cell_type": "code",
   "execution_count": 9,
   "id": "090be64a",
   "metadata": {},
   "outputs": [
    {
     "name": "stdout",
     "output_type": "stream",
     "text": [
      "Laura is 22\n"
     ]
    }
   ],
   "source": [
    "name = 'Laura '\n",
    "age = '22'\n",
    "mid = 'is '\n",
    "\n",
    "print(name + mid + age)"
   ]
  },
  {
   "cell_type": "markdown",
   "id": "c601a374",
   "metadata": {},
   "source": [
    "The + character can be used to concatenate string values. String concatenation will be addressed in later lectures. When using string concatenation, be sure to add a space after the string value. "
   ]
  },
  {
   "cell_type": "code",
   "execution_count": 10,
   "id": "d73f06c0",
   "metadata": {},
   "outputs": [
    {
     "name": "stdout",
     "output_type": "stream",
     "text": [
      "Laurais22\n"
     ]
    }
   ],
   "source": [
    "name = 'Laura'\n",
    "age = '22'\n",
    "mid = 'is'\n",
    "\n",
    "print(name + mid + age)"
   ]
  },
  {
   "cell_type": "markdown",
   "id": "934e50a6",
   "metadata": {},
   "source": [
    "In the print() function, if you try to concatenate a string value with a number, Python gives you an error."
   ]
  },
  {
   "cell_type": "code",
   "execution_count": 11,
   "id": "47daa694",
   "metadata": {},
   "outputs": [
    {
     "ename": "TypeError",
     "evalue": "can only concatenate str (not \"int\") to str",
     "output_type": "error",
     "traceback": [
      "\u001b[0;31m---------------------------------------------------------------------------\u001b[0m",
      "\u001b[0;31mTypeError\u001b[0m                                 Traceback (most recent call last)",
      "Cell \u001b[0;32mIn[11], line 5\u001b[0m\n\u001b[1;32m      2\u001b[0m age \u001b[38;5;241m=\u001b[39m \u001b[38;5;241m22\u001b[39m\n\u001b[1;32m      3\u001b[0m mid \u001b[38;5;241m=\u001b[39m \u001b[38;5;124m'\u001b[39m\u001b[38;5;124mis\u001b[39m\u001b[38;5;124m'\u001b[39m\n\u001b[0;32m----> 5\u001b[0m \u001b[38;5;28mprint\u001b[39m(name \u001b[38;5;241m+\u001b[39m mid \u001b[38;5;241m+\u001b[39m age)\n",
      "\u001b[0;31mTypeError\u001b[0m: can only concatenate str (not \"int\") to str"
     ]
    }
   ],
   "source": [
    "name = 'Laura'\n",
    "age = 22\n",
    "mid = 'is'\n",
    "\n",
    "print(name + mid + age)"
   ]
  },
  {
   "cell_type": "markdown",
   "id": "6c9ed9b1",
   "metadata": {},
   "source": [
    "**As a mathematical operator:**"
   ]
  },
  {
   "cell_type": "code",
   "execution_count": 12,
   "id": "c6c9457d",
   "metadata": {},
   "outputs": [
    {
     "name": "stdout",
     "output_type": "stream",
     "text": [
      "13\n"
     ]
    }
   ],
   "source": [
    "x = 6\n",
    "y = 7\n",
    "\n",
    "print(x+y)"
   ]
  },
  {
   "cell_type": "markdown",
   "id": "c2c915de",
   "metadata": {},
   "source": [
    "For integers and floating-point numbers (numbers), the + works as a mathematical operator performing addition."
   ]
  }
 ],
 "metadata": {
  "kernelspec": {
   "display_name": "Python 3 (ipykernel)",
   "language": "python",
   "name": "python3"
  },
  "language_info": {
   "codemirror_mode": {
    "name": "ipython",
    "version": 3
   },
   "file_extension": ".py",
   "mimetype": "text/x-python",
   "name": "python",
   "nbconvert_exporter": "python",
   "pygments_lexer": "ipython3",
   "version": "3.11.5"
  }
 },
 "nbformat": 4,
 "nbformat_minor": 5
}
