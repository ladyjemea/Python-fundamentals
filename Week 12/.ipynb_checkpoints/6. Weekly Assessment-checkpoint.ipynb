{
 "cells": [
  {
   "cell_type": "markdown",
   "id": "c28f5b88",
   "metadata": {},
   "source": [
    "<img src=\"LaeCodes.png\" \n",
    "     align=\"center\" \n",
    "     width=\"100\" />"
   ]
  },
  {
   "cell_type": "markdown",
   "id": "3830e8ae",
   "metadata": {},
   "source": [
    "# Weekly Assessment"
   ]
  },
  {
   "cell_type": "markdown",
   "id": "dc130f49",
   "metadata": {},
   "source": [
    "1. What are the basic steps involved in web scraping using the BeautifulSoup library in Python? Provide a simple example of extracting the title and all paragraph texts from a webpage. <br>\n",
    "2. How can you create a simple web scraper using Scrapy to extract data from a website? Describe the process of setting up a Scrapy project, generating a spider, and extracting data from a webpage.<br>\n",
    "3. What are APIs, and how can the Requests library be used in Python to interact with a RESTful API? Provide an example of making a GET request to retrieve user data from an API and a POST request to send user data to an API. <br>\n",
    "4. How can you create a simple RESTful API using Flask in Python? Describe the process and provide a code example that includes endpoints for retrieving all users, retrieving a user by ID, and creating a new user. <br>\n",
    "5. What are some popular external libraries in Python, and what are they used for? Discuss libraries such as numpy for numerical operations, pandas for data analysis, and matplotlib for data visualization. <br>\n",
    "6. Explain how to use an external library in a Python script. Provide an example of using the requests library to make an HTTP GET request to an API."
   ]
  }
 ],
 "metadata": {
  "kernelspec": {
   "display_name": "Python 3 (ipykernel)",
   "language": "python",
   "name": "python3"
  },
  "language_info": {
   "codemirror_mode": {
    "name": "ipython",
    "version": 3
   },
   "file_extension": ".py",
   "mimetype": "text/x-python",
   "name": "python",
   "nbconvert_exporter": "python",
   "pygments_lexer": "ipython3",
   "version": "3.11.5"
  }
 },
 "nbformat": 4,
 "nbformat_minor": 5
}
