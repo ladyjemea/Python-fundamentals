{
 "cells": [
  {
   "cell_type": "markdown",
   "id": "bac27747",
   "metadata": {},
   "source": [
    "<img src=\"LaeCodes.png\" \n",
    "     align=\"center\" \n",
    "     width=\"100\" />"
   ]
  },
  {
   "cell_type": "markdown",
   "id": "709f2cc7",
   "metadata": {},
   "source": [
    "# Namespaces\n",
    "\n",
    "A namespace in Python is a collection of currently defined symbolic names along with information about the object that each name references. It is a mapping from names (identifiers) to objects. Namespaces are used to keep track of all the names defined in a program; ensuring that names in different parts of the program do not collide. Different namespaces can coexist at any given time but are completely isolated from each other. The types of namespaces include: <br>\n",
    "1.\tLocal Namespace: Contains local names inside a function. This namespace is created when a function is called and deleted when the function returns. <br>\n",
    "2.\tGlobal Namespace: Contains names from the module level. This namespace is created when the module is imported and lasts until the interpreter terminates. <br>\n",
    "3.\tBuilt-in Namespace: Contains built-in functions and exceptions. This namespace is created when the interpreter starts and remains in existence until the interpreter terminates.<br>\n",
    "\n",
    "**Scope and Namespace**\n",
    "<br>\n",
    "The scope of a name defines the area of the program in which you can unambiguously access that name. Python uses the LEGB rule to resolve names: <br>\n",
    "•\tL (Local): Names defined within a function. <br>\n",
    "•\tE (Enclosing): Names defined in any enclosing function, such as a nested function. <br>\n",
    "•\tG (Global): Names defined at the module level. <br>\n",
    "•\tB (Built-in): Names predefined in the built-in namespace. <br>\n",
    "\n",
    "**Example of Namespace and Scope**"
   ]
  },
  {
   "cell_type": "code",
   "execution_count": 1,
   "id": "f448ba19",
   "metadata": {},
   "outputs": [
    {
     "name": "stdout",
     "output_type": "stream",
     "text": [
      "local x\n",
      "enclosing x\n",
      "global x\n"
     ]
    }
   ],
   "source": [
    "# Global namespace\n",
    "x = \"global x\"\n",
    "\n",
    "def outer():\n",
    "    # Enclosing namespace\n",
    "    x = \"enclosing x\"\n",
    "\n",
    "    def inner():\n",
    "        # Local namespace\n",
    "        x = \"local x\"\n",
    "        print(x)  # Output: local x\n",
    "\n",
    "    inner()\n",
    "    print(x)  # Output: enclosing x\n",
    "\n",
    "outer()\n",
    "print(x)  # Output: global x"
   ]
  },
  {
   "cell_type": "markdown",
   "id": "551e8575",
   "metadata": {},
   "source": [
    "In the above example, the variable x is defined in three different namespaces: local, enclosing, and global. The inner function prints the local x, the outer function prints the enclosing x, and outside the functions, the global x is printed. <br>\n",
    "\n",
    "**Importing and Namespaces**\n",
    "<br>\n",
    "When you import a module, a new namespace is created. This namespace contains all the definitions from the module. For example:"
   ]
  },
  {
   "cell_type": "code",
   "execution_count": 2,
   "id": "4302def6",
   "metadata": {},
   "outputs": [
    {
     "name": "stdout",
     "output_type": "stream",
     "text": [
      "4.0\n"
     ]
    }
   ],
   "source": [
    "import math\n",
    "\n",
    "print(math.sqrt(16))"
   ]
  },
  {
   "cell_type": "markdown",
   "id": "c2a3db5b",
   "metadata": {},
   "source": [
    "Here, math is a namespace containing names like sqrt, pi, etc. This prevents name conflicts because you have to prefix sqrt with math to use it.\n",
    "<br><br>\n",
    "**Importing Specific Names** <br>\n",
    "You can import specific names from a module into the global namespace:"
   ]
  },
  {
   "cell_type": "code",
   "execution_count": 3,
   "id": "dff57123",
   "metadata": {},
   "outputs": [
    {
     "name": "stdout",
     "output_type": "stream",
     "text": [
      "4.0\n"
     ]
    }
   ],
   "source": [
    "from math import sqrt\n",
    "\n",
    "print(sqrt(16))"
   ]
  },
  {
   "cell_type": "markdown",
   "id": "ac1431cf",
   "metadata": {},
   "source": [
    "This way, sqrt is directly accessible without the math. prefix. <br>\n",
    "\n",
    "**Aliasing** <br>\n",
    "You can give a module or a name within a module a different name using the as keyword:"
   ]
  },
  {
   "cell_type": "code",
   "execution_count": 4,
   "id": "f8bfeff7",
   "metadata": {},
   "outputs": [
    {
     "name": "stdout",
     "output_type": "stream",
     "text": [
      "4.0\n"
     ]
    }
   ],
   "source": [
    "import math as m\n",
    "\n",
    "print(m.sqrt(16))"
   ]
  },
  {
   "cell_type": "markdown",
   "id": "9e30f25b",
   "metadata": {},
   "source": [
    "Or for specific names:"
   ]
  },
  {
   "cell_type": "code",
   "execution_count": 5,
   "id": "2362342f",
   "metadata": {},
   "outputs": [
    {
     "name": "stdout",
     "output_type": "stream",
     "text": [
      "4.0\n"
     ]
    }
   ],
   "source": [
    "from math import sqrt as s\n",
    "print(s(16))  "
   ]
  }
 ],
 "metadata": {
  "kernelspec": {
   "display_name": "Python 3 (ipykernel)",
   "language": "python",
   "name": "python3"
  },
  "language_info": {
   "codemirror_mode": {
    "name": "ipython",
    "version": 3
   },
   "file_extension": ".py",
   "mimetype": "text/x-python",
   "name": "python",
   "nbconvert_exporter": "python",
   "pygments_lexer": "ipython3",
   "version": "3.11.5"
  }
 },
 "nbformat": 4,
 "nbformat_minor": 5
}
