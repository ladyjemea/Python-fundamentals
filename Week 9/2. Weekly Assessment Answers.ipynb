{
 "cells": [
  {
   "cell_type": "markdown",
   "id": "10f89da6",
   "metadata": {},
   "source": [
    "<img src=\"LaeCodes.png\" \n",
    "     align=\"center\" \n",
    "     width=\"100\" />"
   ]
  },
  {
   "cell_type": "markdown",
   "id": "1821037b",
   "metadata": {},
   "source": [
    "# Weekly Assessment Answers"
   ]
  },
  {
   "cell_type": "code",
   "execution_count": 1,
   "id": "b3b77dda",
   "metadata": {},
   "outputs": [
    {
     "name": "stdout",
     "output_type": "stream",
     "text": [
      "Enter password length: 6\n",
      "Generated password: !e5O[M\n"
     ]
    }
   ],
   "source": [
    "# Create a program that generates a random password of a given length. The password should include letters, digits, and special characters.\n",
    "\n",
    "import random\n",
    "import string\n",
    "\n",
    "def generate_password(length):\n",
    "    characters = string.ascii_letters + string.digits + string.punctuation\n",
    "    password = ''.join(random.choice(characters) for i in range(length))\n",
    "    return password\n",
    "\n",
    "length = int(input(\"Enter password length: \"))\n",
    "print(f\"Generated password: {generate_password(length)}\")"
   ]
  },
  {
   "cell_type": "code",
   "execution_count": 3,
   "id": "3f31543e",
   "metadata": {},
   "outputs": [
    {
     "name": "stdout",
     "output_type": "stream",
     "text": [
      "You: have a nice day\n",
      "Lae: I don't understand that. Can you ask something else?\n",
      "You: have a nice day!\n",
      "Lae: Thanks! Have a nice day!\n",
      "You: what is your name\n",
      "Lae: I'm Lae.\n",
      "You: bye\n",
      "Lae: Goodbye!\n"
     ]
    }
   ],
   "source": [
    "# Build a basic chatbot that can respond to a few predefined questions or statements.\n",
    "\n",
    "def chatbot_response(message):\n",
    "    responses = {\n",
    "        \"hi\": \"Hello! How can I help you today?\",\n",
    "        \"how are you\": \"I'm fine, thanks for asking!\",\n",
    "        \"have a nice day\": \"Thanks! Have a nice day!\",\n",
    "        \"what is your name\": \"I'm Lae.\"\n",
    "    }\n",
    "    return responses.get(message.lower(), \"I don't understand that. Can you ask something else?\")\n",
    "\n",
    "while True:\n",
    "    message = input(\"You: \").strip().lower()\n",
    "    if message == \"exit\" or message == \"bye\":\n",
    "        print(\"Lae: Goodbye!\")\n",
    "        break\n",
    "    print(f\"Lae: {chatbot_response(message)}\")"
   ]
  },
  {
   "cell_type": "code",
   "execution_count": 6,
   "id": "df75044e",
   "metadata": {},
   "outputs": [
    {
     "name": "stdout",
     "output_type": "stream",
     "text": [
      "Enter command (1 = km to miles, 2 = celsius to fahrenheit, 3 = exit): 2\n",
      "Enter Celsius: r\n",
      "Please enter a valid number for Celsius.\n",
      "Enter command (1 = km to miles, 2 = celsius to fahrenheit, 3 = exit): 2\n",
      "Enter Celsius: 4\n",
      "4.0 Celsius is 39.2 Fahrenheit\n",
      "Enter command (1 = km to miles, 2 = celsius to fahrenheit, 3 = exit): 1\n",
      "Enter kilometers: ghtg,.-\n",
      "Please enter a valid number for kilometers.\n",
      "Enter command (1 = km to miles, 2 = celsius to fahrenheit, 3 = exit): 1\n",
      "Enter kilometers: 898\n",
      "898.0 kilometers is 557.991158 miles\n",
      "Enter command (1 = km to miles, 2 = celsius to fahrenheit, 3 = exit): 3\n"
     ]
    }
   ],
   "source": [
    "# Create a program that converts units of measurement (e.g., kilometers to miles, Celsius to Fahrenheit).\n",
    "\n",
    "def km_to_miles(km):\n",
    "    return km * 0.621371\n",
    "\n",
    "def celsius_to_fahrenheit(celsius):\n",
    "    return celsius * 9/5 + 32\n",
    "\n",
    "while True:\n",
    "    command = input(\"Enter command (1 = km to miles, 2 = celsius to fahrenheit, 3 = exit): \").strip().lower()\n",
    "    if command == \"exit\" or command == \"3\":\n",
    "        break\n",
    "    if command == \"1\":\n",
    "        try:\n",
    "            km = float(input(\"Enter kilometers: \"))\n",
    "            print(f\"{km} kilometers is {km_to_miles(km)} miles\")\n",
    "        except ValueError:\n",
    "            print(\"Please enter a valid number for kilometers.\")\n",
    "    elif command == \"2\":\n",
    "        try:\n",
    "            celsius = float(input(\"Enter Celsius: \"))\n",
    "            print(f\"{celsius} Celsius is {celsius_to_fahrenheit(celsius)} Fahrenheit\")\n",
    "        except ValueError:\n",
    "            print(\"Please enter a valid number for Celsius.\")\n",
    "    else:\n",
    "        print(\"Unknown command\")\n"
   ]
  },
  {
   "cell_type": "code",
   "execution_count": 12,
   "id": "78cfd916",
   "metadata": {},
   "outputs": [
    {
     "name": "stdout",
     "output_type": "stream",
     "text": [
      "Enter amount: ggjikj\n",
      "Please enter a valid numeric amount.\n",
      "Enter amount: 675\n",
      "Enter from currency (usd/eur/gbp): dgvv\n",
      "Please enter a valid currency (usd/eur/gbp).\n",
      "Enter from currency (usd/eur/gbp): eur\n",
      "Enter to currency (usd/eur/gbp): as\n",
      "Please enter a valid currency (usd/eur/gbp).\n",
      "Enter to currency (usd/eur/gbp): usd\n",
      "675.0 EUR is 796.50 USD\n"
     ]
    }
   ],
   "source": [
    "# Create a simple currency converter that converts an amount from one currency to another using predefined exchange rates.\n",
    "\n",
    "exchange_rates = {\n",
    "    \"usd_to_eur\": 0.85,\n",
    "    \"eur_to_usd\": 1.18,\n",
    "    \"usd_to_gbp\": 0.75,\n",
    "    \"gbp_to_usd\": 1.33\n",
    "}\n",
    "\n",
    "def convert_currency(amount, from_currency, to_currency):\n",
    "    key = f\"{from_currency}_to_{to_currency}\"\n",
    "    if key in exchange_rates:\n",
    "        return amount * exchange_rates[key]\n",
    "    else:\n",
    "        return None\n",
    "\n",
    "def get_valid_amount():\n",
    "    while True:\n",
    "        try:\n",
    "            amount = float(input(\"Enter amount: \"))\n",
    "            return amount\n",
    "        except ValueError:\n",
    "            print(\"Please enter a valid numeric amount.\")\n",
    "\n",
    "def get_valid_currency(prompt):\n",
    "    valid_currencies = [\"usd\", \"eur\", \"gbp\"]\n",
    "    while True:\n",
    "        currency = input(prompt).strip().lower()\n",
    "        if currency in valid_currencies:\n",
    "            return currency\n",
    "        else:\n",
    "            print(\"Please enter a valid currency (usd/eur/gbp).\")\n",
    "\n",
    "amount = get_valid_amount()\n",
    "from_currency = get_valid_currency(\"Enter from currency (usd/eur/gbp): \")\n",
    "to_currency = get_valid_currency(\"Enter to currency (usd/eur/gbp): \")\n",
    "\n",
    "converted_amount = convert_currency(amount, from_currency, to_currency)\n",
    "\n",
    "if converted_amount is not None:\n",
    "    print(f\"{amount} {from_currency.upper()} is {converted_amount:.2f} {to_currency.upper()}\")\n",
    "else:\n",
    "    print(\"Conversion not available\")"
   ]
  }
 ],
 "metadata": {
  "kernelspec": {
   "display_name": "Python 3 (ipykernel)",
   "language": "python",
   "name": "python3"
  },
  "language_info": {
   "codemirror_mode": {
    "name": "ipython",
    "version": 3
   },
   "file_extension": ".py",
   "mimetype": "text/x-python",
   "name": "python",
   "nbconvert_exporter": "python",
   "pygments_lexer": "ipython3",
   "version": "3.11.5"
  }
 },
 "nbformat": 4,
 "nbformat_minor": 5
}
