{
 "cells": [
  {
   "cell_type": "markdown",
   "id": "3668fea4",
   "metadata": {},
   "source": [
    "<img src=\"LaeCodes.png\" \n",
    "align=\"center\" \n",
    "width=\"100\" />"
   ]
  },
  {
   "cell_type": "markdown",
   "id": "655a3c27",
   "metadata": {},
   "source": [
    "1. What is a class in Python?\n",
    "7. What is the purpose of the __init__ method?\n",
    "8. How do you access attributes and methods of a class object in Python?\n",
    "9. What is inheritance in OOP?\n",
    "10. Create a Car class with the following attributes: make, model, and year. Implement a method display_info that prints the car's details. Then, create an instance of Car and display its details.\n",
    "11. Implement a BankAccount class with attributes account_number and balance. Include methods to deposit, withdraw, and display the balance. Ensure that withdrawals do not exceed the available balance.\n",
    "12. Create a Rectangle class with attributes length and width. Implement methods to calculate and return the area and perimeter of the rectangle. Then, create an instance of Rectangle and print its area and perimeter.\n",
    "13. Define a Person class with attributes name and age. Implement a method greet that prints a greeting message including the person's name. Then, create two instances of Person and call their greet methods.\n",
    "14. Implement an Employee class with attributes name, id, and salary. Include a method give_raise that increases the salary by a given percentage. Create an instance of Employee, give them a raise, and display the updated salary.\n",
    "15. What is Polymorphism in OOP?"
   ]
  }
 ],
 "metadata": {
  "kernelspec": {
   "display_name": "Python 3 (ipykernel)",
   "language": "python",
   "name": "python3"
  },
  "language_info": {
   "codemirror_mode": {
    "name": "ipython",
    "version": 3
   },
   "file_extension": ".py",
   "mimetype": "text/x-python",
   "name": "python",
   "nbconvert_exporter": "python",
   "pygments_lexer": "ipython3",
   "version": "3.11.5"
  }
 },
 "nbformat": 4,
 "nbformat_minor": 5
}
