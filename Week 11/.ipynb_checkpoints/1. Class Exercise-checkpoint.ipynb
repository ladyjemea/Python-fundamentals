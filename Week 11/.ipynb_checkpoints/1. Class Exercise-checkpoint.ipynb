{
 "cells": [
  {
   "cell_type": "markdown",
   "id": "0e0f7eef",
   "metadata": {},
   "source": [
    "<img src=\"LaeCodes.png\" \n",
    "align=\"center\" \n",
    "width=\"100\" />"
   ]
  },
  {
   "cell_type": "markdown",
   "id": "2b31eb20",
   "metadata": {},
   "source": [
    "## Class Exercise"
   ]
  },
  {
   "cell_type": "markdown",
   "id": "b7920e62",
   "metadata": {},
   "source": [
    "Create a command-line application that allows users to manage a to-do list. The application should support adding tasks, removing tasks, listing all tasks, and marking tasks as completed. Tasks should be persisted in a text file so that they are saved between runs of the program."
   ]
  }
 ],
 "metadata": {
  "kernelspec": {
   "display_name": "Python 3 (ipykernel)",
   "language": "python",
   "name": "python3"
  },
  "language_info": {
   "codemirror_mode": {
    "name": "ipython",
    "version": 3
   },
   "file_extension": ".py",
   "mimetype": "text/x-python",
   "name": "python",
   "nbconvert_exporter": "python",
   "pygments_lexer": "ipython3",
   "version": "3.11.5"
  }
 },
 "nbformat": 4,
 "nbformat_minor": 5
}
