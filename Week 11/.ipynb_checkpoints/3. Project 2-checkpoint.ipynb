{
 "cells": [
  {
   "cell_type": "markdown",
   "id": "690cc781",
   "metadata": {},
   "source": [
    "<img src=\"LaeCodes.png\" \n",
    "     align=\"center\" \n",
    "     width=\"100\" />"
   ]
  },
  {
   "cell_type": "markdown",
   "id": "1c3b51a5",
   "metadata": {},
   "source": [
    "# Project 2:"
   ]
  },
  {
   "cell_type": "markdown",
   "id": "fec769c9",
   "metadata": {},
   "source": [
    "#### Project - Contact Management System\n",
    "**Objective:** <br>\n",
    "To build a basic contact management system where users can add, view, and search for contacts.\n",
    "\n",
    "**Instructions:** <br>\n",
    "- Create a new Python file named contact_management_system.py.\n",
    "- Implement the following functions as described.\n",
    "- Use lists and dictionaries to store and manage contact data.\n",
    "\n",
    "**Requirements:** <br>\n",
    "Data Structure <br>\n",
    "Use a list of dictionaries to store contact information. Each dictionary should represent a contact with the following keys:\n",
    "\n",
    "- name: The name of the contact (string)\n",
    "- phone: The phone number of the contact (string)\n",
    "- email: The email address of the contact (string)\n",
    "\n",
    "**Functions** <br>\n",
    "Implement the following functions:\n",
    "\n",
    "- add_contact(contacts, name, phone, email): Adds a new contact to the contact list.\n",
    "- view_contacts(contacts): Displays all contacts in the contact list.\n",
    "- search_contact(contacts, search_term): Searches for contacts by name and displays matching results.\n",
    "\n",
    "**User Interaction** <br>\n",
    "Create a simple user interface to interact with the contact management system. Implement the following menu options:\n",
    "\n",
    "- Add a contact\n",
    "- View all contacts\n",
    "- Search for a contact\n",
    "- Exit\n",
    "\n",
    "**Submission:** <br>\n",
    "- Ensure your code is properly formatted and commented.\n",
    "- Submit your contact_management_system.py file."
   ]
  }
 ],
 "metadata": {
  "kernelspec": {
   "display_name": "Python 3 (ipykernel)",
   "language": "python",
   "name": "python3"
  },
  "language_info": {
   "codemirror_mode": {
    "name": "ipython",
    "version": 3
   },
   "file_extension": ".py",
   "mimetype": "text/x-python",
   "name": "python",
   "nbconvert_exporter": "python",
   "pygments_lexer": "ipython3",
   "version": "3.11.5"
  }
 },
 "nbformat": 4,
 "nbformat_minor": 5
}
