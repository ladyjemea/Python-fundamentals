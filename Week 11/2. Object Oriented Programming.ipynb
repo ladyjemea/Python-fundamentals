{
 "cells": [
  {
   "cell_type": "markdown",
   "id": "5776d4b0",
   "metadata": {},
   "source": [
    "<img src=\"LaeCodes.png\" \n",
    "     align=\"center\" \n",
    "     width=\"100\" />"
   ]
  },
  {
   "cell_type": "markdown",
   "id": "c1c86f0e",
   "metadata": {},
   "source": [
    "**Outline:**\n",
    "- Class Exercises\n",
    "- Object Oriented Programming\n",
    "- Weekly Assessment"
   ]
  },
  {
   "cell_type": "markdown",
   "id": "1f574f3e",
   "metadata": {},
   "source": [
    "# Object Oriented Programming (OOP):"
   ]
  },
  {
   "attachments": {
    "image.png": {
     "image/png": "[encoded data removed]"
    }
   },
   "cell_type": "markdown",
   "id": "c69ff902",
   "metadata": {},
   "source": [
    "Object Oriented Programming is a programming paradigm centered around the concept of objects and classes. Objects are instances of classes, which can encapsulate both data (attributes) and functions (methods) that operate on the data. OOP promotes modularity, reusability, and abstraction in software design. It is used to structure a software program into simple, reusable pieces of code blueprints (usually called classes), which are used to create individual instances of objects.\n",
    "<br>\n",
    "\n",
    "Key Concepts of OOP\n",
    "<br>\n",
    "\n",
    "- Classes and Objects\n",
    "- Encapsulation\n",
    "- Inheritance\n",
    "- Polymorphism\n",
    "- Abstraction\n",
    "\n",
    "<br>\n",
    "\n",
    "**Classes and Objects:**\n",
    "<br>\n",
    "\n",
    "Classes are a fundamental concept in object-oriented programming (OOP). In Python, a class is a blueprint for creating objects (instances) which have attributes (variables) and methods (functions). They help us logically group our data (attributes) and functions (methods) in a way that is easy to reuse and build upon.\n",
    "<br>\n",
    "\n",
    "An object is a collection of data (variables) and methods (functions).\n",
    "<br>\n",
    "\n",
    "If we had an application for a company and we wanted to represent the employees in our code, this will be a great use case for a class giving that each employee has attributes and methods like their name, email, salary and some actions that they perform. We can use a class as a blueprint to create each employee, so we do not have to manually do it from scratch each time.\n",
    "<br>\n",
    "\n",
    "In the context of a house, we can think of the class as a sketch (prototype). It contains all the details about the floors, doors, windows, etc.\n",
    "Based on these descriptions, we build the house; the house is the object.\n",
    "Since many houses can be made from the same description, we can create many objects from a class.\n",
    "<br>\n",
    "\n",
    "**Class Definition:**\n",
    "<br>\n",
    "A class is defined using the ‘class’ keyword followed by the name of the class.\n",
    "![image.png](attachment:image.png)"
   ]
  },
  {
   "cell_type": "markdown",
   "id": "b17c60d7",
   "metadata": {},
   "source": [
    "**Attributes:**\n",
    "<br>\n",
    "Attributes are variables that hold data associated with a class and its objects. They are defined within a class and are accessed using dot notation (‘object.attribute’)."
   ]
  },
  {
   "cell_type": "code",
   "execution_count": 1,
   "id": "1817a0b3",
   "metadata": {},
   "outputs": [],
   "source": [
    "class Person:\n",
    "    # name and age are attributes of the Person class\n",
    "    def __init__(self, name, age):\n",
    "        self.name = name\n",
    "        self.age = age"
   ]
  },
  {
   "cell_type": "markdown",
   "id": "662f4b4f",
   "metadata": {},
   "source": [
    "**Methods:**\n",
    "<br>\n",
    "Methods are functions defined within a class that operate on objects created from that class. They can access and modify object attributes. Methods in a class must have at least one parameter (usually named ‘self’) which refers to the instance of the class. "
   ]
  },
  {
   "cell_type": "code",
   "execution_count": 2,
   "id": "6e357494",
   "metadata": {},
   "outputs": [],
   "source": [
    "class Circle:\n",
    "    def __init__(self, radius):\n",
    "        self.radius = radius\n",
    "    \n",
    "    #the 'area' method\n",
    "    def area(self):\n",
    "        return 3.14 * self.radius ** 2"
   ]
  },
  {
   "cell_type": "markdown",
   "id": "fc92d56b",
   "metadata": {},
   "source": [
    "**Class Attributes and Methods:**\n",
    "<br>\n",
    "Class attributes are variables shared by all instances of a class. <br>\n",
    "Class methods are methods that are bound to the class rather than its instances. They are defined using the ‘@classmethod’ decorator."
   ]
  },
  {
   "cell_type": "code",
   "execution_count": 1,
   "id": "f157d95f",
   "metadata": {},
   "outputs": [],
   "source": [
    "class Employee:\n",
    "    #This is a class attribute, shared by all instances of the Employee class\n",
    "    raise_amount = 1.05\n",
    "    \n",
    "    def __init__(self, name, salary):\n",
    "        self.name = name\n",
    "        self.salary = salary\n",
    "        \n",
    "    @classmethod\n",
    "    #This decorator indicates that set_raise_amount is a class method\n",
    "    def set_raise_amount(cls, amount):\n",
    "        cls.raise_amount = amount"
   ]
  },
  {
   "cell_type": "markdown",
   "id": "e228661e",
   "metadata": {},
   "source": [
    "- @classmethod: This decorator indicates that set_raise_amount is a class method. Class methods take the class itself as the first argument (conventionally named cls), rather than an instance of the class.\n",
    "<br>\n",
    "- def set_raise_amount(cls, amount): This defines the class method set_raise_amount. It takes two parameters: cls (the class) and amount (the new raise amount).\n",
    "<br>\n",
    "- cls.raise_amount = amount: This line sets the class attribute raise_amount to the provided amount. Since it's a class method, this change affects the raise_amount for all instances of the Employee class."
   ]
  },
  {
   "cell_type": "markdown",
   "id": "af12432e",
   "metadata": {},
   "source": [
    "**Constructor (‘__init__’ method):**\n",
    "<br>\n",
    "The __init__() method is called automatically when an instance of a class is created. It initializes object attributes. It's a special method in Python classes and is often referred to as the constructor.\n",
    "<br><br>\n",
    "**Key Points about __init__ Method:**<br>\n",
    "**Initialization:** The primary role of __init__ is to initialize the attributes of the object. <br>\n",
    "**Automatic Call:** It is called automatically when a new object of the class is instantiated. <br>\n",
    "**Self Parameter:** The first parameter of __init__ is always self, which is a reference to the instance being created. This allows you to set attributes on the object."
   ]
  },
  {
   "cell_type": "code",
   "execution_count": 4,
   "id": "3f76b468",
   "metadata": {},
   "outputs": [],
   "source": [
    "class Car:\n",
    "    def __init__(self, brand, model):\n",
    "        self.brand = brand\n",
    "        self.model = model\n",
    "\n",
    "# Creating an instance of the Car class\n",
    "my_car = Car(\"Toyota\", \"Camry\")"
   ]
  },
  {
   "cell_type": "markdown",
   "id": "5fa0984a",
   "metadata": {},
   "source": [
    "In this example:\n",
    "- The Car class has an __init__ method defined with two parameters: brand and model.\n",
    "- When you create an instance of the Car class (my_car), you pass values for brand and model.\n",
    "- Inside the __init__ method, these values are used to initialize the instance variables self.brand and self.model.\n",
    "<br>\n",
    "You can then access these instance variables using dot notation (object_name.variable_name):"
   ]
  },
  {
   "cell_type": "code",
   "execution_count": 2,
   "id": "5eec3e68",
   "metadata": {},
   "outputs": [
    {
     "name": "stdout",
     "output_type": "stream",
     "text": [
      "Brand: Toyota\n",
      "Model: Camry\n"
     ]
    }
   ],
   "source": [
    "print(\"Brand:\", my_car.brand)  # Outputs: Brand: Toyota\n",
    "print(\"Model:\", my_car.model)  # Outputs: Model: Camry"
   ]
  },
  {
   "cell_type": "markdown",
   "id": "774361d1",
   "metadata": {},
   "source": [
    "The __init__ method can perform various tasks such as initializing instance variables, validating input data, or setting default values. It's a fundamental part of Python classes and is often used to ensure that objects are properly initialized when they're created."
   ]
  },
  {
   "cell_type": "markdown",
   "id": "4ca595ff",
   "metadata": {},
   "source": [
    "**Instance/Object Creation:**\n",
    "<br>\n",
    "Objects are instances of a class. They are created using the class name followed by parentheses. In our employee example, each employee created will be an instance of the employee class."
   ]
  },
  {
   "cell_type": "code",
   "execution_count": 11,
   "id": "51ffb807",
   "metadata": {},
   "outputs": [],
   "source": [
    "class Employee:\n",
    "    def __init__(self, name, age, salary):\n",
    "        self.name = name\n",
    "        self.age = age\n",
    "        self.salary = salary\n",
    "\n",
    "employee1 = Employee('Lae', 29, 50000) #an instance of the Employee class - an Employee object\n",
    "employee2 = Employee('Paul', 28, 48000)"
   ]
  },
  {
   "cell_type": "code",
   "execution_count": 2,
   "id": "1c43af1f",
   "metadata": {
    "scrolled": true
   },
   "outputs": [
    {
     "name": "stdout",
     "output_type": "stream",
     "text": [
      "Buddy is 9 years old.\n",
      "Milo is 5 years old.\n",
      "Buddy says Woof Woof.\n",
      "Milo says Bark Bark.\n"
     ]
    }
   ],
   "source": [
    "class Dog:\n",
    "    # Class attribute\n",
    "    species = \"Canis familiaris\"\n",
    "\n",
    "    # Initializer / Instance attributes\n",
    "    def __init__(self, name, age):\n",
    "        self.name = name\n",
    "        self.age = age\n",
    "\n",
    "    # Instance method\n",
    "    def description(self):\n",
    "        return f\"{self.name} is {self.age} years old.\"\n",
    "\n",
    "    # Another instance method\n",
    "    def speak(self, sound):\n",
    "        return f\"{self.name} says {sound}.\"\n",
    "\n",
    "\n",
    "dog1 = Dog(\"Buddy\", 9)\n",
    "dog2 = Dog(\"Milo\", 5)\n",
    "\n",
    "print(dog1.description())\n",
    "print(dog2.description()) \n",
    "\n",
    "print(dog1.speak(\"Woof Woof\")) \n",
    "print(dog2.speak(\"Bark Bark\")) "
   ]
  },
  {
   "cell_type": "markdown",
   "id": "7222441e",
   "metadata": {},
   "source": [
    "**Instance variables:**\n",
    "<br>\n",
    "These are variables associated with instances (individual objects) of a class. They represent the attributes or properties that each object of the class possesses. \n",
    "<br>\n",
    "\n",
    "When you create a class, you define its structure, including its instance variables. Each instance of that class (i.e., each object created from that class) has its own set of instance variables, independent of other instances of the same class. These variables define the state of each object and can have different values for different objects. <br>\n",
    "\n",
    "For example, let's consider a class called Car:\n"
   ]
  },
  {
   "cell_type": "code",
   "execution_count": 12,
   "id": "09c117c0",
   "metadata": {},
   "outputs": [],
   "source": [
    "class Car:\n",
    "    def __init__(self, brand, model):\n",
    "        self.brand = brand\n",
    "        self.model = model\n",
    "        self.speed = 0"
   ]
  },
  {
   "cell_type": "markdown",
   "id": "3ce884e4",
   "metadata": {},
   "source": [
    "In this example, brand, model, and speed are instance variables of the Car class. When you create an instance of the Car class, such as:"
   ]
  },
  {
   "cell_type": "code",
   "execution_count": 13,
   "id": "10977bf9",
   "metadata": {},
   "outputs": [],
   "source": [
    "my_car = Car(\"Toyota\", \"Camry\")\n",
    "your_car = Car(\"Mercedes\", \"G-Wagon\")"
   ]
  },
  {
   "cell_type": "markdown",
   "id": "8eca75d9",
   "metadata": {},
   "source": [
    "You're creating an object my_car with its own set of instance variables. In this case, my_car will have its brand, model, and speed attributes. <br>\n",
    "Instance variables are accessed using dot notation (object_name.variable_name), such as my_car.brand or my_car.speed. Each object's instance variables can be modified independently of other objects of the same class. For example, you can increase the speed of my_car without affecting the speed of another Car object."
   ]
  },
  {
   "cell_type": "code",
   "execution_count": 14,
   "id": "11bb60f1",
   "metadata": {},
   "outputs": [
    {
     "name": "stdout",
     "output_type": "stream",
     "text": [
      "Brand: Toyota\n",
      "Model: G-Wagon\n",
      "Speed: 60\n"
     ]
    }
   ],
   "source": [
    "class Car:\n",
    "    def __init__(self, brand, model):\n",
    "        self.brand = brand\n",
    "        self.model = model\n",
    "        self.speed = 0\n",
    "\n",
    "my_car = Car(\"Toyota\", \"Camry\")\n",
    "your_car = Car(\"Mercedes\", \"G-Wagon\")\n",
    "\n",
    "my_car.speed = 60  #Sets the speed of my_car to 60\n",
    "\n",
    "#Access the instance variables using the dot notation\n",
    "print(\"Brand:\", my_car.brand)\n",
    "print(\"Model:\", your_car.model)\n",
    "print(\"Speed:\", my_car.speed)"
   ]
  },
  {
   "cell_type": "markdown",
   "id": "7c81f720",
   "metadata": {},
   "source": [
    "**Encapsulation:**\n",
    "<br>\n",
    "Encapsulation refers to the bundling of data (attributes) and methods (functions) that operate on the data within a single unit (class). It hides the internal state of objects and restricts direct access to them from outside the class. This helps in organizing and controlling the code better, improving security and preventing unintended changes. <br><br>\n",
    "**Public attributes:** They can be accessed directly from outside the class.<br>\n",
    "**Private attributes:** They are not accessible directly from outside the class and they are prefixed with double underscores ('__'). <br>\n",
    "**Getter Method:** This is a public method that returns the value of a private atrribute <br>\n",
    "**Setter Method:** This is a public method that updates the value of the private attribute"
   ]
  },
  {
   "cell_type": "code",
   "execution_count": 21,
   "id": "a2285be6",
   "metadata": {},
   "outputs": [
    {
     "name": "stdout",
     "output_type": "stream",
     "text": [
      "John\n",
      "50000\n",
      "60000\n"
     ]
    }
   ],
   "source": [
    "class Employee:\n",
    "    def __init__(self, name, salary):\n",
    "        if not isinstance(name, str) or not name:\n",
    "            raise ValueError(\"Name must be a non-empty string\")\n",
    "        if not isinstance(salary, (int, float)) or salary <= 0:\n",
    "            raise ValueError(\"Salary must be a positive number\")\n",
    "            \n",
    "        self.name = name  # Public attribute\n",
    "        self.__salary = salary  # Private attribute\n",
    "\n",
    "    def get_salary(self):\n",
    "        return self.__salary  # Getter method for private attribute\n",
    "\n",
    "    def set_salary(self, salary):\n",
    "        if salary > 0:\n",
    "            self.__salary = salary  # Setter method for private attribute\n",
    "        else:\n",
    "            print(\"Invalid salary!\")  # Validation within setter method\n",
    "\n",
    "#creating an instance of Employee\n",
    "emp = Employee(\"John\", 50000)\n",
    "print(emp.name)  # Accessing public attribute directly\n",
    "print(emp.get_salary())  # Accessing private attribute through getter\n",
    "\n",
    "emp.set_salary(60000)  # Updating private attribute through setter\n",
    "print(emp.get_salary())  # Accessing updated private attribute through getter"
   ]
  },
  {
   "cell_type": "code",
   "execution_count": 8,
   "id": "db261696",
   "metadata": {},
   "outputs": [
    {
     "name": "stdout",
     "output_type": "stream",
     "text": [
      "Car color: Red\n",
      "Car mileage: 10000\n",
      "Updated Car mileage: 15000\n"
     ]
    }
   ],
   "source": [
    "class Car:\n",
    "    def __init__(self, color, mileage):\n",
    "        self.color = color   # Public attribute\n",
    "        self.__mileage = mileage  # Private attribute\n",
    "\n",
    "    def get_mileage(self):\n",
    "        return self.__mileage  # Getter method for private attribute\n",
    "\n",
    "    def __update_mileage(self, new_mileage):\n",
    "        self.__mileage = new_mileage  # Private method to update mileage\n",
    "        \n",
    "    def set_mileage(self, new_mileage):\n",
    "        # Public method to update mileage using the private method\n",
    "        if new_mileage >= 0:\n",
    "            self.__update_mileage(new_mileage)\n",
    "        else:\n",
    "            print(\"Mileage cannot be negative.\")\n",
    "\n",
    "my_car = Car(\"Red\", 10000)\n",
    "\n",
    "# Accessing public attribute directly\n",
    "print(f\"Car color: {my_car.color}\") \n",
    "\n",
    "# Accessing private attribute indirectly using getter method\n",
    "print(f\"Car mileage: {my_car.get_mileage()}\")\n",
    "\n",
    "# Attempting to access private attribute directly (will raise an AttributeError)\n",
    "# print(my_car.__mileage)\n",
    "\n",
    "# Attempting to call private method directly (will raise an AttributeError)\n",
    "# my_car.__update_mileage(15000)\n",
    "\n",
    "# Using public method to update private attribute\n",
    "my_car.set_mileage(15000)  # This will not work and raise an AttributeError\n",
    "\n",
    "# Accessing updated mileage using getter method\n",
    "print(f\"Updated Car mileage: {my_car.get_mileage()}\")  # Output: Updated Car mileage: 15000\n",
    "\n",
    "# Using public method to update private attribute\n",
    "#my_car.get_mileage"
   ]
  },
  {
   "cell_type": "markdown",
   "id": "f40a3e12",
   "metadata": {},
   "source": [
    "**Inheritance:**\n",
    "<br>\n",
    "Inheritance allows a class (subclass/child/dreived class) to inherit attributes and methods from another class (superclass/parent classy). This promotes code reusability and supports the concept of hierarchical ('is-a’) relationships."
   ]
  },
  {
   "cell_type": "code",
   "execution_count": 5,
   "id": "243ef710",
   "metadata": {},
   "outputs": [
    {
     "name": "stdout",
     "output_type": "stream",
     "text": [
      "Buddy says Woof!\n",
      "Whiskers says Meow!\n"
     ]
    }
   ],
   "source": [
    "class Animal: #parent class\n",
    "    def __init__(self, name):\n",
    "        self.name = name\n",
    "\n",
    "    def speak(self):\n",
    "        raise NotImplementedError(\"Subclass must implement abstract method\")\n",
    "\n",
    "class Dog(Animal): #child class\n",
    "    def speak(self):\n",
    "        return f\"{self.name} says Woof!\"\n",
    "\n",
    "class Cat(Animal):\n",
    "    def speak(self):\n",
    "        return f\"{self.name} says Meow!\"\n",
    "\n",
    "dog = Dog(\"Buddy\")\n",
    "cat = Cat(\"Whiskers\")\n",
    "\n",
    "print(dog.speak())  \n",
    "print(cat.speak())  "
   ]
  },
  {
   "cell_type": "markdown",
   "id": "3ff69b82",
   "metadata": {},
   "source": [
    "**The super() Function** <br>\n",
    "This is used to call a method from the parent class."
   ]
  },
  {
   "cell_type": "code",
   "execution_count": null,
   "id": "a908398e",
   "metadata": {},
   "outputs": [],
   "source": [
    "class Animal:\n",
    "    def __init__(self, name):\n",
    "        self.name = name\n",
    "\n",
    "    def speak(self):\n",
    "        return f\"{self.name} makes a sound\"\n",
    "\n",
    "class Dog(Animal):\n",
    "    def __init__(self, name, breed):\n",
    "        super().__init__(name)  # Call the __init__ method of the parent class\n",
    "        self.breed = breed\n",
    "\n",
    "    def speak(self):\n",
    "        return f\"{self.name}, the {self.breed}, says Woof!\"\n",
    "\n",
    "# Create an instance of Dog\n",
    "dog = Dog(\"Buddy\", \"Golden Retriever\")\n",
    "print(dog.speak())\n"
   ]
  },
  {
   "cell_type": "markdown",
   "id": "7e40791a",
   "metadata": {},
   "source": [
    "In the above example: <br>\n",
    "The Dog class has an additional attribute breed.<br>\n",
    "The super().__init__(name) calls the __init__ method of the Animal class to initialize the name attribute."
   ]
  },
  {
   "cell_type": "markdown",
   "id": "3c830618",
   "metadata": {},
   "source": [
    "**Polymorphism:**\n",
    "<br>\n",
    "Polymorphism allows objects of different classes to be treated as objects of a common superclass. It enables the same method name to behave differently based on the object it is called on.\n",
    "\n",
    "<br>\n",
    "\n",
    "In Python, polymorphism can be achieved in several ways:\n",
    "\n",
    "**Method Overriding:** Child classes provide specific implementations of methods that are defined in their parent classes.<br>\n",
    "**Duck Typing:** Python’s dynamic typing allows any object to be used if it has the necessary methods and properties, regardless of its class."
   ]
  },
  {
   "cell_type": "code",
   "execution_count": 3,
   "id": "efa6614b",
   "metadata": {},
   "outputs": [
    {
     "name": "stdout",
     "output_type": "stream",
     "text": [
      "Woof!\n",
      "Meow!\n"
     ]
    }
   ],
   "source": [
    "#Method Overriding\n",
    "\n",
    "class Animal:\n",
    "    def sound(self):\n",
    "        pass\n",
    "\n",
    "class Dog(Animal):\n",
    "    def sound(self):\n",
    "        return \"Woof!\"\n",
    "\n",
    "class Cat(Animal):\n",
    "    def sound(self):\n",
    "        return \"Meow!\"\n",
    "    \n",
    "# Function that takes an animal and calls its speak method\n",
    "def make_animal_speak(animal):\n",
    "    print(animal.sound())\n",
    "\n",
    "# Creating instances of Dog and Cat\n",
    "dog = Dog()\n",
    "cat = Cat()\n",
    "\n",
    "# Calling the function with different types of animals\n",
    "make_animal_speak(dog)\n",
    "make_animal_speak(cat)"
   ]
  },
  {
   "cell_type": "markdown",
   "id": "a1cdad4b",
   "metadata": {},
   "source": [
    "In the above example:\n",
    "\n",
    "Animal is the base class with a method sound. <br>\n",
    "Dog and Cat are child classes that override the sound method. <br>\n",
    "The function make_animal_speak accepts an object of type Animal and calls its sound method. The actual method executed depends on the type of the object passed (either Dog or Cat).\n"
   ]
  },
  {
   "cell_type": "markdown",
   "id": "64c962ce",
   "metadata": {},
   "source": [
    "**Duck Typing** <br>\n",
    "Duck typing is a concept related to dynamic typing in Python. If an object walks like a duck and quacks like a duck, it is treated as a duck."
   ]
  },
  {
   "cell_type": "code",
   "execution_count": 4,
   "id": "fa3ae245",
   "metadata": {},
   "outputs": [
    {
     "name": "stdout",
     "output_type": "stream",
     "text": [
      "Woof!\n",
      "Meow!\n",
      "Quack!\n"
     ]
    }
   ],
   "source": [
    "class Dog:\n",
    "    def speak(self):\n",
    "        return \"Woof!\"\n",
    "\n",
    "class Cat:\n",
    "    def speak(self):\n",
    "        return \"Meow!\"\n",
    "\n",
    "class Duck:\n",
    "    def speak(self):\n",
    "        return \"Quack!\"\n",
    "\n",
    "# Function that takes any object and calls its speak method\n",
    "def make_it_speak(animal):\n",
    "    print(animal.speak())\n",
    "\n",
    "# Creating instances of Dog, Cat, and Duck\n",
    "dog = Dog()\n",
    "cat = Cat()\n",
    "duck = Duck()\n",
    "\n",
    "# Calling the function with different types of objects\n",
    "make_it_speak(dog)\n",
    "make_it_speak(cat)  \n",
    "make_it_speak(duck)"
   ]
  },
  {
   "cell_type": "markdown",
   "id": "8405a643",
   "metadata": {},
   "source": [
    "In the above example:\n",
    "\n",
    "Dog, Cat, and Duck classes each have a speak method.<br>\n",
    "The function make_it_speak works with any object that has a speak method, demonstrating duck typing."
   ]
  },
  {
   "cell_type": "markdown",
   "id": "c1892f7f",
   "metadata": {},
   "source": [
    "**Abstraction:**\n",
    "<br>\n",
    "Abstraction in object-oriented programming (OOP) is a technique for hiding the implementation details of a class and exposing only the essential features to the user. It helps in reducing complexity and allows the programmer to focus on interactions at a high level. This is typically achieved using abstract base classes (ABCs) provided by the abc module and methods.\n",
    "\n",
    "**Abstract Base Classes (ABCs):**\n",
    "<br>\n",
    "\n",
    "An abstract base class is a class that cannot be instantiated on its own and is meant to be subclassed. It can contain abstract methods that must be implemented by any non-abstract subclass."
   ]
  },
  {
   "cell_type": "code",
   "execution_count": 6,
   "id": "3710e77b",
   "metadata": {},
   "outputs": [
    {
     "name": "stdout",
     "output_type": "stream",
     "text": [
      "Rectangle area: 20\n",
      "Circle area: 28.26\n"
     ]
    }
   ],
   "source": [
    "from abc import ABC, abstractmethod\n",
    "\n",
    "class Shape(ABC):\n",
    "    @abstractmethod\n",
    "    def area(self):\n",
    "        pass\n",
    "\n",
    "class Rectangle(Shape):\n",
    "    def __init__(self, width, height):\n",
    "        self.width = width\n",
    "        self.height = height\n",
    "\n",
    "    def area(self):\n",
    "        return self.width * self.height\n",
    "\n",
    "class Circle(Shape):\n",
    "    def __init__(self, radius):\n",
    "        self.radius = radius\n",
    "\n",
    "    def area(self):\n",
    "        return 3.14 * self.radius ** 2\n",
    "\n",
    "rect = Rectangle(4, 5)\n",
    "circle = Circle(3)\n",
    "\n",
    "print(f\"Rectangle area: {rect.area()}\") \n",
    "print(f\"Circle area: {circle.area()}\") "
   ]
  },
  {
   "cell_type": "markdown",
   "id": "f07fcd6a",
   "metadata": {},
   "source": [
    "The code above describes an abstract class Shape with an abstract method area. It also describes two subclasses: Rectangle and Circle that implement the area method.\n",
    "\n",
    "<br>\n",
    "\n",
    "**Abstract Base Class 'Shape'** <br>\n",
    "Shape is an abstract base class (ABC) that inherits from ABC, provided by Python's abc module.<br>\n",
    "area is an abstract method, meaning that it does not have an implementation in the Shape class and must be implemented by any concrete subclass. <br>\n",
    "\n",
    "**Concrete subclass 'Rectangle'** <br>\n",
    "Rectangle inherits from Shape. <br>\n",
    "The __init__ method initializes the width and height attributes.\n",
    "The area method calculates the area of the rectangle as width * height. <br>\n",
    "\n",
    "**Concrete Subclass Circle** <br>\n",
    "Circle inherits from Shape. <br>\n",
    "The __init__ method initializes the radius attribute.\n",
    "The area method calculates the area of the circle using the formula π * radius^2. Here, π is approximated as 3.14.<br>\n",
    "\n",
    "**Creating Instances and Calculating Areas**<br>\n",
    "An instance of Rectangle is created with width 4 and height 5.<br>\n",
    "An instance of Circle is created with radius 3.<br>\n",
    "The area method is called on each instance to calculate and print the area.\n",
    "\n",
    "**Summary** <br>\n",
    "The Rectangle class implements the area method to calculate the area of a rectangle.<br>\n",
    "The Circle class implements the area method to calculate the area of a circle.<br>\n",
    "Instances of these classes are created, and their respective area methods are called to print the area of each shape."
   ]
  },
  {
   "cell_type": "markdown",
   "id": "3858511a",
   "metadata": {},
   "source": [
    "**Benefits of Abstraction** \n",
    "<br>\n",
    "\n",
    "**Encapsulation of Implementation Details:** Users interact with the interface rather than the implementation, promoting modularity.<br>\n",
    "**Code Reusability:** Common interfaces and abstract classes can be reused across different parts of the application. <br>\n",
    "**Ease of Maintenance:** Changes in implementation details do not affect the code that uses the abstraction.\n",
    "<br>\n",
    "\n",
    "**Conclusion**\n",
    "<br>\n",
    "Abstraction in Python, achieved through abstract base classes, allows you to define common interfaces and hide implementation details. This promotes a cleaner, more modular design by enabling you to focus on the high-level behavior of objects rather than their internal workings. By using abstract methods, you can enforce that subclasses provide specific behavior, ensuring consistency across different implementations."
   ]
  }
 ],
 "metadata": {
  "kernelspec": {
   "display_name": "Python 3 (ipykernel)",
   "language": "python",
   "name": "python3"
  },
  "language_info": {
   "codemirror_mode": {
    "name": "ipython",
    "version": 3
   },
   "file_extension": ".py",
   "mimetype": "text/x-python",
   "name": "python",
   "nbconvert_exporter": "python",
   "pygments_lexer": "ipython3",
   "version": "3.11.5"
  }
 },
 "nbformat": 4,
 "nbformat_minor": 5
}
