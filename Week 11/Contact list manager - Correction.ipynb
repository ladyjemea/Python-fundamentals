{
 "cells": [
  {
   "cell_type": "markdown",
   "id": "981d2f7d",
   "metadata": {},
   "source": [
    "<img src=\"LaeCodes.png\" \n",
    "     align=\"center\" \n",
    "     width=\"100\" />"
   ]
  },
  {
   "cell_type": "markdown",
   "id": "24dbad42",
   "metadata": {},
   "source": [
    "# CONTACT LIST MANAGER - Correction\n",
    "\n",
    "Some corrections/updates I recommend: <br>\n",
    "\n",
    "- Improve input validation and error handling, especially for phone numbers and numeric inputs. <br>\n",
    "- Extract common operations, such as extracting contact details and displaying the contact list, into separate functions to avoid code duplication. <br>\n",
    "- Use with statements for file operations to ensure files are properly closed even if an error occurs. <br>\n",
    "- Simplify logic in functions where possible, for example, by using list comprehensions and more concise data handling.\n",
    " <br>\n",
    "- Ensure consistent naming conventions and improve readability by adding comments and better formatting. <br>"
   ]
  },
  {
   "cell_type": "code",
   "execution_count": null,
   "id": "bf8a3362",
   "metadata": {},
   "outputs": [
    {
     "name": "stdout",
     "output_type": "stream",
     "text": [
      "Welcome to the Contact List Managing Program. Input the following info to begin.\n"
     ]
    }
   ],
   "source": [
    "#!/usr/bin/env python\n",
    "# coding: utf-8\n",
    "\n",
    "def load_contacts(path, file_title):\n",
    "    with open(f\"{path}/{file_title}\", 'r') as file:\n",
    "        raw_list = file.readlines()[1:]\n",
    "    contact_list = []\n",
    "    for line in raw_list:\n",
    "        name, number, email = line.strip().split(',')\n",
    "        contact_list.append({'Name': name, 'Number': number, 'Email': email})\n",
    "    return contact_list\n",
    "\n",
    "def save_contacts(path, file_title, contact_list):\n",
    "    with open(f\"{path}/{file_title}\", 'w') as file:\n",
    "        file.write('CONTACTS\\n')\n",
    "        for contact in contact_list:\n",
    "            file.write(','.join(contact.values()) + '\\n')\n",
    "\n",
    "def display_options():\n",
    "    print('''\\nChoose from the options below:\n",
    "1) View all contacts\n",
    "2) Search for a contact\n",
    "3) Add a contact\n",
    "4) Delete a contact\n",
    "5) Exit''')\n",
    "\n",
    "def add_contact(contact_list):\n",
    "    name = input('Enter the NAME of the contact: ').capitalize()\n",
    "    phone = input('Enter the PHONE NUMBER of this contact: ')\n",
    "    if not all(digit in '0123456789+-' for digit in phone):\n",
    "        print('Invalid phone number. Try again.')\n",
    "        return\n",
    "    email = input('Enter the EMAIL of this contact: ').lower()\n",
    "    contact_list.append({'Name': name, 'Number': phone, 'Email': email})\n",
    "    print(f'Contact {name} added successfully.')\n",
    "\n",
    "def view_contacts(contact_list):\n",
    "    print('\\nThe Full Contact List:\\n')\n",
    "    for i, contact in enumerate(contact_list, 1):\n",
    "        print(f\"{i}.) Contact Name: {contact['Name']}, Phone Number: {contact['Number']}, Email: {contact['Email']}\")\n",
    "\n",
    "def search_contact(contact_list):\n",
    "    search = input('Enter the name of the contact you are searching for: ').capitalize()\n",
    "    results = [contact for contact in contact_list if search in contact['Name']]\n",
    "    if results:\n",
    "        for contact in results:\n",
    "            print(f\"Found: Name: {contact['Name']}, Number: {contact['Number']}, Email: {contact['Email']}\")\n",
    "    else:\n",
    "        print(\"Sorry, this contact doesn't exist. Here are some suggestions:\")\n",
    "        suggestions = [contact['Name'] for contact in contact_list if search[:2] in contact['Name'] or search[-3:] in contact['Name']]\n",
    "        for suggestion in suggestions:\n",
    "            print(f\" - {suggestion}\")\n",
    "\n",
    "def remove_contact(contact_list):\n",
    "    del_contact = input('Enter the name of the contact you want to remove: ').capitalize()\n",
    "    for contact in contact_list:\n",
    "        if contact['Name'] == del_contact:\n",
    "            contact_list.remove(contact)\n",
    "            print(f'The contact named {del_contact} has been deleted.')\n",
    "            return\n",
    "    print(\"The contact you are trying to delete doesn't exist.\")\n",
    "\n",
    "def contact_manager(path, file_title):\n",
    "    contact_list = load_contacts(path, file_title)\n",
    "    while True:\n",
    "        display_options()\n",
    "        try:\n",
    "            choice = int(input(\"\\nEnter the number corresponding to your choice: \"))\n",
    "            if choice == 1:\n",
    "                view_contacts(contact_list)\n",
    "            elif choice == 2:\n",
    "                search_contact(contact_list)\n",
    "            elif choice == 3:\n",
    "                add_contact(contact_list)\n",
    "            elif choice == 4:\n",
    "                remove_contact(contact_list)\n",
    "            elif choice == 5:\n",
    "                save_contacts(path, file_title, contact_list)\n",
    "                print('Goodbye! See you next time.')\n",
    "                break\n",
    "            else:\n",
    "                print('Invalid choice. Please try again.')\n",
    "        except ValueError:\n",
    "            print(\"Invalid input. Please enter a number.\")\n",
    "\n",
    "if __name__ == \"__main__\":\n",
    "    print('Welcome to the Contact List Managing Program. Input the following info to begin.')\n",
    "    path = input(\"COPY the path where the text file containing your contact list is found, and PASTE here: \")\n",
    "    file_title = input(\"Enter the TITLE of this text file with its extension (e.g., title.txt): \")\n",
    "    contact_manager(path, file_title)"
   ]
  }
 ],
 "metadata": {
  "kernelspec": {
   "display_name": "Python 3 (ipykernel)",
   "language": "python",
   "name": "python3"
  },
  "language_info": {
   "codemirror_mode": {
    "name": "ipython",
    "version": 3
   },
   "file_extension": ".py",
   "mimetype": "text/x-python",
   "name": "python",
   "nbconvert_exporter": "python",
   "pygments_lexer": "ipython3",
   "version": "3.11.5"
  }
 },
 "nbformat": 4,
 "nbformat_minor": 5
}
