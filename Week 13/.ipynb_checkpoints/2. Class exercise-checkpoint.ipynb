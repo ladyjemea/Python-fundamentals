{
 "cells": [
  {
   "cell_type": "markdown",
   "id": "d74db23d",
   "metadata": {},
   "source": [
    "<img src=\"LaeCodes.png\" \n",
    "     align=\"center\" \n",
    "     width=\"100\" />"
   ]
  },
  {
   "cell_type": "markdown",
   "id": "8a13c1dd",
   "metadata": {},
   "source": [
    "# Class exercise:\n",
    "\n",
    "**Project:** Basic Inventory Management System <br> <br>\n",
    "\n",
    "**Objective:** <br>\n",
    "Create a simple inventory management system that allows a user to add, update, view, and delete items in an inventory. <br> <br>\n",
    "\n",
    "**Requirements:** <br>\n",
    "\n",
    "**Item Attributes:** Each item in the inventory should have the following attributes:\n",
    "\n",
    "Item ID (unique identifier)\n",
    "Name\n",
    "Quantity\n",
    "Price per unit\n",
    "Functionalities:\n",
    "\n",
    "**Add Item:** Add a new item to the inventory.<br>\n",
    "**Update Item:** Update the details of an existing item. <br>\n",
    "**View All Items:** Display all items in the inventory. <br>\n",
    "**Delete Item:** Remove an item from the inventory by its ID. <br>\n",
    "**Search Item:** Search for an item by name or ID. <br>\n",
    "\n",
    "\n",
    "Hint: <br>\n",
    "**Define the Item Class:** <br>\n",
    "Create a class Item that represents an item in the inventory. <br>\n",
    "The class should have a constructor to initialize the item's attributes.\n",
    "\n",
    "**Create the Inventory Class:** <br>\n",
    "Create a class Inventory that manages a collection of items. <br>\n",
    "Implement methods to add, update, view, delete, and search for items. <br>\n",
    "\n",
    "**User Interface:** <br>\n",
    "Implement a simple text-based interface to interact with the inventory.\n",
    "\n",
    "\n",
    "Explanation: <br>\n",
    "**Item Class:** Represents an item with attributes such as ID, name, quantity, and price per unit. <br>\n",
    "\n",
    "**Inventory Class:** Manages the list of items and provides methods to add, update, view, delete, and search items. <br>\n",
    "\n",
    "**Main Function:** Provides a simple text-based user interface for interacting with the inventory system."
   ]
  }
 ],
 "metadata": {
  "kernelspec": {
   "display_name": "Python 3 (ipykernel)",
   "language": "python",
   "name": "python3"
  },
  "language_info": {
   "codemirror_mode": {
    "name": "ipython",
    "version": 3
   },
   "file_extension": ".py",
   "mimetype": "text/x-python",
   "name": "python",
   "nbconvert_exporter": "python",
   "pygments_lexer": "ipython3",
   "version": "3.11.5"
  }
 },
 "nbformat": 4,
 "nbformat_minor": 5
}
