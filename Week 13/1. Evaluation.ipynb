{
 "cells": [
  {
   "cell_type": "markdown",
   "id": "02d98e51",
   "metadata": {},
   "source": [
    "<img src=\"LaeCodes.png\" \n",
    "     align=\"center\" \n",
    "     width=\"100\" />"
   ]
  },
  {
   "cell_type": "markdown",
   "id": "e38fe491",
   "metadata": {},
   "source": [
    "**Outline:**\n",
    "- Course Evaluation\n",
    "- Class Exercise"
   ]
  },
  {
   "cell_type": "markdown",
   "id": "2b5239fc",
   "metadata": {},
   "source": [
    "# Course Evaluation:\n",
    "\n",
    "- On a scale of 1 to 5, how well do you understand the basic Python concepts such as variables, data types, and functions? (1 = bad and 5 = good) <br>\n",
    "- What topic(s) did you find most challenging to understand? Please explain why. <br>\n",
    "- How confident are you in writing basic Python programs independently? (1-5) <br>\n",
    "- Were the hands-on exercises and coding assignments helpful in reinforcing your learning? Why or why not? <br>\n",
    "- How effective were the teaching methods used in the class? (lectures, demonstrations, group work, etc.) <br>\n",
    "- What teaching method(s) did you find most beneficial for your learning? Please elaborate. <br>\n",
    "- Was the course content organized and structured in a logical and easy-to-follow manner? <br>\n",
    "- Are there any specific topics or concepts you wish were covered more thoroughly? Which ones? <br>\n",
    "- How useful were the provided resources and materials (slides, notes)? <br>\n",
    "- Is there any additional material or resource that you think would have helped you learn better? <br>\n",
    "- On a scale of 1 to 5, how approachable and supportive did you find the tutor? <br>\n",
    "- What could the tutor have done differently to enhance your learning experience? <br>\n",
    "- Was the pace of the course appropriate for your level of understanding? (Too fast, too slow, just right) - Please elaborate. <br>\n",
    "- Did you feel there was adequate time to practice and absorb the material before moving on to new topics? <br>\n",
    "- How engaged did you feel during the classes? (1-5) <br>\n",
    "- What activities or methods would increase your engagement in the future? <br>\n",
    "- Did you receive timely and constructive feedback on your assignments and exercises? <br>\n",
    "- How can the feedback and assessment process be improved? <br>\n",
    "- Overall, how satisfied are you with the course? (1-5)\n",
    "- What suggestions do you have for improving this Python course in the future? <br>"
   ]
  }
 ],
 "metadata": {
  "kernelspec": {
   "display_name": "Python 3 (ipykernel)",
   "language": "python",
   "name": "python3"
  },
  "language_info": {
   "codemirror_mode": {
    "name": "ipython",
    "version": 3
   },
   "file_extension": ".py",
   "mimetype": "text/x-python",
   "name": "python",
   "nbconvert_exporter": "python",
   "pygments_lexer": "ipython3",
   "version": "3.11.5"
  }
 },
 "nbformat": 4,
 "nbformat_minor": 5
}
