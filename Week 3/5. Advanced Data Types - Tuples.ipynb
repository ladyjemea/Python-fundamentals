{
 "cells": [
  {
   "cell_type": "markdown",
   "id": "d28ff41f",
   "metadata": {},
   "source": [
    "<img src=\"LaeCodes.png\" \n",
    "     align=\"center\" \n",
    "     width=\"100\" />"
   ]
  },
  {
   "cell_type": "markdown",
   "id": "736d62b2",
   "metadata": {},
   "source": [
    "# Advanced Data Types\n",
    "\n",
    "**Tuples:**\n",
    "<br>\n",
    "A tuple is a collection data type like lists used to store multiple items in a single variable. Other collection types in Python are Dictionaries, Sets and Lists. They are ordered, immutable, allow duplicates and can hold data of any type. Tuple items are indexed with the first item at index [0], the second at index [1] and so on.\n",
    "<br>\n",
    "\n",
    "Tuple definition and basic operations:"
   ]
  },
  {
   "cell_type": "code",
   "execution_count": 2,
   "id": "e190f7ec",
   "metadata": {},
   "outputs": [
    {
     "name": "stdout",
     "output_type": "stream",
     "text": [
      "(1, 2.5, 'apple', [3, 4, 5], {'age': 25, 'name': 'Lae'}, 'apple', True)\n",
      "Lae\n",
      "4\n",
      "7\n",
      "2\n",
      "2\n",
      "('apple', [3, 4, 5], {'age': 25, 'name': 'Lae'}, 'apple', True)\n",
      "<class 'tuple'>\n"
     ]
    }
   ],
   "source": [
    "my_tuple = (1, 2.5, 'apple', [3, 4, 5], {'age': 25, 'name': 'Lae'}, 'apple', True)\n",
    "#my_tuple = tuple((1, 2.5, 'apple', [3, 4, 5], {'age': 25}, 'apple', True)) #using the tuple constructor to make a tuple\n",
    "\n",
    "print(my_tuple)\n",
    "print(my_tuple[4]['name'])#item at index 4\n",
    "print(my_tuple[3][1]) #stacked indexing\n",
    "print(len(my_tuple)) #applying the length function\n",
    "print(my_tuple.count('apple')) #count method returns how many times the passed item exists in the tuple\n",
    "print(my_tuple.index('apple')) #index method returns the index of the first occurence of an item in the tuple\n",
    "print(my_tuple[2:])\n",
    "print(type(my_tuple))"
   ]
  },
  {
   "cell_type": "markdown",
   "id": "0ec45de5",
   "metadata": {},
   "source": [
    "**Differences between Tuples and Lists:**\n",
    "<br>\n",
    "**Immutable:**\n",
    "<br>\n",
    "Tuples are immutable. Once a Tuple is defined, you cannot add, remove or modify its elements."
   ]
  },
  {
   "cell_type": "code",
   "execution_count": 2,
   "id": "4c1d8631",
   "metadata": {},
   "outputs": [
    {
     "ename": "TypeError",
     "evalue": "'tuple' object does not support item assignment",
     "output_type": "error",
     "traceback": [
      "\u001b[0;31m---------------------------------------------------------------------------\u001b[0m",
      "\u001b[0;31mTypeError\u001b[0m                                 Traceback (most recent call last)",
      "Cell \u001b[0;32mIn[2], line 2\u001b[0m\n\u001b[1;32m      1\u001b[0m my_tuple \u001b[38;5;241m=\u001b[39m (\u001b[38;5;241m1\u001b[39m, \u001b[38;5;241m2.5\u001b[39m, \u001b[38;5;124m'\u001b[39m\u001b[38;5;124mapple\u001b[39m\u001b[38;5;124m'\u001b[39m, [\u001b[38;5;241m3\u001b[39m, \u001b[38;5;241m4\u001b[39m, \u001b[38;5;241m5\u001b[39m], {\u001b[38;5;124m'\u001b[39m\u001b[38;5;124mage\u001b[39m\u001b[38;5;124m'\u001b[39m: \u001b[38;5;241m25\u001b[39m}, \u001b[38;5;124m'\u001b[39m\u001b[38;5;124mapple\u001b[39m\u001b[38;5;124m'\u001b[39m, \u001b[38;5;28;01mTrue\u001b[39;00m)\n\u001b[0;32m----> 2\u001b[0m my_tuple[\u001b[38;5;241m1\u001b[39m] \u001b[38;5;241m=\u001b[39m \u001b[38;5;124m'\u001b[39m\u001b[38;5;124mNew\u001b[39m\u001b[38;5;124m'\u001b[39m\n",
      "\u001b[0;31mTypeError\u001b[0m: 'tuple' object does not support item assignment"
     ]
    }
   ],
   "source": [
    "my_tuple = (1, 2.5, 'apple', [3, 4, 5], {'age': 25}, 'apple', True)\n",
    "my_tuple[1] = 'New'"
   ]
  },
  {
   "cell_type": "markdown",
   "id": "7df9181a",
   "metadata": {},
   "source": [
    "A workaround will be to change a tuple to a list, perform the list operations and convert the list back to a tuple."
   ]
  },
  {
   "cell_type": "code",
   "execution_count": 3,
   "id": "ac0a7471",
   "metadata": {},
   "outputs": [
    {
     "name": "stdout",
     "output_type": "stream",
     "text": [
      "(1, 'New', 'apple', [3, 4, 5], {'age': 25}, 'apple', True)\n"
     ]
    }
   ],
   "source": [
    "my_tuple = tuple((1, 2.5, 'apple', [3, 4, 5], {'age': 25}, 'apple', True)) \n",
    "my_list = list(my_tuple)\n",
    "\n",
    "my_list[1] = 'New'\n",
    "my_tuple = tuple(my_list)\n",
    "\n",
    "print(my_tuple)"
   ]
  },
  {
   "cell_type": "markdown",
   "id": "263c96d9",
   "metadata": {},
   "source": [
    "**Syntax:**\n",
    "<br>\n",
    "Tuples are defined using parentheses’()’ while lists are defined using square brackets ‘[]’\n",
    "<br>\n",
    "**Performance and size:**\n",
    "<br>\n",
    "Tuples are more efficient and faster than lists due to their fixed size. When dealing with data that should remain unchanged throughout the program, tuples are recommended.\n",
    "<br>\n",
    "\n",
    "**Tuple unpacking:**\n",
    "Creating a tuple and assigning values to it is called tuple packing. Tuple unpacking is extracting the values of a tuple into variables."
   ]
  },
  {
   "cell_type": "code",
   "execution_count": 4,
   "id": "79542c45",
   "metadata": {},
   "outputs": [
    {
     "name": "stdout",
     "output_type": "stream",
     "text": [
      "1\n",
      "2.5\n",
      "apple\n",
      "[3, 4, 5]\n"
     ]
    }
   ],
   "source": [
    "my_tuple = tuple((1, 2.5, 'apple', [3, 4, 5])) \n",
    "\n",
    "(number1, number2, fruit, my_list) = my_tuple\n",
    "\n",
    "print(number1)\n",
    "print(number2)\n",
    "print(fruit)\n",
    "print(my_list)"
   ]
  },
  {
   "cell_type": "markdown",
   "id": "83a0d305",
   "metadata": {},
   "source": [
    "The number of variables must match the number of items in the tuple, else you need to use an asterisk (*) to collect the remaining values."
   ]
  },
  {
   "cell_type": "code",
   "execution_count": 5,
   "id": "779ca3db",
   "metadata": {},
   "outputs": [
    {
     "name": "stdout",
     "output_type": "stream",
     "text": [
      "1\n",
      "2.5\n",
      "[[8, 9, 10], [3, 4, 5]]\n"
     ]
    }
   ],
   "source": [
    "my_tuple = tuple((1, 2.5, [8, 9, 10], [3, 4, 5])) \n",
    "(number1, number2, *my_list) = my_tuple\n",
    "\n",
    "print(number1)\n",
    "print(number2)\n",
    "print(my_list)"
   ]
  },
  {
   "cell_type": "markdown",
   "id": "01c881be",
   "metadata": {},
   "source": [
    "**Join Tuples:**\n",
    "<br>\n",
    "You can join tuples using the + operator:"
   ]
  },
  {
   "cell_type": "code",
   "execution_count": 6,
   "id": "340a81cb",
   "metadata": {},
   "outputs": [
    {
     "name": "stdout",
     "output_type": "stream",
     "text": [
      "(1, 2.5, 'apple', True, [3, 4, 5], {'age': 25})\n"
     ]
    }
   ],
   "source": [
    "tuple1 = (1, 2.5, 'apple', True)\n",
    "tuple2 = ([3, 4, 5], {'age': 25})\n",
    "\n",
    "new_tuple = tuple1 + tuple2\n",
    "\n",
    "print(new_tuple)"
   ]
  },
  {
   "cell_type": "markdown",
   "id": "cb3bc07b",
   "metadata": {},
   "source": [
    "The content of a tuple can be multiplied a given number of times using the * operator:"
   ]
  },
  {
   "cell_type": "code",
   "execution_count": 7,
   "id": "85c49ff6",
   "metadata": {},
   "outputs": [
    {
     "name": "stdout",
     "output_type": "stream",
     "text": [
      "(1, 2.5, 'apple', True, 1, 2.5, 'apple', True)\n"
     ]
    }
   ],
   "source": [
    "tuple1 = (1, 2.5, 'apple', True)\n",
    "\n",
    "new_tuple = tuple1 * 2\n",
    "\n",
    "print(new_tuple)"
   ]
  }
 ],
 "metadata": {
  "kernelspec": {
   "display_name": "Python 3 (ipykernel)",
   "language": "python",
   "name": "python3"
  },
  "language_info": {
   "codemirror_mode": {
    "name": "ipython",
    "version": 3
   },
   "file_extension": ".py",
   "mimetype": "text/x-python",
   "name": "python",
   "nbconvert_exporter": "python",
   "pygments_lexer": "ipython3",
   "version": "3.11.5"
  }
 },
 "nbformat": 4,
 "nbformat_minor": 5
}
