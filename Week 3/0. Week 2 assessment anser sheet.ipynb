{
 "cells": [
  {
   "cell_type": "markdown",
   "id": "2b468450",
   "metadata": {},
   "source": [
    "<img src=\"LaeCodes.png\" \n",
    "     align=\"center\" \n",
    "     width=\"100\" />"
   ]
  },
  {
   "cell_type": "markdown",
   "id": "c01d32bf",
   "metadata": {},
   "source": [
    "Q1: What are variables?\n",
    "<br>   \n",
    "A1: Variables are names or identifiers used to hold/store data within a program. "
   ]
  },
  {
   "cell_type": "markdown",
   "id": "c0975aa5",
   "metadata": {},
   "source": [
    "Q2: Declare 4 variables and assign values of different types to them"
   ]
  },
  {
   "cell_type": "code",
   "execution_count": 29,
   "id": "29e463b0",
   "metadata": {},
   "outputs": [],
   "source": [
    "#A2\n",
    "\n",
    "name = 'Brie' #string\n",
    "age = 45 #int\n",
    "score = 90.4 #float\n",
    "subjects = ['French', 'English'] #list"
   ]
  },
  {
   "cell_type": "markdown",
   "id": "6ed5c5b7",
   "metadata": {},
   "source": [
    "Q3: Name 3 data types and use them in variable declarations\n",
    "<br>\n",
    "A3:\n",
    "Datatypes:\n",
    "- integers (int)\n",
    "- floating point numbers (float)\n",
    "- strings (str)"
   ]
  },
  {
   "cell_type": "code",
   "execution_count": 30,
   "id": "72c4177a",
   "metadata": {},
   "outputs": [],
   "source": [
    "num_of_units = 4 #int\n",
    "price_per_unit = 305.2 #float\n",
    "name_of_item = 'pump' #string"
   ]
  },
  {
   "cell_type": "markdown",
   "id": "a23dd561",
   "metadata": {},
   "source": [
    "Q4: What is the Modulus operator? Use it in a mathematical statement\n",
    "<br>\n",
    "A4: The Modulus operator is an Arithmetic operator that does division and returns just the remainder"
   ]
  },
  {
   "cell_type": "code",
   "execution_count": 31,
   "id": "e01b3be5",
   "metadata": {},
   "outputs": [
    {
     "name": "stdout",
     "output_type": "stream",
     "text": [
      "1\n"
     ]
    }
   ],
   "source": [
    "num1 = 5\n",
    "num2 = 2\n",
    "\n",
    "num1_mod_num2 = num1 % num2\n",
    "\n",
    "print(num1_mod_num2)"
   ]
  },
  {
   "cell_type": "markdown",
   "id": "40c23e93",
   "metadata": {},
   "source": [
    "Q5: Print a multiline string assigned to a variable"
   ]
  },
  {
   "cell_type": "code",
   "execution_count": 32,
   "id": "0eacdc80",
   "metadata": {},
   "outputs": [],
   "source": [
    "#A5\n",
    "\n",
    "my_multiline_string = \"\"\"This is a multiline string.\n",
    "                         It spans across multiple lines\n",
    "                         and does not cause an error in the program\"\"\""
   ]
  },
  {
   "cell_type": "markdown",
   "id": "95cb6e91",
   "metadata": {},
   "source": [
    "Q6: Given the strings: \"I am learning Fundamentals of Programming  in Python\" and \"I will like to learn it\"\n",
    "<br>\n",
    "a) Assign both strings to variables"
   ]
  },
  {
   "cell_type": "code",
   "execution_count": 33,
   "id": "df05731c",
   "metadata": {},
   "outputs": [],
   "source": [
    "sentence1 = 'I am learning Fundamentals of Programming in Python'\n",
    "sentence2 = 'I will like to learn it'"
   ]
  },
  {
   "cell_type": "markdown",
   "id": "3a5c1922",
   "metadata": {},
   "source": [
    "b) Concatenate both strings"
   ]
  },
  {
   "cell_type": "code",
   "execution_count": 34,
   "id": "9554da60",
   "metadata": {},
   "outputs": [
    {
     "name": "stdout",
     "output_type": "stream",
     "text": [
      "I am learning Fundamentals of Programming in Python I will like to learn it\n"
     ]
    }
   ],
   "source": [
    "final_str = sentence1 + \" \" + sentence2\n",
    "\n",
    "print(final_str)"
   ]
  },
  {
   "cell_type": "markdown",
   "id": "5e4226c7",
   "metadata": {},
   "source": [
    "c) On the first string, what characters are on indices 16 and -10"
   ]
  },
  {
   "cell_type": "code",
   "execution_count": 35,
   "id": "b0f37872",
   "metadata": {},
   "outputs": [
    {
     "name": "stdout",
     "output_type": "stream",
     "text": [
      "n\n",
      " \n"
     ]
    }
   ],
   "source": [
    "print(sentence1[16]) \n",
    "print(sentence1[-10])"
   ]
  },
  {
   "cell_type": "markdown",
   "id": "a813ac5a",
   "metadata": {},
   "source": [
    "d) On the second string, what characters are on indices 11 and -8"
   ]
  },
  {
   "cell_type": "code",
   "execution_count": 36,
   "id": "f959f801",
   "metadata": {},
   "outputs": [
    {
     "name": "stdout",
     "output_type": "stream",
     "text": [
      " \n",
      "l\n"
     ]
    }
   ],
   "source": [
    "print(sentence2[11])    \n",
    "print(sentence2[-8])"
   ]
  },
  {
   "cell_type": "markdown",
   "id": "a80eaf19",
   "metadata": {},
   "source": [
    "e) What substring does the first string return [3:23:2]"
   ]
  },
  {
   "cell_type": "code",
   "execution_count": 37,
   "id": "76cdc436",
   "metadata": {},
   "outputs": [
    {
     "name": "stdout",
     "output_type": "stream",
     "text": [
      "mlann udmn\n"
     ]
    }
   ],
   "source": [
    "substring = sentence1[3:23:2]\n",
    "\n",
    "print(substring)"
   ]
  },
  {
   "cell_type": "markdown",
   "id": "8d0bbabb",
   "metadata": {},
   "source": [
    "f) What substring does the second string return [-18:-3]"
   ]
  },
  {
   "cell_type": "code",
   "execution_count": 38,
   "id": "3b2691cd",
   "metadata": {},
   "outputs": [
    {
     "name": "stdout",
     "output_type": "stream",
     "text": [
      "l like to learn\n"
     ]
    }
   ],
   "source": [
    "substring = sentence2[-18:-3]\n",
    "\n",
    "print(substring)"
   ]
  },
  {
   "cell_type": "markdown",
   "id": "4232e56e",
   "metadata": {},
   "source": [
    "g) What substring does the first string return [::]"
   ]
  },
  {
   "cell_type": "code",
   "execution_count": 39,
   "id": "d1e539af",
   "metadata": {},
   "outputs": [
    {
     "name": "stdout",
     "output_type": "stream",
     "text": [
      "I am learning Fundamentals of Programming in Python\n"
     ]
    }
   ],
   "source": [
    "substring = sentence1[::]\n",
    "\n",
    "print(substring)"
   ]
  },
  {
   "cell_type": "markdown",
   "id": "d99ade3d",
   "metadata": {},
   "source": [
    "h) Format string one replacing the substring \"Fundamentals of Programming in Python\" with \"Python programming\" using str.format() method and f-strings"
   ]
  },
  {
   "cell_type": "code",
   "execution_count": 40,
   "id": "34304eb1",
   "metadata": {},
   "outputs": [
    {
     "name": "stdout",
     "output_type": "stream",
     "text": [
      "I am learning Python programming\n"
     ]
    }
   ],
   "source": [
    "new_string = 'Python programming'\n",
    "\n",
    "formatted_string = \"I am learning {}\"\n",
    "\n",
    "print(formatted_string.format(new_string))"
   ]
  },
  {
   "cell_type": "code",
   "execution_count": 41,
   "id": "16bfa022",
   "metadata": {},
   "outputs": [
    {
     "name": "stdout",
     "output_type": "stream",
     "text": [
      "I am learning Python programming\n"
     ]
    }
   ],
   "source": [
    "new_string = 'Python programming'\n",
    "\n",
    "formatted_string = f\"I am learning {new_string}\"\n",
    "\n",
    "print(formatted_string)"
   ]
  },
  {
   "cell_type": "markdown",
   "id": "ec41d7b5",
   "metadata": {},
   "source": [
    "Q7: Given the string: \"Python programming is good\" <br>\n",
    "a) Apply the following methods: len(), capitalize(), rstrip(), isspace(), startswith() replace()-replace good with easy, split() on the empty space."
   ]
  },
  {
   "cell_type": "code",
   "execution_count": 1,
   "id": "3ea919f4",
   "metadata": {},
   "outputs": [
    {
     "name": "stdout",
     "output_type": "stream",
     "text": [
      "26\n",
      "Python programming is good\n",
      "True\n",
      "['Python', 'programming', 'is', 'good']\n",
      "Python programming is good\n",
      "Python programming is easy\n",
      "String is not empty or contains non-whitespace characters.\n"
     ]
    }
   ],
   "source": [
    "sentence = \"Python programming is good\"\n",
    "\n",
    "print(len(sentence))     \n",
    "print(sentence.rstrip())     \n",
    "print(sentence.startswith(\"Python\"))\n",
    "print(sentence.split(\" \"))\n",
    "\n",
    "capitalized = sentence.capitalize()\n",
    "print(capitalized)\n",
    "\n",
    "modified_sentence = sentence.replace(\"good\", \"easy\")\n",
    "print(modified_sentence)\n",
    "\n",
    "if sentence.isspace():\n",
    "    print(\"string contains only whitespace.\")\n",
    "else:\n",
    "    print(\"String is not empty or contains non-whitespace characters.\")"
   ]
  },
  {
   "cell_type": "markdown",
   "id": "01caccfa",
   "metadata": {},
   "source": [
    "b) Add any two escape characters of your choice when printing the above string"
   ]
  },
  {
   "cell_type": "code",
   "execution_count": 43,
   "id": "846a2c11",
   "metadata": {},
   "outputs": [
    {
     "name": "stdout",
     "output_type": "stream",
     "text": [
      "Python programming \n",
      " is good\n",
      "Python \t programming \t is \t good\n"
     ]
    }
   ],
   "source": [
    "print(\"Python programming \\n is good\")\n",
    "print(\"Python \\t programming \\t is \\t good\")"
   ]
  },
  {
   "cell_type": "markdown",
   "id": "30df9e4d",
   "metadata": {},
   "source": [
    "Q6: Write a program that swaps the values of two variables. For instance, if variable a is 10 and variable b is 5, after swapping, a should be 5 and b should be 10."
   ]
  },
  {
   "cell_type": "markdown",
   "id": "a9b7e11f",
   "metadata": {},
   "source": [
    "Q8: Write a simple program that takes the the name and age of a person and displays this information on the screen"
   ]
  },
  {
   "cell_type": "code",
   "execution_count": null,
   "id": "8b33b0f7",
   "metadata": {},
   "outputs": [],
   "source": [
    "name = input(\"Enter your name:\")\n",
    "age = input(\"How old are you?:\")\n",
    "print(str(name) + \" is \" + str(age) + \" years old\")"
   ]
  },
  {
   "cell_type": "markdown",
   "id": "2cac4684",
   "metadata": {},
   "source": [
    "### Bonus questions"
   ]
  },
  {
   "cell_type": "markdown",
   "id": "0d4fcd2a",
   "metadata": {},
   "source": [
    "Q1: Write a program that swaps the values of two variables. For instance, if variable a is 10 and variable b is 5, after swapping, a should be 5 and b should be 10."
   ]
  },
  {
   "cell_type": "code",
   "execution_count": 7,
   "id": "f4eacd04",
   "metadata": {},
   "outputs": [
    {
     "name": "stdout",
     "output_type": "stream",
     "text": [
      "5\n",
      "10\n"
     ]
    }
   ],
   "source": [
    "#A1\n",
    "\n",
    "#Method 1 - Reassigning variables\n",
    "var1 = 10\n",
    "var2 = 5\n",
    "\n",
    "var1, var2 = var2, var1\n",
    "\n",
    "print(var1)\n",
    "print(var2)"
   ]
  },
  {
   "cell_type": "code",
   "execution_count": 8,
   "id": "b48ee72e",
   "metadata": {},
   "outputs": [
    {
     "name": "stdout",
     "output_type": "stream",
     "text": [
      "5\n",
      "10\n"
     ]
    }
   ],
   "source": [
    "#A1\n",
    "\n",
    "#Method 2 - Using a temp\n",
    "var1 = 10\n",
    "var2 = 5\n",
    "\n",
    "# create a temporary variable and swap the values\n",
    "temp = var1\n",
    "var1 = var2\n",
    "var2 = temp\n",
    "\n",
    "print(var1)\n",
    "print(var2)"
   ]
  },
  {
   "cell_type": "markdown",
   "id": "7822104f",
   "metadata": {},
   "source": [
    "Q2: Create a program that calculates the area of a rectangle. (Area = Length * Width)"
   ]
  },
  {
   "cell_type": "code",
   "execution_count": 9,
   "id": "de0bebac",
   "metadata": {},
   "outputs": [
    {
     "name": "stdout",
     "output_type": "stream",
     "text": [
      "125\n"
     ]
    }
   ],
   "source": [
    "#A2:\n",
    "\n",
    "length = 25\n",
    "width = 5\n",
    "\n",
    "area = length * width\n",
    "\n",
    "print(area)"
   ]
  },
  {
   "cell_type": "markdown",
   "id": "d6d55102",
   "metadata": {},
   "source": [
    "Q3: Write a program that converts temperature from Celsius to Fahrenheit. Initialize a variable with a Celsius value, then use the formula F = C * 9/5 + 32 to convert it to Fahrenheit. Print the result."
   ]
  },
  {
   "cell_type": "code",
   "execution_count": 10,
   "id": "af107474",
   "metadata": {},
   "outputs": [
    {
     "name": "stdout",
     "output_type": "stream",
     "text": [
      "100.4\n"
     ]
    }
   ],
   "source": [
    "#A3\n",
    "\n",
    "tempC = 38\n",
    "tempF = tempC * 9/5 + 32\n",
    "\n",
    "print(tempF)"
   ]
  }
 ],
 "metadata": {
  "kernelspec": {
   "display_name": "Python 3 (ipykernel)",
   "language": "python",
   "name": "python3"
  },
  "language_info": {
   "codemirror_mode": {
    "name": "ipython",
    "version": 3
   },
   "file_extension": ".py",
   "mimetype": "text/x-python",
   "name": "python",
   "nbconvert_exporter": "python",
   "pygments_lexer": "ipython3",
   "version": "3.11.5"
  }
 },
 "nbformat": 4,
 "nbformat_minor": 5
}
