{
 "cells": [
  {
   "cell_type": "markdown",
   "id": "6c194a3f",
   "metadata": {},
   "source": [
    "<img src=\"LaeCodes.png\" \n",
    "     align=\"center\" \n",
    "     width=\"100\" />"
   ]
  },
  {
   "cell_type": "markdown",
   "id": "77a61122",
   "metadata": {},
   "source": [
    "## Weekly Assessment:\n",
    "\n",
    "- Write a program that calculates the sum of all elements in a list of numbers.\n",
    "- Write a program that that calculates the average of all elements in a list of numbers.\n",
    "- Write a program that merges two lists.\n",
    "- Write a program that checks if a given list is a sublist of another list.\n",
    "- Write a program that finds the index of a specific element in a list.\n",
    "- Create a dictionary representing a person with keys such as \"name\", \"age\", \"gender\", and \"city\".\n",
    "- Access and print the value associated with the \"age\" key from the dictionary created in exercise 1.\n",
    "- Change the value associated with the \"city\" key in the dictionary created in exercise 1 to a different city.\n",
    "- Remove the \"gender\" key-value pair from the dictionary.\n",
    "- Create a tuple containing numbers from 1 to 10 and print the first three elements.\n",
    "- Create a tuple containing a person's name, age, and city. Then, unpack this tuple into three variables.\n",
    "- Create a set containing a few different integers.\n",
    "- Add a new integer to the set.\n",
    "- Remove an integer from the set.\n",
    "- Check if a specific integer is present in the set created and print the result.\n",
    "- Create an empty set and add some elements to it.\n",
    "- Write a program that checks if a given number is even or odd and prints the result.\n",
    "- Write a program that checks if a given number is positive, negative, or zero and prints the result.\n",
    "- Write a program that takes three numbers as input and prints the largest among them.\n",
    "- Write a program that takes a number representing a month (1-12) as input and prints the name of the month."
   ]
  }
 ],
 "metadata": {
  "kernelspec": {
   "display_name": "Python 3 (ipykernel)",
   "language": "python",
   "name": "python3"
  },
  "language_info": {
   "codemirror_mode": {
    "name": "ipython",
    "version": 3
   },
   "file_extension": ".py",
   "mimetype": "text/x-python",
   "name": "python",
   "nbconvert_exporter": "python",
   "pygments_lexer": "ipython3",
   "version": "3.11.5"
  }
 },
 "nbformat": 4,
 "nbformat_minor": 5
}
