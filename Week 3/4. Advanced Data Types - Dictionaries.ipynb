{
 "cells": [
  {
   "cell_type": "markdown",
   "id": "d06cf023",
   "metadata": {},
   "source": [
    "<img src=\"LaeCodes.png\" \n",
    "     align=\"center\" \n",
    "     width=\"100\" />"
   ]
  },
  {
   "cell_type": "markdown",
   "id": "17791d63",
   "metadata": {},
   "source": [
    "# Advanced Data Types\n",
    "\n",
    "**Dictionaries:**\n",
    "<br>\n",
    "A dictionary is an unordered collection of key-value pairs, where each key must be unique. They are defined using curly braces ‘{}’ and consist of comma-separated key-value pairs. \n",
    "<br>\n",
    "Basic dictionary examples:"
   ]
  },
  {
   "cell_type": "code",
   "execution_count": 1,
   "id": "bf815b19",
   "metadata": {},
   "outputs": [
    {
     "name": "stdout",
     "output_type": "stream",
     "text": [
      "Sarah\n",
      "45\n",
      "46\n",
      "{'name': 'Sarah', 'age': 46, 'city': 'Paris', 'occupation': 'Teacher'}\n",
      "{'name': 'Sarah', 'age': 46, 'occupation': 'Teacher'}\n"
     ]
    }
   ],
   "source": [
    "# Creating a dictionary\n",
    "my_dict = {\n",
    "    'name': 'Sarah', \n",
    "    'age': 45, \n",
    "    'city': 'Paris'\n",
    "}\n",
    "\n",
    "# Accessing values using keys\n",
    "print(my_dict['name'])  # Output: Sarah\n",
    "print(my_dict['age'])   # Output: 45\n",
    "\n",
    "# Modifying values\n",
    "my_dict['age'] = 46\n",
    "print(my_dict['age'])   # Output: 46\n",
    "\n",
    "# Adding a new key-value pair\n",
    "my_dict['occupation'] = 'Teacher'\n",
    "print(my_dict)\n",
    "\n",
    "# Deleting a key-value pair\n",
    "del my_dict['city']\n",
    "print(my_dict)"
   ]
  },
  {
   "cell_type": "markdown",
   "id": "71a5f56e",
   "metadata": {},
   "source": [
    "The dict() constructor can also be used to create a dictionary"
   ]
  },
  {
   "cell_type": "code",
   "execution_count": 2,
   "id": "78650093",
   "metadata": {},
   "outputs": [
    {
     "name": "stdout",
     "output_type": "stream",
     "text": [
      "{'name': 'Sarah', 'age': 45, 'city': 'Paris'}\n"
     ]
    }
   ],
   "source": [
    "my_dict = dict(name = 'Sarah', age = 45, city = 'Paris')\n",
    "\n",
    "print(my_dict)"
   ]
  },
  {
   "cell_type": "markdown",
   "id": "2e4b3806",
   "metadata": {},
   "source": [
    "Key features of dictionaries:\n",
    "<br>\n",
    "**Keys and Values:**\n",
    "<br>\n",
    "Keys must be immutable and must be of type strings, numbers or tuples containing only immutable types. Values can be of any data type. Searching is faster in dictionaries than in lists if you know the key. You do not need to know the index location of the value you are searching for. With the key:value mapping, you cannot sort a dictionary because values are inserted in any order.\n",
    "<br>\n",
    "**Type():**\n",
    "<br>\n",
    "Dictionaries are objects with data type ‘dict’"
   ]
  },
  {
   "cell_type": "code",
   "execution_count": 3,
   "id": "fff5afc0",
   "metadata": {},
   "outputs": [
    {
     "name": "stdout",
     "output_type": "stream",
     "text": [
      "<class 'dict'>\n"
     ]
    }
   ],
   "source": [
    "my_dict = {\n",
    "    'name': 'Sarah', \n",
    "    'age': 45, \n",
    "    'city': 'Paris'\n",
    "}\n",
    "\n",
    "print(type(my_dict))"
   ]
  },
  {
   "cell_type": "markdown",
   "id": "0a3ba624",
   "metadata": {},
   "source": [
    "**No duplicate keys:**\n",
    "<br>\n",
    "Dictionaries cannot have duplicate keys. Adding a key that already exists overrides the existing value."
   ]
  },
  {
   "cell_type": "code",
   "execution_count": 4,
   "id": "b713ae37",
   "metadata": {},
   "outputs": [
    {
     "name": "stdout",
     "output_type": "stream",
     "text": [
      "{'name': 'Sarah', 'age': 45, 'city': 'London'}\n"
     ]
    }
   ],
   "source": [
    "my_dict = {\n",
    "    'name': 'Sarah', \n",
    "    'age': 45, \n",
    "    'city': 'Paris',\n",
    "    'city': 'London'\n",
    "}\n",
    "\n",
    "print(my_dict)"
   ]
  },
  {
   "cell_type": "markdown",
   "id": "dba5dda6",
   "metadata": {},
   "source": [
    "**Dictionary methods:**\n",
    "<br>\n",
    "The most basic dictionary methods are keys(), values(), items(), get(), update(), pop()."
   ]
  },
  {
   "cell_type": "code",
   "execution_count": 5,
   "id": "dfcbd540",
   "metadata": {},
   "outputs": [
    {
     "name": "stdout",
     "output_type": "stream",
     "text": [
      "dict_keys(['name', 'age', 'city'])\n",
      "dict_values(['Sarah', 45, 'Paris'])\n",
      "dict_items([('name', 'Sarah'), ('age', 45), ('city', 'Paris')])\n",
      "3\n"
     ]
    }
   ],
   "source": [
    "my_dict = {\n",
    "    'name': 'Sarah', \n",
    "    'age': 45, \n",
    "    'city': 'Paris'\n",
    "}\n",
    "\n",
    "print(my_dict.keys()) #keys() method\n",
    "print(my_dict.values()) #values() method\n",
    "print(my_dict.items()) #items() method\n",
    "print(len(my_dict)) #len() function"
   ]
  },
  {
   "cell_type": "markdown",
   "id": "0096e134",
   "metadata": {},
   "source": [
    "The update() method adds key-value pairs from one dictionary to another"
   ]
  },
  {
   "cell_type": "code",
   "execution_count": 6,
   "id": "ffff3a99",
   "metadata": {},
   "outputs": [
    {
     "name": "stdout",
     "output_type": "stream",
     "text": [
      "{'name': 'Sarah', 'age': 51, 'city': 'New York'}\n"
     ]
    }
   ],
   "source": [
    "my_dict = {\n",
    "    'name': 'Sarah', \n",
    "    'age': 45, \n",
    "    'city': 'Paris'\n",
    "}\n",
    "\n",
    "#update_dict = {'city': 'New York', 'age': 51}\n",
    "#my_dict.update(update_dict)\n",
    "\n",
    "my_dict.update({'city': 'New York', 'age': 51})\n",
    "\n",
    "print(my_dict)"
   ]
  },
  {
   "cell_type": "markdown",
   "id": "08755504",
   "metadata": {},
   "source": [
    "The pop() method removes and returns the value associated with a specified key"
   ]
  },
  {
   "cell_type": "code",
   "execution_count": 7,
   "id": "e22e5d86",
   "metadata": {},
   "outputs": [
    {
     "name": "stdout",
     "output_type": "stream",
     "text": [
      "{'name': 'Sarah', 'city': 'Paris'}\n"
     ]
    }
   ],
   "source": [
    "my_dict = {\n",
    "    'name': 'Sarah', \n",
    "    'age': 45, \n",
    "    'city': 'Paris'\n",
    "}\n",
    "\n",
    "#removed_value = my_dict.pop('age')\n",
    "#print(removed_value) \n",
    "\n",
    "my_dict.pop('age')\n",
    "print(my_dict)"
   ]
  },
  {
   "cell_type": "markdown",
   "id": "76abbe77",
   "metadata": {},
   "source": [
    "The get() method retrieves the value for a given key. You can provide a default value if the key is not found."
   ]
  },
  {
   "cell_type": "code",
   "execution_count": 8,
   "id": "821192bc",
   "metadata": {},
   "outputs": [
    {
     "name": "stdout",
     "output_type": "stream",
     "text": [
      "45\n",
      "0\n"
     ]
    }
   ],
   "source": [
    "my_dict = {\n",
    "    'name': 'Sarah', \n",
    "    'age': 45, \n",
    "    'city': 'Paris'\n",
    "}\n",
    "\n",
    "print(my_dict.get('age'))\n",
    "\n",
    "# Get the value for the 'occupation' key with a default value of 0 if not found\n",
    "occupation = my_dict.get('occupation', 0)\n",
    "\n",
    "print(occupation)"
   ]
  },
  {
   "cell_type": "markdown",
   "id": "b563bae5",
   "metadata": {},
   "source": [
    "**Ordered:**\n",
    "<br>\n",
    "The items in a dictionary have a defined order and the order will not change.\n",
    "<br>\n",
    "**Changeable:**\n",
    "<br>\n",
    "Items in a dictionary can be changed, added or removed after the dictionary has been created.\n",
    "\n",
    "**Dictionary example with stacked index/key calls**"
   ]
  },
  {
   "cell_type": "code",
   "execution_count": 9,
   "id": "582bfd5c",
   "metadata": {},
   "outputs": [
    {
     "name": "stdout",
     "output_type": "stream",
     "text": [
      "45\n",
      "['English', 'French', 'Computer Science']\n",
      "Computer Science\n",
      "COMPUTER SCIENCE\n",
      "{'English': 90, 'French': 95, 'Computer Science': 98}\n",
      "95\n",
      "{'name': 'Sarah', 'age': 45, 'city': 'Paris', 'courses': ['English', 'French', 'Computer Science'], 'results': {'English': 90, 'French': 95, 'Computer Science': 98}, 'occupation': 'Teacher'}\n"
     ]
    }
   ],
   "source": [
    "my_dict = {\n",
    "    'name': 'Sarah', \n",
    "    'age': 45, \n",
    "    'city': 'Paris',\n",
    "    'courses': ['English', 'French', 'Computer Science'],\n",
    "    'results': {'English': 90, 'French': 95, 'Computer Science': 98}\n",
    "}\n",
    "\n",
    "print(my_dict['age'])\n",
    "print(my_dict['courses'])\n",
    "print(my_dict['courses'][2]) #stacking index calls\n",
    "print(my_dict['courses'][2].upper()) #adding methods to stacked index calls\n",
    "print(my_dict['results'])\n",
    "print(my_dict['results']['French']) #stacking key calls\n",
    "\n",
    "my_dict['occupation'] = 'Teacher' #adds a new key:value pair to my_dict\n",
    "print(my_dict)"
   ]
  }
 ],
 "metadata": {
  "kernelspec": {
   "display_name": "Python 3 (ipykernel)",
   "language": "python",
   "name": "python3"
  },
  "language_info": {
   "codemirror_mode": {
    "name": "ipython",
    "version": 3
   },
   "file_extension": ".py",
   "mimetype": "text/x-python",
   "name": "python",
   "nbconvert_exporter": "python",
   "pygments_lexer": "ipython3",
   "version": "3.11.5"
  }
 },
 "nbformat": 4,
 "nbformat_minor": 5
}
