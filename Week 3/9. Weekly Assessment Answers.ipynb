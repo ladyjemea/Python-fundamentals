{
 "cells": [
  {
   "cell_type": "markdown",
   "id": "502850fb",
   "metadata": {},
   "source": [
    "<img src=\"LaeCodes.png\" \n",
    "     align=\"center\" \n",
    "     width=\"100\" />"
   ]
  },
  {
   "cell_type": "markdown",
   "id": "165d208e",
   "metadata": {},
   "source": [
    "1. Write a program that calculates the sum of all elements in a list of numbers."
   ]
  },
  {
   "cell_type": "code",
   "execution_count": 1,
   "id": "cbb1ef51",
   "metadata": {},
   "outputs": [
    {
     "name": "stdout",
     "output_type": "stream",
     "text": [
      "Sum of numbers: 15\n"
     ]
    }
   ],
   "source": [
    "#Using a loop:\n",
    "\n",
    "numbers = [1, 2, 3, 4, 5]\n",
    "total = 0\n",
    "for num in numbers:\n",
    "    total += num\n",
    "print(\"Sum of numbers:\", total)"
   ]
  },
  {
   "cell_type": "code",
   "execution_count": 2,
   "id": "4d0a056d",
   "metadata": {},
   "outputs": [
    {
     "name": "stdout",
     "output_type": "stream",
     "text": [
      "Sum of numbers: 15\n"
     ]
    }
   ],
   "source": [
    "#Using the sum() function:\n",
    "\n",
    "numbers = [1, 2, 3, 4, 5]\n",
    "total = sum(numbers)\n",
    "print(\"Sum of numbers:\", total)"
   ]
  },
  {
   "cell_type": "markdown",
   "id": "93b8a465",
   "metadata": {},
   "source": [
    "2. Write a program that that calculates the average of all elements in a list of numbers."
   ]
  },
  {
   "cell_type": "code",
   "execution_count": 3,
   "id": "88371a65",
   "metadata": {},
   "outputs": [
    {
     "name": "stdout",
     "output_type": "stream",
     "text": [
      "Average: 30.0\n"
     ]
    }
   ],
   "source": [
    "numbers = [10, 20, 30, 40, 50]\n",
    "\n",
    "# Calculate the sum of numbers\n",
    "total = sum(numbers)\n",
    "\n",
    "# Calculate the average\n",
    "count = len(numbers)\n",
    "if count == 0:\n",
    "    average = 0  # To avoid division by zero if the list is empty\n",
    "else:\n",
    "    average = total / count\n",
    "\n",
    "print(\"Average:\", average)"
   ]
  },
  {
   "cell_type": "markdown",
   "id": "b6beb28c",
   "metadata": {},
   "source": [
    "3. Write a program that merges two lists."
   ]
  },
  {
   "cell_type": "code",
   "execution_count": 4,
   "id": "29bb1d26",
   "metadata": {},
   "outputs": [
    {
     "name": "stdout",
     "output_type": "stream",
     "text": [
      "Merged list: [1, 2, 3, 4, 5, 6]\n"
     ]
    }
   ],
   "source": [
    "list1 = [1, 2, 3]\n",
    "list2 = [4, 5, 6]\n",
    "\n",
    "merged_list = list1 + list2\n",
    "\n",
    "print(\"Merged list:\", merged_list)"
   ]
  },
  {
   "cell_type": "markdown",
   "id": "c1fc7738",
   "metadata": {},
   "source": [
    "4. Write a program that checks if a given list is a sublist of another list."
   ]
  },
  {
   "cell_type": "code",
   "execution_count": 5,
   "id": "fadd262b",
   "metadata": {},
   "outputs": [
    {
     "name": "stdout",
     "output_type": "stream",
     "text": [
      "The sublist is present in the main list.\n"
     ]
    }
   ],
   "source": [
    "main_list = [1, 2, 3, 4, 5, 6, 7, 8]\n",
    "sublist = [2, 3, 4]\n",
    "\n",
    "is_sublist = False\n",
    "for i in range(len(main_list) - len(sublist) + 1):\n",
    "    if main_list[i:i+len(sublist)] == sublist:\n",
    "        is_sublist = True\n",
    "        break\n",
    "\n",
    "if is_sublist:\n",
    "    print(\"The sublist is present in the main list.\")\n",
    "else:\n",
    "    print(\"The sublist is not present in the main list.\")"
   ]
  },
  {
   "cell_type": "markdown",
   "id": "e40842ce",
   "metadata": {},
   "source": [
    "5. Write a program that finds the index of a specific element in a list."
   ]
  },
  {
   "cell_type": "code",
   "execution_count": 6,
   "id": "e8fff894",
   "metadata": {},
   "outputs": [
    {
     "name": "stdout",
     "output_type": "stream",
     "text": [
      "The index of 30 is: 2\n"
     ]
    }
   ],
   "source": [
    "my_list = [10, 20, 30, 40, 50]\n",
    "element_to_find = 30\n",
    "\n",
    "index = None\n",
    "for i in range(len(my_list)):\n",
    "    if my_list[i] == element_to_find:\n",
    "        index = i\n",
    "        break\n",
    "\n",
    "if index is not None:\n",
    "    print(f\"The index of {element_to_find} is: {index}\")\n",
    "else:\n",
    "    print(f\"{element_to_find} is not present in the list.\")"
   ]
  },
  {
   "cell_type": "markdown",
   "id": "e457a82f",
   "metadata": {},
   "source": [
    "6. Create a dictionary representing a person with keys such as \"name\", \"age\", \"gender\", and \"city\"."
   ]
  },
  {
   "cell_type": "code",
   "execution_count": 1,
   "id": "430097c6",
   "metadata": {},
   "outputs": [
    {
     "name": "stdout",
     "output_type": "stream",
     "text": [
      "{'name': 'Alice', 'age': 30, 'gender': 'female', 'city': 'New York'}\n"
     ]
    }
   ],
   "source": [
    "person = {\"name\": \"Alice\", \"age\": 30, \"gender\": \"female\", \"city\": \"New York\"}\n",
    "print(person)"
   ]
  },
  {
   "cell_type": "markdown",
   "id": "471f7f19",
   "metadata": {},
   "source": [
    "7. Access and print the value associated with the \"age\" key from the dictionary created in exercise 1."
   ]
  },
  {
   "cell_type": "code",
   "execution_count": 2,
   "id": "bee44022",
   "metadata": {},
   "outputs": [
    {
     "name": "stdout",
     "output_type": "stream",
     "text": [
      "Age: 30\n"
     ]
    }
   ],
   "source": [
    "print(\"Age:\", person[\"age\"])"
   ]
  },
  {
   "cell_type": "markdown",
   "id": "f245b822",
   "metadata": {},
   "source": [
    "8. Change the value associated with the \"city\" key in the dictionary created in exercise 1 to a different city."
   ]
  },
  {
   "cell_type": "code",
   "execution_count": 3,
   "id": "668fe92e",
   "metadata": {},
   "outputs": [
    {
     "name": "stdout",
     "output_type": "stream",
     "text": [
      "{'name': 'Alice', 'age': 30, 'gender': 'female', 'city': 'Los Angeles'}\n"
     ]
    }
   ],
   "source": [
    "person[\"city\"] = \"Los Angeles\"\n",
    "print(person)"
   ]
  },
  {
   "cell_type": "markdown",
   "id": "6ac204eb",
   "metadata": {},
   "source": [
    "9. Remove the \"gender\" key-value pair from the dictionary."
   ]
  },
  {
   "cell_type": "code",
   "execution_count": 4,
   "id": "3dbacc26",
   "metadata": {},
   "outputs": [
    {
     "name": "stdout",
     "output_type": "stream",
     "text": [
      "{'name': 'Alice', 'age': 30, 'city': 'Los Angeles'}\n"
     ]
    }
   ],
   "source": [
    "del person[\"gender\"]\n",
    "print(person)"
   ]
  },
  {
   "cell_type": "markdown",
   "id": "2bd0459c",
   "metadata": {},
   "source": [
    "10. Create a tuple containing numbers from 1 to 10 and print the first three elements."
   ]
  },
  {
   "cell_type": "code",
   "execution_count": 5,
   "id": "411e3ce5",
   "metadata": {},
   "outputs": [
    {
     "name": "stdout",
     "output_type": "stream",
     "text": [
      "First three elements: (1, 2, 3)\n"
     ]
    }
   ],
   "source": [
    "numbers_tuple = tuple(range(1, 11))\n",
    "print(\"First three elements:\", numbers_tuple[:3])"
   ]
  },
  {
   "cell_type": "markdown",
   "id": "60cfde80",
   "metadata": {},
   "source": [
    "11. Create a tuple containing a person's name, age, and city. Then, unpack this tuple into three variables."
   ]
  },
  {
   "cell_type": "code",
   "execution_count": 7,
   "id": "012a4d65",
   "metadata": {},
   "outputs": [
    {
     "name": "stdout",
     "output_type": "stream",
     "text": [
      "('Bob', 25, 'Chicago')\n"
     ]
    }
   ],
   "source": [
    "person_tuple = (\"Bob\", 25, \"Chicago\")\n",
    "name, age, city = person_tuple\n",
    "print(person_tuple)"
   ]
  },
  {
   "cell_type": "markdown",
   "id": "6f994703",
   "metadata": {},
   "source": [
    "12. Create a set containing a few different integers."
   ]
  },
  {
   "cell_type": "code",
   "execution_count": 8,
   "id": "86233745",
   "metadata": {},
   "outputs": [],
   "source": [
    "integers_set = {1, 2, 3, 4, 5}"
   ]
  },
  {
   "cell_type": "markdown",
   "id": "fe376e7c",
   "metadata": {},
   "source": [
    "13. Add a new integer to the set."
   ]
  },
  {
   "cell_type": "code",
   "execution_count": 9,
   "id": "bfcff4e0",
   "metadata": {},
   "outputs": [
    {
     "name": "stdout",
     "output_type": "stream",
     "text": [
      "{1, 2, 3, 4, 5, 6}\n"
     ]
    }
   ],
   "source": [
    "integers_set.add(6)\n",
    "print(integers_set)"
   ]
  },
  {
   "cell_type": "markdown",
   "id": "aeb8798b",
   "metadata": {},
   "source": [
    "14. Remove an integer from the set."
   ]
  },
  {
   "cell_type": "code",
   "execution_count": 10,
   "id": "4e420084",
   "metadata": {},
   "outputs": [
    {
     "name": "stdout",
     "output_type": "stream",
     "text": [
      "{1, 2, 4, 5, 6}\n"
     ]
    }
   ],
   "source": [
    "integers_set.remove(3)\n",
    "print(integers_set)"
   ]
  },
  {
   "cell_type": "markdown",
   "id": "48544fcc",
   "metadata": {},
   "source": [
    "15. Check if a specific integer is present in the set created and print the result."
   ]
  },
  {
   "cell_type": "code",
   "execution_count": 11,
   "id": "da337201",
   "metadata": {},
   "outputs": [
    {
     "name": "stdout",
     "output_type": "stream",
     "text": [
      "Is 4 present in the set? True\n"
     ]
    }
   ],
   "source": [
    "print(\"Is 4 present in the set?\", 4 in integers_set)"
   ]
  },
  {
   "cell_type": "markdown",
   "id": "086376ed",
   "metadata": {},
   "source": [
    "16. Create an empty set and add some elements to it."
   ]
  },
  {
   "cell_type": "code",
   "execution_count": 12,
   "id": "4169dc19",
   "metadata": {},
   "outputs": [],
   "source": [
    "empty_set = set()\n",
    "empty_set.add(10)\n",
    "empty_set.add(20)"
   ]
  },
  {
   "cell_type": "markdown",
   "id": "502be770",
   "metadata": {},
   "source": [
    "17. Write a program that checks if a given number is even or odd and prints the result."
   ]
  },
  {
   "cell_type": "code",
   "execution_count": 13,
   "id": "89a19049",
   "metadata": {},
   "outputs": [
    {
     "name": "stdout",
     "output_type": "stream",
     "text": [
      "7 is odd\n"
     ]
    }
   ],
   "source": [
    "number = 7\n",
    "if number % 2 == 0:\n",
    "    print(number, \"is even\")\n",
    "else:\n",
    "    print(number, \"is odd\")"
   ]
  },
  {
   "cell_type": "markdown",
   "id": "6fce0904",
   "metadata": {},
   "source": [
    "18. Write a program that checks if a given number is positive, negative, or zero and prints the result."
   ]
  },
  {
   "cell_type": "code",
   "execution_count": 14,
   "id": "2cb6ad7a",
   "metadata": {},
   "outputs": [
    {
     "name": "stdout",
     "output_type": "stream",
     "text": [
      "-5 is negative\n"
     ]
    }
   ],
   "source": [
    "number = -5\n",
    "if number > 0:\n",
    "    print(number, \"is positive\")\n",
    "elif number < 0:\n",
    "    print(number, \"is negative\")\n",
    "else:\n",
    "    print(number, \"is zero\")"
   ]
  },
  {
   "cell_type": "markdown",
   "id": "c3529d23",
   "metadata": {},
   "source": [
    "19. Write a program that takes three numbers as input and prints the largest among them."
   ]
  },
  {
   "cell_type": "code",
   "execution_count": 16,
   "id": "0635f7eb",
   "metadata": {},
   "outputs": [
    {
     "name": "stdout",
     "output_type": "stream",
     "text": [
      "Largest number: 20\n"
     ]
    }
   ],
   "source": [
    "num1 = 10\n",
    "num2 = 20\n",
    "num3 = 15\n",
    "largest = max(num1, num2, num3)\n",
    "print(\"Largest number:\", largest)"
   ]
  },
  {
   "cell_type": "markdown",
   "id": "3954ab00",
   "metadata": {},
   "source": [
    "20. Write a program that takes a number representing a month (1-12) as input and prints the name of the month."
   ]
  },
  {
   "cell_type": "code",
   "execution_count": 17,
   "id": "4c3f0caf",
   "metadata": {},
   "outputs": [
    {
     "name": "stdout",
     "output_type": "stream",
     "text": [
      "Month: July\n"
     ]
    }
   ],
   "source": [
    "month_number = 7\n",
    "months = [\"January\", \"February\", \"March\", \"April\", \"May\", \"June\", \"July\", \"August\", \"September\", \"October\", \"November\", \"December\"]\n",
    "if 1 <= month_number <= 12:\n",
    "    print(\"Month:\", months[month_number - 1])\n",
    "else:\n",
    "    print(\"Invalid month number\")"
   ]
  }
 ],
 "metadata": {
  "kernelspec": {
   "display_name": "Python 3 (ipykernel)",
   "language": "python",
   "name": "python3"
  },
  "language_info": {
   "codemirror_mode": {
    "name": "ipython",
    "version": 3
   },
   "file_extension": ".py",
   "mimetype": "text/x-python",
   "name": "python",
   "nbconvert_exporter": "python",
   "pygments_lexer": "ipython3",
   "version": "3.11.5"
  }
 },
 "nbformat": 4,
 "nbformat_minor": 5
}
