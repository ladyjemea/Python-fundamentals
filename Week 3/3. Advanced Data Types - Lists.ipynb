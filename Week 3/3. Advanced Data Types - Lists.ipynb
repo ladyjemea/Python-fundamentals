{
 "cells": [
  {
   "cell_type": "markdown",
   "id": "8ed3ebbd",
   "metadata": {},
   "source": [
    "<img src=\"LaeCodes.png\" \n",
    "     align=\"center\" \n",
    "     width=\"100\" />"
   ]
  },
  {
   "attachments": {
    "image.png": {
     "image/png": "[encoded data removed]"
    }
   },
   "cell_type": "markdown",
   "id": "ca856acd",
   "metadata": {},
   "source": [
    "# Advanced Data Types\n",
    "\n",
    "**Lists:**\n",
    "<br>\n",
    "Lists are ordered sequences that can hold a variety of object types. They are used to store multiple items in a single variable. They are mutable – you can modify them after they have been created in place. You can add, remove and change items in a list. Lists are defined by having items between square brackets ‘[ ]’, with each item separated by a comma.\n",
    "\n",
    "![image.png](attachment:image.png)\n",
    "\n",
    "The key features of lists are:\n",
    "<br>\n",
    "- They are ordered: Each item has a defined position and can be accessed by its index. The order only changes if you explicitly command it to. First item on the list is at index [0], second item is at index [1], and so on. New items are added to the end of the list. <br>\n",
    "- Allows duplicates: Multiple items with the same value can exist in a list in different indices. <br>\n",
    "- Mutable: You can add. Remove or change items in a list after it has been created. <br>\n",
    "- Can hold different object types: Lists can hold several data types like integers, strings, floats and other lists (nested lists).\n",
    "\n",
    "<br>\n",
    "Basic Operations on lists:\n",
    "<br>\n",
    "- Creating a list: You can either define them using square brackets or by using the ‘list()’ constructor. <br>\n",
    "- Accessing items: You can access items on a list by referring to their indices. Just like strings, we can perform indexing and slicing on lists. <br>\n",
    "- Modifying a list: You can change the value of an item in a list by referring to its index. <br>\n",
    "- Adding items to the list: Items can be added to the end of a list using the ‘append()’ method or to specific positions using the ‘insert()’ method. <br>\n",
    "- Removing items from a list: The ‘pop()’ and ‘remove()’ methods remove items from a list. Del is also used to remove items from a list. <br>\n",
    "- Length of a list: the ‘len()’ function gives you the number of items in a list. <br>"
   ]
  },
  {
   "cell_type": "code",
   "execution_count": 1,
   "id": "723a2359",
   "metadata": {},
   "outputs": [
    {
     "name": "stdout",
     "output_type": "stream",
     "text": [
      "orange\n",
      "pear\n",
      "3\n",
      "['blueberry', 'grape', 'pear']\n"
     ]
    }
   ],
   "source": [
    "#List and list attributes\n",
    "\n",
    "# Creating a list\n",
    "fruits = [\"mango\", \"orange\", \"grape\"]\n",
    "\n",
    "# Accessing items\n",
    "print(fruits[1])  # Output: orange\n",
    "\n",
    "# Modifying items\n",
    "fruits[1] = \"blueberry\"\n",
    "\n",
    "# Adding items\n",
    "fruits.append(\"pear\")\n",
    "\n",
    "# Removing items\n",
    "fruits.remove(\"mango\")\n",
    "#fruits.pop() - removes the last item on a list\n",
    "\n",
    "#indexing\n",
    "print(fruits[2])\n",
    "\n",
    "# Length of the list\n",
    "print(len(fruits))  # Output: 3\n",
    "\n",
    "print(fruits)  # Output: ['blueberry', 'grape', 'pear']"
   ]
  },
  {
   "cell_type": "code",
   "execution_count": 2,
   "id": "6f4ba265",
   "metadata": {},
   "outputs": [
    {
     "name": "stdout",
     "output_type": "stream",
     "text": [
      "<class 'list'>\n",
      "['apple', 5, 'banana', 'a', 8.1, 'cherry']\n"
     ]
    }
   ],
   "source": [
    "#More list attributes\n",
    "\n",
    "#list with duplicates\n",
    "new_list = list((\"apple\", 5, \"banana\", 'a', 8.1, \"cherry\", \"apple\"))\n",
    "\n",
    "#list type\n",
    "print(type(new_list))\n",
    "\n",
    "#remove the last item on a list\n",
    "new_list.pop()\n",
    "\n",
    "print(new_list)"
   ]
  },
  {
   "cell_type": "markdown",
   "id": "0d6f0c4e",
   "metadata": {},
   "source": [
    "You can pop a specific item from a list by passing its index in the pop() method.\n",
    "<br>"
   ]
  },
  {
   "cell_type": "markdown",
   "id": "957e081e",
   "metadata": {},
   "source": [
    "**Indexing and slicing lists**\n",
    "<br>\n",
    "Individual elements in a list can be accessed using indexing and slicing\n",
    "<br>\n",
    "**Indexing**\n",
    "<br>\n",
    "Indexing starts at 0, which means the first element is at index 0, the second is at index 1 and so on."
   ]
  },
  {
   "cell_type": "code",
   "execution_count": 3,
   "id": "839c5b46",
   "metadata": {},
   "outputs": [
    {
     "name": "stdout",
     "output_type": "stream",
     "text": [
      "20\n",
      "80\n",
      "100\n",
      "60\n"
     ]
    }
   ],
   "source": [
    "my_list = [20, 40, 60, 80, 100]\n",
    "\n",
    "# Positive indexing\n",
    "print(my_list[0]) #Output: 20\n",
    "print(my_list[3]) #Output: 80\n",
    "\n",
    "# Negative indexing\n",
    "print(my_list[-1]) #Output: 100\n",
    "print(my_list[-3]) #Output: 60"
   ]
  },
  {
   "attachments": {
    "image.png": {
     "image/png": "[encoded data removed]"
    }
   },
   "cell_type": "markdown",
   "id": "f6f98087",
   "metadata": {},
   "source": [
    "**Slicing**\n",
    "<br>\n",
    "Slicing allows you to extract a portion of a list. The syntax for slicing a list is:\n",
    "<br>\n",
    "![image.png](attachment:image.png)\n",
    "<br>\n",
    "Start represents the start index, stop is the ending index (exclusive) and step is the step size which is 1 by default."
   ]
  },
  {
   "cell_type": "code",
   "execution_count": 4,
   "id": "60dcc0b8",
   "metadata": {},
   "outputs": [
    {
     "name": "stdout",
     "output_type": "stream",
     "text": [
      "[40, 60, 80]\n",
      "[20, 40]\n",
      "[40, 60, 80, 100]\n",
      "[20, 40, 60, 80]\n",
      "[20, 60, 100]\n"
     ]
    }
   ],
   "source": [
    "my_list = [20, 40, 60, 80, 100]\n",
    "\n",
    "#Slicing a portion of the list\n",
    "print(my_list[1:4]) #Elements from index 1 up until (but not including) index 4\n",
    "\n",
    "#Omitting the start index\n",
    "print(my_list[:2]) #starts from element at index 0 to the element at (but not including) the element at index 2\n",
    "\n",
    "#Omitting the stop index\n",
    "print(my_list[1:]) #returns the element from index 1 to the end of the list\n",
    "\n",
    "#Using negative indices\n",
    "print(my_list[:-1]) #returns all elements except the last one\n",
    "\n",
    "#Using the step\n",
    "print(my_list[::2]) #returns every second element"
   ]
  },
  {
   "cell_type": "markdown",
   "id": "0308c4a4",
   "metadata": {},
   "source": [
    "**List concatenation:**\n",
    "<br>\n",
    "You can concatenate lists using the ‘+’ operator."
   ]
  },
  {
   "cell_type": "code",
   "execution_count": 5,
   "id": "bdbba5eb",
   "metadata": {},
   "outputs": [
    {
     "name": "stdout",
     "output_type": "stream",
     "text": [
      "[20, 40, 60, 80, 100, 'a', 'b', 'c', 'd', 'e']\n"
     ]
    }
   ],
   "source": [
    "my_list = [20, 40, 60, 80, 100]\n",
    "list2 = ['a','b', 'c', 'd', 'e']\n",
    "\n",
    "new_list = my_list + list2\n",
    "\n",
    "print(new_list)"
   ]
  },
  {
   "cell_type": "markdown",
   "id": "5dbed58b",
   "metadata": {},
   "source": [
    "**List mutation:**\n",
    "<br>\n",
    "Unlike strings, lists are mutable - you can change the elements of a list in place."
   ]
  },
  {
   "cell_type": "code",
   "execution_count": 6,
   "id": "a3be79fd",
   "metadata": {},
   "outputs": [
    {
     "name": "stdout",
     "output_type": "stream",
     "text": [
      "[20, 40, 'five', 80, 100]\n"
     ]
    }
   ],
   "source": [
    "my_list = [20, 40, 60, 80, 100]\n",
    "my_list[2] = 'five'\n",
    "\n",
    "print(my_list)"
   ]
  },
  {
   "cell_type": "markdown",
   "id": "37a71ade",
   "metadata": {},
   "source": [
    "**Sort() and reverse() list methods:**\n",
    "<br>\n",
    "The sort() method sorts the list in place."
   ]
  },
  {
   "cell_type": "code",
   "execution_count": 7,
   "id": "17fd5b46",
   "metadata": {},
   "outputs": [
    {
     "name": "stdout",
     "output_type": "stream",
     "text": [
      "[4, 8, 24, 67, 98]\n"
     ]
    }
   ],
   "source": [
    "my_list = [24, 98, 4, 67, 8]\n",
    "my_list.sort()\n",
    "\n",
    "print(my_list)"
   ]
  },
  {
   "cell_type": "code",
   "execution_count": 8,
   "id": "234a6e77",
   "metadata": {},
   "outputs": [
    {
     "name": "stdout",
     "output_type": "stream",
     "text": [
      "['a', 'c', 'd', 'x', 'z']\n"
     ]
    }
   ],
   "source": [
    "my_list = ['a', 'd', 'z', 'c', 'x']\n",
    "my_list.sort()\n",
    "\n",
    "print(my_list)"
   ]
  },
  {
   "cell_type": "markdown",
   "id": "6d8b4caf",
   "metadata": {},
   "source": [
    "**The reverse() method reverses the elements of a list in place**"
   ]
  },
  {
   "cell_type": "code",
   "execution_count": 9,
   "id": "c5725d27",
   "metadata": {},
   "outputs": [
    {
     "name": "stdout",
     "output_type": "stream",
     "text": [
      "[100, 80, 60, 40, 20]\n"
     ]
    }
   ],
   "source": [
    "my_list = [20, 40, 60, 80, 100]\n",
    "my_list.reverse()\n",
    "\n",
    "print(my_list)"
   ]
  }
 ],
 "metadata": {
  "kernelspec": {
   "display_name": "Python 3 (ipykernel)",
   "language": "python",
   "name": "python3"
  },
  "language_info": {
   "codemirror_mode": {
    "name": "ipython",
    "version": 3
   },
   "file_extension": ".py",
   "mimetype": "text/x-python",
   "name": "python",
   "nbconvert_exporter": "python",
   "pygments_lexer": "ipython3",
   "version": "3.11.5"
  }
 },
 "nbformat": 4,
 "nbformat_minor": 5
}
