{
 "cells": [
  {
   "cell_type": "markdown",
   "id": "80f87c06",
   "metadata": {},
   "source": [
    "<img src=\"LaeCodes.png\" \n",
    "     align=\"center\" \n",
    "     width=\"100\" />"
   ]
  },
  {
   "cell_type": "markdown",
   "id": "e607f259",
   "metadata": {},
   "source": [
    "# Quiz\n",
    "\n",
    "Provide the source code and pseudocode (where neccessary) for the following questions:"
   ]
  },
  {
   "cell_type": "markdown",
   "id": "aacc95c3",
   "metadata": {},
   "source": [
    "1. Write a program that uses Input to prompt a user for their name and then welcomes them. <br>\n",
    "2. Write a program that prompts a user for hours and rate per hour using Input to compute their gross pay. Use 35 hours and a rate of 2.5 per hour. Hint - you will need to use type conversion. <br>\n",
    "3. Write a program that takes two numbers and checks if the numbers are even or odd. <br>\n",
    "4. Create a list of numbers, print the list, and then print the sum of its elements. <br>\n",
    "5. Take a number as input and print its square. <br>\n",
    "6. Create two variables, a and b, assign values, and print their sum. <br>\n",
    "7. Write a program to convert Celsius to Fahrenheit. Hint - °F = (°C × 9/5) + 32 <br>\n",
    "8. Write a program that takes a string as input and prints the count of characters in it (including spaces). <br>\n",
    "9. Write a program that takes a string as input and prints the count of characters in it (excluding spaces). <br>\n",
    "10. Take two strings as input and concatenate them. Print the resulting string. <br>\n",
    "11. Write a program that takes a string as input and prints it in both uppercase and lowercase. <br>\n",
    "12. Write a program that takes a sentence as input and prints the count of words in it. <br>\n",
    "13. Given the string \"Python is fun\", replace \"fun\" with \"awesome\". <br>\n",
    "14. Write a program that takes a string as input and prints the first and last characters. Hint - the input string's length must be at least 2. <br>\n",
    "15. Write a program that takes a string as input and prints the characters at even indices. Use the sentence: \"The quick brown fox jumps over the lazy dog\". <br>\n",
    "16. Write a program that takes an integer as input and converts it to a float. <br>\n",
    "17. Write a program that takes a numeric string as input and converts it to an integer. <br>\n",
    "18. Create a string variable called my_string with the value 'Python Programming'. Print the first character, the last character, and a substring containing the word 'Programming'. <br>\n",
    "19. Identify the data types of the following values: 42, 3.14, 'Hello, World!', True, [1, 2, 3]. <br>\n",
    "20. Create a list called my_list with the values 1, 2, 3, and 4. Print the list. <br>\n",
    "Bonus: Create two boolean variables, is_raining and is_sunny, with appropriate values. Use these variables to print whether it's a good day (either not raining or sunny)."
   ]
  }
 ],
 "metadata": {
  "kernelspec": {
   "display_name": "Python 3 (ipykernel)",
   "language": "python",
   "name": "python3"
  },
  "language_info": {
   "codemirror_mode": {
    "name": "ipython",
    "version": 3
   },
   "file_extension": ".py",
   "mimetype": "text/x-python",
   "name": "python",
   "nbconvert_exporter": "python",
   "pygments_lexer": "ipython3",
   "version": "3.11.5"
  }
 },
 "nbformat": 4,
 "nbformat_minor": 5
}
