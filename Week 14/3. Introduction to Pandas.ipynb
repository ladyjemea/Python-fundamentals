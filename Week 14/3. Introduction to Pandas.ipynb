{
 "cells": [
  {
   "cell_type": "markdown",
   "id": "ccd4b066",
   "metadata": {},
   "source": [
    "<img src=\"LaeCodes.png\" \n",
    "     align=\"center\" \n",
    "     width=\"100\" />"
   ]
  },
  {
   "cell_type": "markdown",
   "id": "10096c34",
   "metadata": {},
   "source": [
    "**Introduction to Pandas** <br>\n",
    "\n",
    "Pandas is a flexible open-source data analysis and manipulation library for Python. It is widely used in data science for working with structured data due to its easy-to-use data structures and robust functionality. Pandas provides tools for reading and writing data, cleaning and preparing data, and performing complex data analysis.\n",
    "\n",
    "**Key Features of Pandas** <br>\n",
    "1. **Data Structures:** <br>\n",
    "o **Series:** A one-dimensional labeled array capable of holding any data type."
   ]
  },
  {
   "cell_type": "code",
   "execution_count": 2,
   "id": "a9974d32",
   "metadata": {},
   "outputs": [],
   "source": [
    "import pandas as pd\n",
    "s = pd.Series([1, 2, 3, 4, 5])"
   ]
  },
  {
   "cell_type": "markdown",
   "id": "9137dee0",
   "metadata": {},
   "source": [
    "**Attributes:** <br>\n",
    "• **values:** Returns the values in the series. <br>\n",
    "• **index:** Returns the index of the series. <br>\n",
    "\n",
    "o **DataFrame:** A two-dimensional labeled data structure with columns of potentially different types. It is similar to a table in a relational database or an Excel spreadsheet."
   ]
  },
  {
   "cell_type": "code",
   "execution_count": 3,
   "id": "552290a6",
   "metadata": {},
   "outputs": [
    {
     "name": "stdout",
     "output_type": "stream",
     "text": [
      "   A  B\n",
      "0  1  4\n",
      "1  2  5\n",
      "2  3  6\n"
     ]
    }
   ],
   "source": [
    "data = {'A': [1, 2, 3], 'B': [4, 5, 6]}\n",
    "df = pd.DataFrame(data)\n",
    "print(df)"
   ]
  },
  {
   "cell_type": "markdown",
   "id": "b07e2190",
   "metadata": {},
   "source": [
    "**Attributes:** <br>\n",
    "• **columns:** Returns the column labels. <br>\n",
    "• **index:** Returns the row labels. <br>\n",
    "• **values:** Returns the underlying data as a NumPy array. <br>\n",
    "\n",
    "2. **Data Handling and Manipulation:** <br>\n",
    "o Reading/Writing Data: Easily read from and write to various file formats, including CSV, Excel, SQL, and JSON. <br>\n",
    "o Data Cleaning: Handling missing data, removing duplicates, and filtering data. <br>\n",
    "o Data Transformation: Applying functions, merging/joining datasets, grouping data, and pivoting tables. <br>\n",
    "\n",
    "3. **Indexing and Selection:** <br>\n",
    "o Powerful tools for selecting, filtering, and slicing data, allowing for intuitive data access and manipulation. <br>\n",
    "\n",
    "4. **Time Series Handling:** <br>\n",
    "o Specialized functions and tools to work with time series data, including date range generation, frequency conversion, and resampling. <br>\n",
    "\n",
    "5. **Integration with Other Libraries:** <br>\n",
    "o Works seamlessly with NumPy for numerical operations and matplotlib for data visualization. <br>\n",
    "\n",
    "**Common Uses of Pandas in Data Science** <br>\n",
    "• **Data Cleaning and Preparation:** <br>\n",
    "o Handling missing values, converting data types, and normalizing data. <br>\n",
    "o Removing duplicates and handling outliers. <br>\n",
    "• **Exploratory Data Analysis (EDA):** <br>\n",
    "o Summarizing data, calculating statistics, and generating descriptive statistics. <br>\n",
    "o Visualizing data distributions and relationships using plots. <br>\n",
    "• **Data Transformation:** <br>\n",
    "o Applying functions to data, grouping and aggregating data, and reshaping data structures. <br>\n",
    "o Creating new calculated columns based on existing data. <br>\n",
    "• **Merging and Joining Data:** <br>\n",
    "o Combining multiple datasets through joins and merges, similar to SQL operations. <br>\n",
    "• **Time Series Analysis:** <br>\n",
    "o Handling date-time data, performing rolling window calculations, and resampling time series data. <br>\n",
    "\n",
    "\n",
    "**Creating DataFrames from Various Data Sources** <br>\n",
    "• **From Dictionaries:**"
   ]
  },
  {
   "cell_type": "code",
   "execution_count": 10,
   "id": "784fab48",
   "metadata": {},
   "outputs": [],
   "source": [
    "data = {'A': [1, 2, 3], 'B': [4, 5, 6]}\n",
    "df = pd.DataFrame(data)"
   ]
  },
  {
   "cell_type": "markdown",
   "id": "04b43354",
   "metadata": {},
   "source": [
    "• **From CSV Files:**"
   ]
  },
  {
   "cell_type": "code",
   "execution_count": 6,
   "id": "7ecab26c",
   "metadata": {},
   "outputs": [
    {
     "name": "stdout",
     "output_type": "stream",
     "text": [
      "   total_bill   tip     sex smoker  day    time  size\n",
      "0       16.99  1.01  Female     No  Sun  Dinner   2.0\n",
      "1       10.34  1.66    Male     No  Sun  Dinner   3.0\n",
      "2       21.01  3.50    Male     No  Sun  Dinner   3.0\n",
      "3       23.68  3.31    Male     No  Sun  Dinner   2.0\n",
      "4       24.59  3.61  Female     No  Sun  Dinner   4.0\n",
      "5         NaN   NaN     NaN    NaN  NaN     NaN   NaN\n"
     ]
    }
   ],
   "source": [
    "df = pd.read_csv('data.csv', delimiter=';')\n",
    "print(df)"
   ]
  },
  {
   "cell_type": "markdown",
   "id": "9a4b42db",
   "metadata": {},
   "source": [
    "• **From Excel Files:**"
   ]
  },
  {
   "cell_type": "code",
   "execution_count": 8,
   "id": "807c385a",
   "metadata": {},
   "outputs": [
    {
     "name": "stdout",
     "output_type": "stream",
     "text": [
      "   A  B  C   D\n",
      "0  1  4  7  10\n",
      "1  2  5  8  11\n",
      "2  3  6  9  12\n"
     ]
    }
   ],
   "source": [
    "import pandas as pd\n",
    "\n",
    "df = pd.read_excel('data.xlsx', engine='openpyxl')\n",
    "\n",
    "print(df.head())"
   ]
  },
  {
   "cell_type": "markdown",
   "id": "7fb8cb0b",
   "metadata": {},
   "source": [
    "• **From JSON Files:**"
   ]
  },
  {
   "cell_type": "code",
   "execution_count": 5,
   "id": "79e1ea5e",
   "metadata": {},
   "outputs": [
    {
     "name": "stdout",
     "output_type": "stream",
     "text": [
      "File Content: ﻿total_bill;tip;sex;smoker;day;time;size\n",
      "16.99;1.01;Female;No;Sun;Dinner;2\n",
      "10.34;1.66;Male;No;Sun;Dinner;3\n",
      "21.01;3.50;Male;No;Sun;Dinner;3\n",
      "23.68;3.31;Male;No;Sun;Dinner;2\n",
      "24.59;3.61;Female;No;Sun;Dinner;4\n",
      ";;;;;;\n",
      "ValueError: Expected object or value\n"
     ]
    }
   ],
   "source": [
    "import pandas as pd\n",
    "\n",
    "# Check the file content first\n",
    "file_path = 'data.json'\n",
    "\n",
    "# Read the file content to debug\n",
    "try:\n",
    "    with open(file_path, 'r') as file:\n",
    "        content = file.read()\n",
    "        print(\"File Content:\", content)\n",
    "except FileNotFoundError:\n",
    "    print(f\"The file {file_path} does not exist.\")\n",
    "except Exception as e:\n",
    "    print(f\"An error occurred while reading the file: {e}\")\n",
    "\n",
    "# If the content looks valid, try to load it as JSON\n",
    "try:\n",
    "    df = pd.read_json(file_path)\n",
    "    print(df.head())\n",
    "except ValueError as ve:\n",
    "    print(f\"ValueError: {ve}\")\n",
    "except Exception as e:\n",
    "    print(f\"An unexpected error occurred: {e}\")"
   ]
  },
  {
   "cell_type": "markdown",
   "id": "88b3a190",
   "metadata": {},
   "source": [
    "• **From SQL Databases:**"
   ]
  },
  {
   "cell_type": "code",
   "execution_count": null,
   "id": "649c334c",
   "metadata": {},
   "outputs": [],
   "source": [
    "import sqlite3\n",
    "conn = sqlite3.connect('database.db')\n",
    "df = pd.read_sql_query(\"SELECT * FROM table_name\", conn)"
   ]
  },
  {
   "cell_type": "markdown",
   "id": "8197fd27",
   "metadata": {},
   "source": [
    "**DataFrame Indexing and Slicing** <br>\n",
    "**Selecting Data by Label:** <br>\n",
    "• Using loc for label-based indexing:"
   ]
  },
  {
   "cell_type": "code",
   "execution_count": 14,
   "id": "112563d3",
   "metadata": {},
   "outputs": [
    {
     "data": {
      "text/plain": [
       "A    1\n",
       "B    4\n",
       "Name: 0, dtype: int64"
      ]
     },
     "execution_count": 14,
     "metadata": {},
     "output_type": "execute_result"
    }
   ],
   "source": [
    "df.loc[0, 'A']  # Access element at row 0, column 'A'\n",
    "df.loc[:, 'A']  # Access all rows of column 'A'\n",
    "df.loc[0]       # Access all columns of row 0"
   ]
  },
  {
   "cell_type": "markdown",
   "id": "05f0ca61",
   "metadata": {},
   "source": [
    "**Selecting Data by Position:** <br>\n",
    "• Using iloc for position-based indexing:"
   ]
  },
  {
   "cell_type": "code",
   "execution_count": 16,
   "id": "8ddd754c",
   "metadata": {},
   "outputs": [
    {
     "data": {
      "text/plain": [
       "A    1\n",
       "B    4\n",
       "Name: 0, dtype: int64"
      ]
     },
     "execution_count": 16,
     "metadata": {},
     "output_type": "execute_result"
    }
   ],
   "source": [
    "df.iloc[0, 0]   # Access element at first row, first column\n",
    "df.iloc[:, 0]   # Access all rows of first column\n",
    "df.iloc[0]      # Access all columns of first row"
   ]
  },
  {
   "cell_type": "markdown",
   "id": "7c87d8d0",
   "metadata": {},
   "source": [
    "**Boolean Indexing:** <br>\n",
    "• Using conditions to filter data:"
   ]
  },
  {
   "cell_type": "code",
   "execution_count": null,
   "id": "6c005d83",
   "metadata": {},
   "outputs": [],
   "source": [
    "df[df['A'] > 2]  # Returns rows where column 'A' values are greater than 2"
   ]
  },
  {
   "cell_type": "markdown",
   "id": "61ff2d0d",
   "metadata": {},
   "source": [
    "**Setting Values:** <br>\n",
    "• Modifying values based on index:"
   ]
  },
  {
   "cell_type": "code",
   "execution_count": 12,
   "id": "5184c1b1",
   "metadata": {},
   "outputs": [],
   "source": [
    "df.loc[0, 'A'] = 10  # Set value at row 0, column 'A' to 10"
   ]
  },
  {
   "cell_type": "markdown",
   "id": "447ff9a7",
   "metadata": {},
   "source": [
    "**Basic Operations on DataFrames** <br>\n",
    "**Adding and Removing Columns:** <br>\n",
    "• Adding a new column:"
   ]
  },
  {
   "cell_type": "code",
   "execution_count": 19,
   "id": "171d11d2",
   "metadata": {},
   "outputs": [
    {
     "name": "stdout",
     "output_type": "stream",
     "text": [
      "    A  B  C\n",
      "0  10  4  7\n",
      "1   2  5  8\n",
      "2   3  6  9\n"
     ]
    }
   ],
   "source": [
    "df['C'] = [7, 8, 9]\n",
    "print(df)"
   ]
  },
  {
   "cell_type": "markdown",
   "id": "f00131f3",
   "metadata": {},
   "source": [
    "• **Removing a column:**"
   ]
  },
  {
   "cell_type": "code",
   "execution_count": 20,
   "id": "31af2ee1",
   "metadata": {},
   "outputs": [],
   "source": [
    "df.drop('C', axis=1, inplace=True)"
   ]
  },
  {
   "cell_type": "markdown",
   "id": "41df67df",
   "metadata": {},
   "source": [
    "• **Filtering Rows:** <br>\n",
    "Filtering based on conditions:"
   ]
  },
  {
   "cell_type": "code",
   "execution_count": 21,
   "id": "a6ddfbb9",
   "metadata": {},
   "outputs": [],
   "source": [
    "filtered_df = df[df['A'] > 1]"
   ]
  },
  {
   "cell_type": "markdown",
   "id": "99f5465a",
   "metadata": {},
   "source": [
    "• **Sorting Data:** <br>\n",
    "Sorting by column values:"
   ]
  },
  {
   "cell_type": "code",
   "execution_count": 22,
   "id": "35811080",
   "metadata": {},
   "outputs": [
    {
     "data": {
      "text/html": [
       "<div>\n",
       "<style scoped>\n",
       "    .dataframe tbody tr th:only-of-type {\n",
       "        vertical-align: middle;\n",
       "    }\n",
       "\n",
       "    .dataframe tbody tr th {\n",
       "        vertical-align: top;\n",
       "    }\n",
       "\n",
       "    .dataframe thead th {\n",
       "        text-align: right;\n",
       "    }\n",
       "</style>\n",
       "<table border=\"1\" class=\"dataframe\">\n",
       "  <thead>\n",
       "    <tr style=\"text-align: right;\">\n",
       "      <th></th>\n",
       "      <th>A</th>\n",
       "      <th>B</th>\n",
       "    </tr>\n",
       "  </thead>\n",
       "  <tbody>\n",
       "    <tr>\n",
       "      <th>0</th>\n",
       "      <td>10</td>\n",
       "      <td>4</td>\n",
       "    </tr>\n",
       "    <tr>\n",
       "      <th>2</th>\n",
       "      <td>3</td>\n",
       "      <td>6</td>\n",
       "    </tr>\n",
       "    <tr>\n",
       "      <th>1</th>\n",
       "      <td>2</td>\n",
       "      <td>5</td>\n",
       "    </tr>\n",
       "  </tbody>\n",
       "</table>\n",
       "</div>"
      ],
      "text/plain": [
       "    A  B\n",
       "0  10  4\n",
       "2   3  6\n",
       "1   2  5"
      ]
     },
     "execution_count": 22,
     "metadata": {},
     "output_type": "execute_result"
    }
   ],
   "source": [
    "df.sort_values(by='A', ascending=False)"
   ]
  },
  {
   "cell_type": "markdown",
   "id": "0fc9e86c",
   "metadata": {},
   "source": [
    "Sorting by index:"
   ]
  },
  {
   "cell_type": "code",
   "execution_count": 24,
   "id": "97f778d3",
   "metadata": {},
   "outputs": [
    {
     "data": {
      "text/html": [
       "<div>\n",
       "<style scoped>\n",
       "    .dataframe tbody tr th:only-of-type {\n",
       "        vertical-align: middle;\n",
       "    }\n",
       "\n",
       "    .dataframe tbody tr th {\n",
       "        vertical-align: top;\n",
       "    }\n",
       "\n",
       "    .dataframe thead th {\n",
       "        text-align: right;\n",
       "    }\n",
       "</style>\n",
       "<table border=\"1\" class=\"dataframe\">\n",
       "  <thead>\n",
       "    <tr style=\"text-align: right;\">\n",
       "      <th></th>\n",
       "      <th>A</th>\n",
       "      <th>B</th>\n",
       "    </tr>\n",
       "  </thead>\n",
       "  <tbody>\n",
       "    <tr>\n",
       "      <th>0</th>\n",
       "      <td>10</td>\n",
       "      <td>4</td>\n",
       "    </tr>\n",
       "    <tr>\n",
       "      <th>1</th>\n",
       "      <td>2</td>\n",
       "      <td>5</td>\n",
       "    </tr>\n",
       "    <tr>\n",
       "      <th>2</th>\n",
       "      <td>3</td>\n",
       "      <td>6</td>\n",
       "    </tr>\n",
       "  </tbody>\n",
       "</table>\n",
       "</div>"
      ],
      "text/plain": [
       "    A  B\n",
       "0  10  4\n",
       "1   2  5\n",
       "2   3  6"
      ]
     },
     "execution_count": 24,
     "metadata": {},
     "output_type": "execute_result"
    }
   ],
   "source": [
    "df.sort_index()"
   ]
  },
  {
   "cell_type": "markdown",
   "id": "f1b1db51",
   "metadata": {},
   "source": [
    "• **Descriptive Statistics:** <br>\n",
    "Summary statistics for DataFrame:"
   ]
  },
  {
   "cell_type": "code",
   "execution_count": 25,
   "id": "cf0e9241",
   "metadata": {},
   "outputs": [
    {
     "data": {
      "text/html": [
       "<div>\n",
       "<style scoped>\n",
       "    .dataframe tbody tr th:only-of-type {\n",
       "        vertical-align: middle;\n",
       "    }\n",
       "\n",
       "    .dataframe tbody tr th {\n",
       "        vertical-align: top;\n",
       "    }\n",
       "\n",
       "    .dataframe thead th {\n",
       "        text-align: right;\n",
       "    }\n",
       "</style>\n",
       "<table border=\"1\" class=\"dataframe\">\n",
       "  <thead>\n",
       "    <tr style=\"text-align: right;\">\n",
       "      <th></th>\n",
       "      <th>A</th>\n",
       "      <th>B</th>\n",
       "    </tr>\n",
       "  </thead>\n",
       "  <tbody>\n",
       "    <tr>\n",
       "      <th>count</th>\n",
       "      <td>3.000000</td>\n",
       "      <td>3.0</td>\n",
       "    </tr>\n",
       "    <tr>\n",
       "      <th>mean</th>\n",
       "      <td>5.000000</td>\n",
       "      <td>5.0</td>\n",
       "    </tr>\n",
       "    <tr>\n",
       "      <th>std</th>\n",
       "      <td>4.358899</td>\n",
       "      <td>1.0</td>\n",
       "    </tr>\n",
       "    <tr>\n",
       "      <th>min</th>\n",
       "      <td>2.000000</td>\n",
       "      <td>4.0</td>\n",
       "    </tr>\n",
       "    <tr>\n",
       "      <th>25%</th>\n",
       "      <td>2.500000</td>\n",
       "      <td>4.5</td>\n",
       "    </tr>\n",
       "    <tr>\n",
       "      <th>50%</th>\n",
       "      <td>3.000000</td>\n",
       "      <td>5.0</td>\n",
       "    </tr>\n",
       "    <tr>\n",
       "      <th>75%</th>\n",
       "      <td>6.500000</td>\n",
       "      <td>5.5</td>\n",
       "    </tr>\n",
       "    <tr>\n",
       "      <th>max</th>\n",
       "      <td>10.000000</td>\n",
       "      <td>6.0</td>\n",
       "    </tr>\n",
       "  </tbody>\n",
       "</table>\n",
       "</div>"
      ],
      "text/plain": [
       "               A    B\n",
       "count   3.000000  3.0\n",
       "mean    5.000000  5.0\n",
       "std     4.358899  1.0\n",
       "min     2.000000  4.0\n",
       "25%     2.500000  4.5\n",
       "50%     3.000000  5.0\n",
       "75%     6.500000  5.5\n",
       "max    10.000000  6.0"
      ]
     },
     "execution_count": 25,
     "metadata": {},
     "output_type": "execute_result"
    }
   ],
   "source": [
    "df.describe()"
   ]
  },
  {
   "cell_type": "markdown",
   "id": "e7512dad",
   "metadata": {},
   "source": [
    "**Data Cleaning and Preparation** <br>\n",
    "**Handling Missing Data:** <br>\n",
    "• Detecting missing values:"
   ]
  },
  {
   "cell_type": "code",
   "execution_count": 26,
   "id": "22cb4390",
   "metadata": {},
   "outputs": [
    {
     "data": {
      "text/html": [
       "<div>\n",
       "<style scoped>\n",
       "    .dataframe tbody tr th:only-of-type {\n",
       "        vertical-align: middle;\n",
       "    }\n",
       "\n",
       "    .dataframe tbody tr th {\n",
       "        vertical-align: top;\n",
       "    }\n",
       "\n",
       "    .dataframe thead th {\n",
       "        text-align: right;\n",
       "    }\n",
       "</style>\n",
       "<table border=\"1\" class=\"dataframe\">\n",
       "  <thead>\n",
       "    <tr style=\"text-align: right;\">\n",
       "      <th></th>\n",
       "      <th>A</th>\n",
       "      <th>B</th>\n",
       "    </tr>\n",
       "  </thead>\n",
       "  <tbody>\n",
       "    <tr>\n",
       "      <th>0</th>\n",
       "      <td>False</td>\n",
       "      <td>False</td>\n",
       "    </tr>\n",
       "    <tr>\n",
       "      <th>1</th>\n",
       "      <td>False</td>\n",
       "      <td>False</td>\n",
       "    </tr>\n",
       "    <tr>\n",
       "      <th>2</th>\n",
       "      <td>False</td>\n",
       "      <td>False</td>\n",
       "    </tr>\n",
       "  </tbody>\n",
       "</table>\n",
       "</div>"
      ],
      "text/plain": [
       "       A      B\n",
       "0  False  False\n",
       "1  False  False\n",
       "2  False  False"
      ]
     },
     "execution_count": 26,
     "metadata": {},
     "output_type": "execute_result"
    }
   ],
   "source": [
    "df.isnull()"
   ]
  },
  {
   "cell_type": "markdown",
   "id": "b79abb64",
   "metadata": {},
   "source": [
    "• **Dropping missing values:**"
   ]
  },
  {
   "cell_type": "code",
   "execution_count": 27,
   "id": "3a392a2a",
   "metadata": {},
   "outputs": [
    {
     "data": {
      "text/html": [
       "<div>\n",
       "<style scoped>\n",
       "    .dataframe tbody tr th:only-of-type {\n",
       "        vertical-align: middle;\n",
       "    }\n",
       "\n",
       "    .dataframe tbody tr th {\n",
       "        vertical-align: top;\n",
       "    }\n",
       "\n",
       "    .dataframe thead th {\n",
       "        text-align: right;\n",
       "    }\n",
       "</style>\n",
       "<table border=\"1\" class=\"dataframe\">\n",
       "  <thead>\n",
       "    <tr style=\"text-align: right;\">\n",
       "      <th></th>\n",
       "      <th>A</th>\n",
       "      <th>B</th>\n",
       "    </tr>\n",
       "  </thead>\n",
       "  <tbody>\n",
       "    <tr>\n",
       "      <th>0</th>\n",
       "      <td>10</td>\n",
       "      <td>4</td>\n",
       "    </tr>\n",
       "    <tr>\n",
       "      <th>1</th>\n",
       "      <td>2</td>\n",
       "      <td>5</td>\n",
       "    </tr>\n",
       "    <tr>\n",
       "      <th>2</th>\n",
       "      <td>3</td>\n",
       "      <td>6</td>\n",
       "    </tr>\n",
       "  </tbody>\n",
       "</table>\n",
       "</div>"
      ],
      "text/plain": [
       "    A  B\n",
       "0  10  4\n",
       "1   2  5\n",
       "2   3  6"
      ]
     },
     "execution_count": 27,
     "metadata": {},
     "output_type": "execute_result"
    }
   ],
   "source": [
    "df.dropna()"
   ]
  },
  {
   "cell_type": "markdown",
   "id": "a9f80c92",
   "metadata": {},
   "source": [
    "• **Filling missing values:**"
   ]
  },
  {
   "cell_type": "code",
   "execution_count": 28,
   "id": "831ea45c",
   "metadata": {},
   "outputs": [
    {
     "data": {
      "text/html": [
       "<div>\n",
       "<style scoped>\n",
       "    .dataframe tbody tr th:only-of-type {\n",
       "        vertical-align: middle;\n",
       "    }\n",
       "\n",
       "    .dataframe tbody tr th {\n",
       "        vertical-align: top;\n",
       "    }\n",
       "\n",
       "    .dataframe thead th {\n",
       "        text-align: right;\n",
       "    }\n",
       "</style>\n",
       "<table border=\"1\" class=\"dataframe\">\n",
       "  <thead>\n",
       "    <tr style=\"text-align: right;\">\n",
       "      <th></th>\n",
       "      <th>A</th>\n",
       "      <th>B</th>\n",
       "    </tr>\n",
       "  </thead>\n",
       "  <tbody>\n",
       "    <tr>\n",
       "      <th>0</th>\n",
       "      <td>10</td>\n",
       "      <td>4</td>\n",
       "    </tr>\n",
       "    <tr>\n",
       "      <th>1</th>\n",
       "      <td>2</td>\n",
       "      <td>5</td>\n",
       "    </tr>\n",
       "    <tr>\n",
       "      <th>2</th>\n",
       "      <td>3</td>\n",
       "      <td>6</td>\n",
       "    </tr>\n",
       "  </tbody>\n",
       "</table>\n",
       "</div>"
      ],
      "text/plain": [
       "    A  B\n",
       "0  10  4\n",
       "1   2  5\n",
       "2   3  6"
      ]
     },
     "execution_count": 28,
     "metadata": {},
     "output_type": "execute_result"
    }
   ],
   "source": [
    "df.fillna(value=0)"
   ]
  },
  {
   "cell_type": "markdown",
   "id": "e509ae03",
   "metadata": {},
   "source": [
    "**Data Transformation:** <br>\n",
    "• **Renaming columns:**"
   ]
  },
  {
   "cell_type": "code",
   "execution_count": 18,
   "id": "163a3c1a",
   "metadata": {},
   "outputs": [
    {
     "data": {
      "text/html": [
       "<div>\n",
       "<style scoped>\n",
       "    .dataframe tbody tr th:only-of-type {\n",
       "        vertical-align: middle;\n",
       "    }\n",
       "\n",
       "    .dataframe tbody tr th {\n",
       "        vertical-align: top;\n",
       "    }\n",
       "\n",
       "    .dataframe thead th {\n",
       "        text-align: right;\n",
       "    }\n",
       "</style>\n",
       "<table border=\"1\" class=\"dataframe\">\n",
       "  <thead>\n",
       "    <tr style=\"text-align: right;\">\n",
       "      <th></th>\n",
       "      <th>A</th>\n",
       "      <th>B</th>\n",
       "    </tr>\n",
       "  </thead>\n",
       "  <tbody>\n",
       "    <tr>\n",
       "      <th>0</th>\n",
       "      <td>10.0</td>\n",
       "      <td>4</td>\n",
       "    </tr>\n",
       "    <tr>\n",
       "      <th>1</th>\n",
       "      <td>2.0</td>\n",
       "      <td>5</td>\n",
       "    </tr>\n",
       "    <tr>\n",
       "      <th>2</th>\n",
       "      <td>3.0</td>\n",
       "      <td>6</td>\n",
       "    </tr>\n",
       "  </tbody>\n",
       "</table>\n",
       "</div>"
      ],
      "text/plain": [
       "      A  B\n",
       "0  10.0  4\n",
       "1   2.0  5\n",
       "2   3.0  6"
      ]
     },
     "execution_count": 18,
     "metadata": {},
     "output_type": "execute_result"
    }
   ],
   "source": [
    "df.rename(columns={'A': 'Column_A'})\n",
    "df"
   ]
  },
  {
   "cell_type": "markdown",
   "id": "6a20fce7",
   "metadata": {},
   "source": [
    "• **Changing data types:**"
   ]
  },
  {
   "cell_type": "code",
   "execution_count": 16,
   "id": "7e5dfd85",
   "metadata": {},
   "outputs": [
    {
     "data": {
      "text/html": [
       "<div>\n",
       "<style scoped>\n",
       "    .dataframe tbody tr th:only-of-type {\n",
       "        vertical-align: middle;\n",
       "    }\n",
       "\n",
       "    .dataframe tbody tr th {\n",
       "        vertical-align: top;\n",
       "    }\n",
       "\n",
       "    .dataframe thead th {\n",
       "        text-align: right;\n",
       "    }\n",
       "</style>\n",
       "<table border=\"1\" class=\"dataframe\">\n",
       "  <thead>\n",
       "    <tr style=\"text-align: right;\">\n",
       "      <th></th>\n",
       "      <th>A</th>\n",
       "      <th>B</th>\n",
       "    </tr>\n",
       "  </thead>\n",
       "  <tbody>\n",
       "    <tr>\n",
       "      <th>0</th>\n",
       "      <td>10.0</td>\n",
       "      <td>4</td>\n",
       "    </tr>\n",
       "    <tr>\n",
       "      <th>1</th>\n",
       "      <td>2.0</td>\n",
       "      <td>5</td>\n",
       "    </tr>\n",
       "    <tr>\n",
       "      <th>2</th>\n",
       "      <td>3.0</td>\n",
       "      <td>6</td>\n",
       "    </tr>\n",
       "  </tbody>\n",
       "</table>\n",
       "</div>"
      ],
      "text/plain": [
       "      A  B\n",
       "0  10.0  4\n",
       "1   2.0  5\n",
       "2   3.0  6"
      ]
     },
     "execution_count": 16,
     "metadata": {},
     "output_type": "execute_result"
    }
   ],
   "source": [
    "df['A'] = df['A'].astype(float)\n",
    "df"
   ]
  },
  {
   "cell_type": "markdown",
   "id": "954389ef",
   "metadata": {},
   "source": [
    "**Combining and Merging DataFrames:** <br>\n",
    "• **Concatenating DataFrames:**"
   ]
  },
  {
   "cell_type": "code",
   "execution_count": 21,
   "id": "526bbdf4",
   "metadata": {},
   "outputs": [
    {
     "data": {
      "text/html": [
       "<div>\n",
       "<style scoped>\n",
       "    .dataframe tbody tr th:only-of-type {\n",
       "        vertical-align: middle;\n",
       "    }\n",
       "\n",
       "    .dataframe tbody tr th {\n",
       "        vertical-align: top;\n",
       "    }\n",
       "\n",
       "    .dataframe thead th {\n",
       "        text-align: right;\n",
       "    }\n",
       "</style>\n",
       "<table border=\"1\" class=\"dataframe\">\n",
       "  <thead>\n",
       "    <tr style=\"text-align: right;\">\n",
       "      <th></th>\n",
       "      <th>A</th>\n",
       "      <th>B</th>\n",
       "      <th>C</th>\n",
       "      <th>D</th>\n",
       "    </tr>\n",
       "  </thead>\n",
       "  <tbody>\n",
       "    <tr>\n",
       "      <th>0</th>\n",
       "      <td>1</td>\n",
       "      <td>4</td>\n",
       "      <td>7</td>\n",
       "      <td>10</td>\n",
       "    </tr>\n",
       "    <tr>\n",
       "      <th>1</th>\n",
       "      <td>2</td>\n",
       "      <td>5</td>\n",
       "      <td>8</td>\n",
       "      <td>11</td>\n",
       "    </tr>\n",
       "    <tr>\n",
       "      <th>2</th>\n",
       "      <td>3</td>\n",
       "      <td>6</td>\n",
       "      <td>9</td>\n",
       "      <td>12</td>\n",
       "    </tr>\n",
       "  </tbody>\n",
       "</table>\n",
       "</div>"
      ],
      "text/plain": [
       "   A  B  C   D\n",
       "0  1  4  7  10\n",
       "1  2  5  8  11\n",
       "2  3  6  9  12"
      ]
     },
     "execution_count": 21,
     "metadata": {},
     "output_type": "execute_result"
    }
   ],
   "source": [
    "data1 = {'A': [1, 2, 3], 'B': [4, 5, 6]}\n",
    "data2 = {'C': [7, 8, 9], 'D': [10, 11, 12]}\n",
    "df1 = pd.DataFrame(data1)\n",
    "df2 = pd.DataFrame(data2)\n",
    "\n",
    "pd.concat([df1, df2], axis=1)"
   ]
  },
  {
   "cell_type": "markdown",
   "id": "a67b91a5",
   "metadata": {},
   "source": [
    "• **Merging DataFrames:**"
   ]
  },
  {
   "cell_type": "code",
   "execution_count": 35,
   "id": "fb966ed2",
   "metadata": {},
   "outputs": [
    {
     "name": "stdout",
     "output_type": "stream",
     "text": [
      "   key  A  B  C   D\n",
      "0    1  1  4  7  10\n",
      "1    2  2  5  8  11\n",
      "2    3  3  6  9  12\n"
     ]
    }
   ],
   "source": [
    "data1 = {'key': [1, 2, 3], 'A': [1, 2, 3], 'B': [4, 5, 6]}\n",
    "data2 = {'key': [1, 2, 3], 'C': [7, 8, 9], 'D': [10, 11, 12]}\n",
    "df1 = pd.DataFrame(data1)\n",
    "df2 = pd.DataFrame(data2)\n",
    "\n",
    "# Merge the DataFrames on the 'key' column\n",
    "df_merged = pd.merge(df1, df2, on='key')\n",
    "\n",
    "print(df_merged)"
   ]
  }
 ],
 "metadata": {
  "kernelspec": {
   "display_name": "Python 3 (ipykernel)",
   "language": "python",
   "name": "python3"
  },
  "language_info": {
   "codemirror_mode": {
    "name": "ipython",
    "version": 3
   },
   "file_extension": ".py",
   "mimetype": "text/x-python",
   "name": "python",
   "nbconvert_exporter": "python",
   "pygments_lexer": "ipython3",
   "version": "3.11.5"
  }
 },
 "nbformat": 4,
 "nbformat_minor": 5
}
