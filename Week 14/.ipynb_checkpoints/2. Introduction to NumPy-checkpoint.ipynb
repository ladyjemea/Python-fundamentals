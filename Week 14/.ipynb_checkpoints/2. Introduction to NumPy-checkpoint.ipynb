{
 "cells": [
  {
   "cell_type": "markdown",
   "id": "bff66221",
   "metadata": {},
   "source": [
    "<img src=\"LaeCodes.png\" \n",
    "     align=\"center\" \n",
    "     width=\"100\" />"
   ]
  },
  {
   "cell_type": "markdown",
   "id": "6ace1160",
   "metadata": {},
   "source": [
    "**Introduction to NumPy** <br>\n",
    "\n",
    "NumPy, short for Numerical Python, is a fundamental library for numerical computing in Python. It is widely used in data science for its powerful array-processing capabilities, which allow for efficient manipulation and operations on large datasets. NumPy provides support for large multi-dimensional arrays and matrices, along with a collection of mathematical functions to operate on these arrays. <br>\n",
    "\n",
    "**Key Features of NumPy** <br>\n",
    "1. **Ndarray (N-Dimensional Array):** <br>\n",
    "o\tThe core of NumPy is the ndarray object, which is a multi-dimensional array of homogeneous data types (elements are of the same type). <br>\n",
    "o\tIt supports arrays of arbitrary dimensions (1D, 2D, 3D, etc.), making it highly versatile for various types of data. <br>\n",
    "2. **Mathematical Functions:** <br>\n",
    "o\tNumPy includes a wide range of mathematical functions for operations on arrays, including basic arithmetic operations, statistical functions, linear algebra operations, and more. <br>\n",
    "3. **Vectorization:** <br>\n",
    "o\tNumPy allows vectorized operations, which means you can perform element-wise operations on entire arrays without the need for explicit loops, leading to more concise and faster code. <br>\n",
    "4. **Broadcasting:** <br>\n",
    "o\tBroadcasting is a powerful mechanism that allows NumPy to perform operations on arrays of different shapes by automatically expanding their dimensions to be compatible. <br>\n",
    "5. **Integration with Other Libraries:** <br>\n",
    "o\tNumPy integrates seamlessly with other scientific and data analysis libraries such as SciPy, pandas, matplotlib, and scikit-learn. <br><br>\n",
    "\n",
    "**Common Uses of NumPy in Data Science** <br>\n",
    "• **Data Manipulation:** <br>\n",
    "o\tCreating, reshaping, and slicing arrays for data manipulation. <br>\n",
    "o\tEfficiently handling large datasets due to its optimized performance. <br>\n",
    "• **Mathematical Computations:** <br>\n",
    "o\tPerforming complex mathematical operations on arrays, such as matrix multiplication, dot product, and element-wise operations. <br>\n",
    "• **Statistical Analysis:** <br>\n",
    "o\tComputing statistical measures like mean, median, variance, and standard deviation on datasets. <br>\n",
    "• **Data Preparation:** <br>\n",
    "o\tPreprocessing data, including normalization, scaling, and transforming data into a suitable format for machine learning algorithms. <br>\n",
    "• **Integration with Machine Learning:** <br>\n",
    "o\tServing as a foundational library for machine learning frameworks and tools, aiding in the implementation of algorithms and models. <br>\n",
    "\n",
    "**NumPy vs. Python Lists:** <br>\n",
    "• NumPy arrays are more efficient, faster, and provide more functionality compared to Python lists.\n",
    "\n",
    "**Creating NumPy Arrays:** <br>\n",
    "• From Lists:"
   ]
  },
  {
   "cell_type": "code",
   "execution_count": 1,
   "id": "e4dcc1b7",
   "metadata": {},
   "outputs": [],
   "source": [
    "import numpy as np\n",
    "arr = np.array([1, 2, 3, 4, 5])"
   ]
  },
  {
   "cell_type": "markdown",
   "id": "e07bac02",
   "metadata": {},
   "source": [
    "• Using NumPy Functions:"
   ]
  },
  {
   "cell_type": "code",
   "execution_count": 2,
   "id": "e60f9244",
   "metadata": {},
   "outputs": [
    {
     "data": {
      "text/plain": [
       "array([1.        , 1.44444444, 1.88888889, 2.33333333, 2.77777778,\n",
       "       3.22222222, 3.66666667, 4.11111111, 4.55555556, 5.        ])"
      ]
     },
     "execution_count": 2,
     "metadata": {},
     "output_type": "execute_result"
    }
   ],
   "source": [
    "np.zeros((3, 3))  # Creates a 3x3 array of zeros\n",
    "np.ones((2, 4))   # Creates a 2x4 array of ones\n",
    "np.arange(10)     # Creates an array with values from 0 to 9\n",
    "np.linspace(1, 5, 10)  # Creates an array with 10 values between 1 and 5"
   ]
  },
  {
   "cell_type": "markdown",
   "id": "ed841649",
   "metadata": {},
   "source": [
    "**Array Attributes:** <br>\n",
    "• **shape:** Returns the dimensions of the array.<br>\n",
    "• **dtype:** Returns the data type of the array elements. <br>\n",
    "• **ndim:** Returns the number of dimensions. <br>\n",
    "• **size:** Returns the total number of elements. <br>\n",
    "\n",
    "**Array Indexing and Slicing:** <br>\n",
    "• Accessing elements using indices:"
   ]
  },
  {
   "cell_type": "code",
   "execution_count": 3,
   "id": "16ef3403",
   "metadata": {},
   "outputs": [
    {
     "data": {
      "text/plain": [
       "5"
      ]
     },
     "execution_count": 3,
     "metadata": {},
     "output_type": "execute_result"
    }
   ],
   "source": [
    "arr = np.array([1, 2, 3, 4, 5])\n",
    "arr[0]\n",
    "arr[-1]"
   ]
  },
  {
   "cell_type": "markdown",
   "id": "488e2a99",
   "metadata": {},
   "source": [
    "• Slicing arrays:"
   ]
  },
  {
   "cell_type": "code",
   "execution_count": 4,
   "id": "b0a28015",
   "metadata": {},
   "outputs": [
    {
     "data": {
      "text/plain": [
       "array([1, 3, 5])"
      ]
     },
     "execution_count": 4,
     "metadata": {},
     "output_type": "execute_result"
    }
   ],
   "source": [
    "arr[1:3]\n",
    "arr[:3]\n",
    "arr[::2]"
   ]
  },
  {
   "cell_type": "markdown",
   "id": "31522d0f",
   "metadata": {},
   "source": [
    "**Indexing with Arrays and Boolean Arrays:** <br>\n",
    "• Using arrays to index:"
   ]
  },
  {
   "cell_type": "code",
   "execution_count": 5,
   "id": "23e66aa9",
   "metadata": {},
   "outputs": [
    {
     "data": {
      "text/plain": [
       "array([1, 3, 5])"
      ]
     },
     "execution_count": 5,
     "metadata": {},
     "output_type": "execute_result"
    }
   ],
   "source": [
    "arr = np.array([1, 2, 3, 4, 5])\n",
    "idx = np.array([0, 2, 4])\n",
    "arr[idx]"
   ]
  },
  {
   "cell_type": "markdown",
   "id": "5f3f430b",
   "metadata": {},
   "source": [
    "• Using Boolean arrays:"
   ]
  },
  {
   "cell_type": "code",
   "execution_count": 6,
   "id": "5345c01e",
   "metadata": {},
   "outputs": [],
   "source": [
    "arr = [arr > 2] #Returns array ([3, 4, 5])"
   ]
  },
  {
   "cell_type": "markdown",
   "id": "43806def",
   "metadata": {},
   "source": [
    "**Fancy Indexing:** <br>\n",
    "• Using arrays of indices to access multiple array elements:"
   ]
  },
  {
   "cell_type": "code",
   "execution_count": 7,
   "id": "85ef16f5",
   "metadata": {},
   "outputs": [
    {
     "data": {
      "text/plain": [
       "array([10, 30, 40])"
      ]
     },
     "execution_count": 7,
     "metadata": {},
     "output_type": "execute_result"
    }
   ],
   "source": [
    "arr = np.array([10, 20, 30, 40, 50])\n",
    "idx = [0, 2, 3]\n",
    "arr[idx]"
   ]
  },
  {
   "cell_type": "markdown",
   "id": "8b795f0f",
   "metadata": {},
   "source": [
    "**Modifying Array Values through Indexing:** <br>\n",
    "• Assigning values to specific positions:"
   ]
  },
  {
   "cell_type": "code",
   "execution_count": 11,
   "id": "a12f1008",
   "metadata": {},
   "outputs": [],
   "source": [
    "arr = np.array([1, 2, 3, 4, 5])\n",
    "arr[0] = 10\n",
    "arr[1:3] = [20, 30]"
   ]
  },
  {
   "cell_type": "markdown",
   "id": "30cda3c4",
   "metadata": {},
   "source": [
    "**Basic Arithmetic Operations:** <br>\n",
    "• Element-wise operations"
   ]
  },
  {
   "cell_type": "code",
   "execution_count": 12,
   "id": "1a7def31",
   "metadata": {},
   "outputs": [
    {
     "data": {
      "text/plain": [
       "array([ 4, 10, 18])"
      ]
     },
     "execution_count": 12,
     "metadata": {},
     "output_type": "execute_result"
    }
   ],
   "source": [
    "arr1 = np.array([1, 2, 3])\n",
    "arr2 = np.array([4, 5, 6])\n",
    "arr1 + arr2 #Returns array ([5, 7, 9])\n",
    "arr1 * arr2 #Returns array ([4, 10, 18])"
   ]
  },
  {
   "cell_type": "markdown",
   "id": "25899356",
   "metadata": {},
   "source": [
    "**Universal Functions (ufuncs):** <br>\n",
    "• Applying functions element-wise:"
   ]
  },
  {
   "cell_type": "code",
   "execution_count": 13,
   "id": "f59769d3",
   "metadata": {},
   "outputs": [
    {
     "data": {
      "text/plain": [
       "array([ 2.71828183,  7.3890561 , 20.08553692])"
      ]
     },
     "execution_count": 13,
     "metadata": {},
     "output_type": "execute_result"
    }
   ],
   "source": [
    "np.sqrt(arr1) #Returns array([1.0, 1.41, 1.73])\n",
    "np.exp(arr1) #Returns array([2.71, 7.39, 20.08])"
   ]
  },
  {
   "cell_type": "markdown",
   "id": "9d5ac7f2",
   "metadata": {},
   "source": [
    "**Aggregation Functions:** <br>\n",
    "• Computing summary statistics:"
   ]
  },
  {
   "cell_type": "code",
   "execution_count": null,
   "id": "ad2cc177",
   "metadata": {},
   "outputs": [],
   "source": [
    "arr = np.array([1, 2, 3, 4, 5])\n",
    "arr.sum()    #Returns 15\n",
    "arr.mean()   #Returns 3.0\n",
    "arr.std()    #Returns 1.41\n",
    "arr.min()    #Returns 1\n",
    "arr.max()    #Returns 5"
   ]
  },
  {
   "cell_type": "markdown",
   "id": "60645b20",
   "metadata": {},
   "source": [
    "**Axis-wise Operations:** <br>\n",
    "• Applying functions along specific axes:"
   ]
  },
  {
   "cell_type": "code",
   "execution_count": 15,
   "id": "22e02e14",
   "metadata": {},
   "outputs": [
    {
     "data": {
      "text/plain": [
       "array([ 6, 15])"
      ]
     },
     "execution_count": 15,
     "metadata": {},
     "output_type": "execute_result"
    }
   ],
   "source": [
    "arr = np.array([[1, 2, 3], [4, 5, 6]])\n",
    "arr.sum(axis=0)  #Returns array ([5, 7, 9])\n",
    "arr.sum(axis=1)  #Returns array ([6, 15])"
   ]
  },
  {
   "cell_type": "markdown",
   "id": "cc513bb0",
   "metadata": {},
   "source": [
    "**Broadcasting and Vectorized Operations** <br>\n",
    "\n",
    "**What is Broadcasting?** <br>\n",
    "• Broadcasting is the process by which NumPy treats arrays with different shapes during arithmetic operations. <br>\n",
    "**Rules of Broadcasting:** <br>\n",
    "• **Rule 1:** If the arrays do not have the same rank, prepend the shape of the lower-rank array with ones until both shapes have the same length.<br>\n",
    "• **Rule 2:** The two arrays are compatible in a dimension if they have the same size in that dimension or if one of them has size 1 in that dimension. <br>\n",
    "\n",
    "**Examples of Broadcasting:** <br>\n",
    "• Adding a scalar to an array:"
   ]
  },
  {
   "cell_type": "code",
   "execution_count": 16,
   "id": "91ddd8eb",
   "metadata": {},
   "outputs": [
    {
     "data": {
      "text/plain": [
       "array([6, 7, 8])"
      ]
     },
     "execution_count": 16,
     "metadata": {},
     "output_type": "execute_result"
    }
   ],
   "source": [
    "arr = np.array([1, 2, 3])\n",
    "arr + 5 #Returns array ([6,7,8])"
   ]
  },
  {
   "cell_type": "markdown",
   "id": "816ee596",
   "metadata": {},
   "source": [
    "• Adding two arrays of different shapes:"
   ]
  },
  {
   "cell_type": "code",
   "execution_count": 17,
   "id": "8f9e9d01",
   "metadata": {},
   "outputs": [
    {
     "data": {
      "text/plain": [
       "array([[2, 4, 6],\n",
       "       [5, 7, 9]])"
      ]
     },
     "execution_count": 17,
     "metadata": {},
     "output_type": "execute_result"
    }
   ],
   "source": [
    "arr1 = np.array([[1, 2, 3], [4, 5, 6]])\n",
    "arr2 = np.array([1, 2, 3])\n",
    "arr1 + arr2 #Returns array ([[2, 4, 6], [5, 7, 9]])"
   ]
  },
  {
   "cell_type": "markdown",
   "id": "3b9d1771",
   "metadata": {},
   "source": [
    "**Vectorized Operations** <br>\n",
    "\n",
    "**Benefits of Vectorization:** <br>\n",
    "• Vectorization allows operations to be applied element-wise to arrays, leading to more concise and readable code. <br>\n",
    "• It also improves performance by utilizing optimized C and Fortran libraries in NumPy.<br>\n",
    "\n",
    "**Applying Vectorized Operations to Arrays:** <br>\n",
    "• Example of vectorized operations:"
   ]
  },
  {
   "cell_type": "code",
   "execution_count": 18,
   "id": "761e34b8",
   "metadata": {},
   "outputs": [
    {
     "data": {
      "text/plain": [
       "array([0.        , 0.69314718, 1.09861229])"
      ]
     },
     "execution_count": 18,
     "metadata": {},
     "output_type": "execute_result"
    }
   ],
   "source": [
    "arr2 = np.array([1, 2, 3, 4, 5])\n",
    "np.exp(arr) #Returns array ([2.71, 7.39, 20.08, 54.60, 148.41])\n",
    "np.log(arr) #Returns array ([0.0, 0.69, 1.09, 1.39, 1.61])"
   ]
  },
  {
   "cell_type": "markdown",
   "id": "a7089a17",
   "metadata": {},
   "source": [
    "**I/O with NumPy** <br>\n",
    "**Reading Data from Files:** <br>\n",
    "o Using np.loadtxt():"
   ]
  },
  {
   "cell_type": "code",
   "execution_count": 24,
   "id": "4c765569",
   "metadata": {},
   "outputs": [
    {
     "name": "stdout",
     "output_type": "stream",
     "text": [
      "[[1. 2. 3.]\n",
      " [4. 5. 6.]\n",
      " [7. 8. 9.]]\n"
     ]
    }
   ],
   "source": [
    "import numpy as np\n",
    "data = np.loadtxt('data.txt')\n",
    "print(data)"
   ]
  },
  {
   "cell_type": "markdown",
   "id": "c481e4c7",
   "metadata": {},
   "source": [
    "**Using np.genfromtxt():** <br>\n",
    "• Handles missing values and different delimiters:"
   ]
  },
  {
   "cell_type": "code",
   "execution_count": 27,
   "id": "03805b97",
   "metadata": {},
   "outputs": [],
   "source": [
    "data = np.genfromtxt('data.csv', delimiter=';', dtype=float, skip_header=1)"
   ]
  },
  {
   "cell_type": "markdown",
   "id": "2c007237",
   "metadata": {},
   "source": [
    "**Writing Data to Files:** <br>\n",
    "• Using np.savetxt():"
   ]
  },
  {
   "cell_type": "code",
   "execution_count": 28,
   "id": "06b03b29",
   "metadata": {},
   "outputs": [],
   "source": [
    "np.savetxt('output.txt', data)"
   ]
  },
  {
   "cell_type": "markdown",
   "id": "52546241",
   "metadata": {},
   "source": [
    "**Using np.save() and np.load():** <br>\n",
    "• For binary format (more efficient storage):"
   ]
  },
  {
   "cell_type": "code",
   "execution_count": 29,
   "id": "d3d2f97f",
   "metadata": {},
   "outputs": [],
   "source": [
    "np.save('data.npy', data)\n",
    "loaded_data = np.load('data.npy')"
   ]
  },
  {
   "cell_type": "markdown",
   "id": "cc34467e",
   "metadata": {},
   "source": [
    "**Using np.savez():** <br>\n",
    "• Saving multiple arrays in a compressed format:"
   ]
  },
  {
   "cell_type": "code",
   "execution_count": null,
   "id": "9236d3ee",
   "metadata": {},
   "outputs": [],
   "source": [
    "np.savez('data.npz', arr1=data1, arr2=data2)\n",
    "loaded = np.load('data.npz')\n",
    "loaded['arr'] #Accessing the saved arrays"
   ]
  }
 ],
 "metadata": {
  "kernelspec": {
   "display_name": "Python 3 (ipykernel)",
   "language": "python",
   "name": "python3"
  },
  "language_info": {
   "codemirror_mode": {
    "name": "ipython",
    "version": 3
   },
   "file_extension": ".py",
   "mimetype": "text/x-python",
   "name": "python",
   "nbconvert_exporter": "python",
   "pygments_lexer": "ipython3",
   "version": "3.11.5"
  }
 },
 "nbformat": 4,
 "nbformat_minor": 5
}
