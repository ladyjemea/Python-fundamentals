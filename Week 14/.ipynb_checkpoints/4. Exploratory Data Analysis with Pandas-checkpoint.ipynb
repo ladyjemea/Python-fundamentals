{
 "cells": [
  {
   "cell_type": "markdown",
   "id": "dc90198c",
   "metadata": {},
   "source": [
    "<img src=\"LaeCodes.png\" \n",
    "     align=\"center\" \n",
    "     width=\"100\" />"
   ]
  },
  {
   "cell_type": "markdown",
   "id": "3c741838",
   "metadata": {},
   "source": [
    "### Exploratory Data Analysis (EDA)\n",
    "\n",
    "**Descriptive Statistics:** <br>\n",
    "•\tGenerating descriptive statistics:"
   ]
  },
  {
   "cell_type": "code",
   "execution_count": 3,
   "id": "2fba2517",
   "metadata": {},
   "outputs": [
    {
     "data": {
      "text/plain": [
       "0    1\n",
       "1    2\n",
       "2    3\n",
       "Name: A, dtype: int64"
      ]
     },
     "execution_count": 3,
     "metadata": {},
     "output_type": "execute_result"
    }
   ],
   "source": [
    "import pandas as pd\n",
    "\n",
    "data = {'A': [1, 2, 3], 'B': [4, 5, 6]}\n",
    "df = pd.DataFrame(data)\n",
    "\n",
    "df.describe()\n",
    "df['A'].mean()\n",
    "df['A'].median()\n",
    "df['A'].mode()"
   ]
  },
  {
   "cell_type": "markdown",
   "id": "1974eacb",
   "metadata": {},
   "source": [
    "**Data Visualization with Pandas:** <br>\n",
    "• Basic plotting:"
   ]
  },
  {
   "cell_type": "code",
   "execution_count": 4,
   "id": "464caa13",
   "metadata": {},
   "outputs": [
    {
     "data": {
      "text/plain": [
       "<Axes: ylabel='Frequency'>"
      ]
     },
     "execution_count": 4,
     "metadata": {},
     "output_type": "execute_result"
    },
    {
     "data": {
      "image/png": "[encoded data removed]",
      "text/plain": [
       "<Figure size 640x480 with 1 Axes>"
      ]
     },
     "metadata": {},
     "output_type": "display_data"
    }
   ],
   "source": [
    "df['A'].plot(kind='line')\n",
    "df['A'].plot(kind='hist')\n",
    "df['A'].plot(kind='box')"
   ]
  },
  {
   "cell_type": "markdown",
   "id": "6bc2ddbc",
   "metadata": {},
   "source": [
    "**Pivot Tables and Cross-Tabulations:** <br>\n",
    "• Creating pivot tables:"
   ]
  },
  {
   "cell_type": "code",
   "execution_count": 7,
   "id": "b2eca4f8",
   "metadata": {},
   "outputs": [
    {
     "data": {
      "text/html": [
       "<div>\n",
       "<style scoped>\n",
       "    .dataframe tbody tr th:only-of-type {\n",
       "        vertical-align: middle;\n",
       "    }\n",
       "\n",
       "    .dataframe tbody tr th {\n",
       "        vertical-align: top;\n",
       "    }\n",
       "\n",
       "    .dataframe thead th {\n",
       "        text-align: right;\n",
       "    }\n",
       "</style>\n",
       "<table border=\"1\" class=\"dataframe\">\n",
       "  <thead>\n",
       "    <tr style=\"text-align: right;\">\n",
       "      <th>C</th>\n",
       "      <th>7</th>\n",
       "      <th>8</th>\n",
       "      <th>9</th>\n",
       "    </tr>\n",
       "    <tr>\n",
       "      <th>B</th>\n",
       "      <th></th>\n",
       "      <th></th>\n",
       "      <th></th>\n",
       "    </tr>\n",
       "  </thead>\n",
       "  <tbody>\n",
       "    <tr>\n",
       "      <th>4</th>\n",
       "      <td>1.0</td>\n",
       "      <td>NaN</td>\n",
       "      <td>NaN</td>\n",
       "    </tr>\n",
       "    <tr>\n",
       "      <th>5</th>\n",
       "      <td>NaN</td>\n",
       "      <td>2.0</td>\n",
       "      <td>NaN</td>\n",
       "    </tr>\n",
       "    <tr>\n",
       "      <th>6</th>\n",
       "      <td>NaN</td>\n",
       "      <td>NaN</td>\n",
       "      <td>3.0</td>\n",
       "    </tr>\n",
       "  </tbody>\n",
       "</table>\n",
       "</div>"
      ],
      "text/plain": [
       "C    7    8    9\n",
       "B               \n",
       "4  1.0  NaN  NaN\n",
       "5  NaN  2.0  NaN\n",
       "6  NaN  NaN  3.0"
      ]
     },
     "execution_count": 7,
     "metadata": {},
     "output_type": "execute_result"
    }
   ],
   "source": [
    "import pandas as pd\n",
    "\n",
    "data1 = {'A': [1, 2, 3], 'B': [4, 5, 6]}\n",
    "data2 = {'C': [7, 8, 9], 'D': [10, 11, 12]}\n",
    "df1 = pd.DataFrame(data1)\n",
    "df2 = pd.DataFrame(data2)\n",
    "\n",
    "# Concatenate the DataFrames column-wise\n",
    "df = pd.concat([df1, df2], axis=1)\n",
    "\n",
    "\n",
    "df.pivot_table(values='A', index='B', columns='C')"
   ]
  },
  {
   "cell_type": "markdown",
   "id": "193ec626",
   "metadata": {},
   "source": [
    "• Cross-tabulations:"
   ]
  },
  {
   "cell_type": "code",
   "execution_count": 8,
   "id": "eedc783a",
   "metadata": {},
   "outputs": [
    {
     "data": {
      "text/html": [
       "<div>\n",
       "<style scoped>\n",
       "    .dataframe tbody tr th:only-of-type {\n",
       "        vertical-align: middle;\n",
       "    }\n",
       "\n",
       "    .dataframe tbody tr th {\n",
       "        vertical-align: top;\n",
       "    }\n",
       "\n",
       "    .dataframe thead th {\n",
       "        text-align: right;\n",
       "    }\n",
       "</style>\n",
       "<table border=\"1\" class=\"dataframe\">\n",
       "  <thead>\n",
       "    <tr style=\"text-align: right;\">\n",
       "      <th>B</th>\n",
       "      <th>4</th>\n",
       "      <th>5</th>\n",
       "      <th>6</th>\n",
       "    </tr>\n",
       "    <tr>\n",
       "      <th>A</th>\n",
       "      <th></th>\n",
       "      <th></th>\n",
       "      <th></th>\n",
       "    </tr>\n",
       "  </thead>\n",
       "  <tbody>\n",
       "    <tr>\n",
       "      <th>1</th>\n",
       "      <td>1</td>\n",
       "      <td>0</td>\n",
       "      <td>0</td>\n",
       "    </tr>\n",
       "    <tr>\n",
       "      <th>2</th>\n",
       "      <td>0</td>\n",
       "      <td>1</td>\n",
       "      <td>0</td>\n",
       "    </tr>\n",
       "    <tr>\n",
       "      <th>3</th>\n",
       "      <td>0</td>\n",
       "      <td>0</td>\n",
       "      <td>1</td>\n",
       "    </tr>\n",
       "  </tbody>\n",
       "</table>\n",
       "</div>"
      ],
      "text/plain": [
       "B  4  5  6\n",
       "A         \n",
       "1  1  0  0\n",
       "2  0  1  0\n",
       "3  0  0  1"
      ]
     },
     "execution_count": 8,
     "metadata": {},
     "output_type": "execute_result"
    }
   ],
   "source": [
    "pd.crosstab(df['A'], df['B'])"
   ]
  },
  {
   "cell_type": "markdown",
   "id": "eaa12306",
   "metadata": {},
   "source": [
    "**Advanced Data Manipulation** <br>\n",
    "**Working with Dates and Times:** <br>\n",
    "• Parsing dates:"
   ]
  },
  {
   "cell_type": "code",
   "execution_count": 10,
   "id": "c966afd8",
   "metadata": {},
   "outputs": [
    {
     "name": "stdout",
     "output_type": "stream",
     "text": [
      "Columns in the DataFrame: Index(['date', 'value'], dtype='object')\n",
      "        date  value\n",
      "0 2024-07-01     10\n",
      "1 2024-07-02     20\n",
      "2 2024-07-03     30\n"
     ]
    }
   ],
   "source": [
    "import pandas as pd\n",
    "\n",
    "# Create a sample DataFrame with a 'date' column\n",
    "data = {'date': ['2024-07-01', '2024-07-02', '2024-07-03'], 'value': [10, 20, 30]}\n",
    "df = pd.DataFrame(data)\n",
    "\n",
    "# Print the DataFrame columns to confirm 'date' exists\n",
    "print(\"Columns in the DataFrame:\", df.columns)\n",
    "\n",
    "# Convert 'date' column to datetime\n",
    "df['date'] = pd.to_datetime(df['date'])\n",
    "\n",
    "print(df)"
   ]
  },
  {
   "cell_type": "markdown",
   "id": "ec377a3f",
   "metadata": {},
   "source": [
    "• Extracting components:"
   ]
  },
  {
   "cell_type": "code",
   "execution_count": 11,
   "id": "470bccd8",
   "metadata": {},
   "outputs": [],
   "source": [
    "df['year'] = df['date'].dt.year\n",
    "df['month'] = df['date'].dt.month\n",
    "df['day'] = df['date'].dt.day"
   ]
  },
  {
   "cell_type": "markdown",
   "id": "e01f0ebb",
   "metadata": {},
   "source": [
    "**Handling Categorical Data:** <br>\n",
    "• Converting to categorical data type:"
   ]
  },
  {
   "cell_type": "code",
   "execution_count": 15,
   "id": "81bfff6f",
   "metadata": {},
   "outputs": [
    {
     "name": "stdout",
     "output_type": "stream",
     "text": [
      "Columns in the DataFrame: Index(['category', 'value'], dtype='object')\n",
      "  category  value\n",
      "0        A     10\n",
      "1        B     20\n",
      "2        A     30\n",
      "3        C     40\n",
      "category    category\n",
      "value          int64\n",
      "dtype: object\n"
     ]
    }
   ],
   "source": [
    "import pandas as pd\n",
    "\n",
    "# Create a sample DataFrame with a 'category' column\n",
    "data = {'category': ['A', 'B', 'A', 'C'], 'value': [10, 20, 30, 40]}\n",
    "df = pd.DataFrame(data)\n",
    "\n",
    "# Print the DataFrame columns to confirm 'category' exists\n",
    "print(\"Columns in the DataFrame:\", df.columns)\n",
    "\n",
    "# Convert 'category' column to categorical data type\n",
    "df['category'] = df['category'].astype('category')\n",
    "\n",
    "print(df)\n",
    "print(df.dtypes)\n",
    "\n",
    "#df['category'] = df['category'].astype('category')"
   ]
  },
  {
   "cell_type": "markdown",
   "id": "41bc17e2",
   "metadata": {},
   "source": [
    "• Working with categorical data:"
   ]
  },
  {
   "cell_type": "code",
   "execution_count": 16,
   "id": "0ee14f8a",
   "metadata": {},
   "outputs": [
    {
     "data": {
      "text/plain": [
       "0    0\n",
       "1    1\n",
       "2    0\n",
       "3    2\n",
       "dtype: int8"
      ]
     },
     "execution_count": 16,
     "metadata": {},
     "output_type": "execute_result"
    }
   ],
   "source": [
    "df['category'].cat.categories\n",
    "df['category'].cat.codes"
   ]
  },
  {
   "cell_type": "markdown",
   "id": "6a29f70a",
   "metadata": {},
   "source": [
    "**Applying Functions to Data:** <br>\n",
    "• Using apply, map, and applymap:"
   ]
  },
  {
   "cell_type": "code",
   "execution_count": 18,
   "id": "0faa9150",
   "metadata": {},
   "outputs": [],
   "source": [
    "import pandas as pd\n",
    "\n",
    "data = {'A': [1, 2, 3], 'B': [4, 5, 6]}\n",
    "df = pd.DataFrame(data)\n",
    "\n",
    "df['A'] = df['A'].apply(lambda x: x + 1)\n",
    "df['A'] = df['A'].map({1: 'One', 2: 'Two'})\n",
    "df[['A', 'B']] = df[['A', 'B']].applymap(lambda x: x * 2)"
   ]
  },
  {
   "cell_type": "markdown",
   "id": "781cbd1f",
   "metadata": {},
   "source": [
    "An example demonstrating some basic functionalities of Pandas:"
   ]
  },
  {
   "cell_type": "code",
   "execution_count": 14,
   "id": "a67d082e",
   "metadata": {},
   "outputs": [
    {
     "name": "stdout",
     "output_type": "stream",
     "text": [
      "DataFrame:\n",
      "       Name  Age  Salary\n",
      "0    Alice   24   50000\n",
      "1      Bob   27   60000\n",
      "2  Charlie   22   55000\n",
      "3    David   32   45000\n",
      "\n",
      "Ages:\n",
      " 0    24\n",
      "1    27\n",
      "2    22\n",
      "3    32\n",
      "Name: Age, dtype: int64\n",
      "\n",
      "High Salary:\n",
      "       Name  Age  Salary\n",
      "1      Bob   27   60000\n",
      "2  Charlie   22   55000\n",
      "\n",
      "DataFrame with new column:\n",
      "       Name  Age  Salary  Salary in K\n",
      "0    Alice   24   50000         50.0\n",
      "1      Bob   27   60000         60.0\n",
      "2  Charlie   22   55000         55.0\n",
      "3    David   32   45000         45.0\n",
      "\n",
      "Grouped by Age:\n",
      "       Salary  Salary in K\n",
      "Age                      \n",
      "22   55000.0         55.0\n",
      "24   50000.0         50.0\n",
      "27   60000.0         60.0\n",
      "32   45000.0         45.0\n"
     ]
    }
   ],
   "source": [
    "import pandas as pd\n",
    "\n",
    "# Creating a DataFrame\n",
    "data = {\n",
    "    'Name': ['Alice', 'Bob', 'Charlie', 'David'],\n",
    "    'Age': [24, 27, 22, 32],\n",
    "    'Salary': [50000, 60000, 55000, 45000]\n",
    "}\n",
    "df = pd.DataFrame(data)\n",
    "\n",
    "# Displaying the DataFrame\n",
    "print(\"DataFrame:\\n\", df)\n",
    "\n",
    "# Selecting a column\n",
    "ages = df['Age']\n",
    "print(\"\\nAges:\\n\", ages)\n",
    "\n",
    "# Filtering rows\n",
    "high_salary = df[df['Salary'] > 50000]\n",
    "print(\"\\nHigh Salary:\\n\", high_salary)\n",
    "\n",
    "# Adding a new column\n",
    "df['Salary in K'] = df['Salary'] / 1000\n",
    "print(\"\\nDataFrame with new column:\\n\", df)\n",
    "\n",
    "# Grouping and aggregating data\n",
    "# Group by Age and calculate the mean of Salary and Salary in K\n",
    "age_groups = df.groupby('Age')[['Salary', 'Salary in K']].mean()\n",
    "print(\"\\nGrouped by Age:\\n\", age_groups)"
   ]
  }
 ],
 "metadata": {
  "kernelspec": {
   "display_name": "Python 3 (ipykernel)",
   "language": "python",
   "name": "python3"
  },
  "language_info": {
   "codemirror_mode": {
    "name": "ipython",
    "version": 3
   },
   "file_extension": ".py",
   "mimetype": "text/x-python",
   "name": "python",
   "nbconvert_exporter": "python",
   "pygments_lexer": "ipython3",
   "version": "3.11.5"
  }
 },
 "nbformat": 4,
 "nbformat_minor": 5
}
