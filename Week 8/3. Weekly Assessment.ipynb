{
 "cells": [
  {
   "cell_type": "markdown",
   "id": "690cc781",
   "metadata": {},
   "source": [
    "<img src=\"LaeCodes.png\" \n",
    "     align=\"center\" \n",
    "     width=\"100\" />"
   ]
  },
  {
   "cell_type": "markdown",
   "id": "1c3b51a5",
   "metadata": {},
   "source": [
    "# Weekly Assessment:"
   ]
  },
  {
   "cell_type": "markdown",
   "id": "fec769c9",
   "metadata": {},
   "source": [
    "1. What is a class in Python?\n",
    "2. How do you define a class in Python?\n",
    "3. What are attributes and methods in a class?\n",
    "4. How do you create an object of a class in Python?\n",
    "5. What is the self parameter in Python class methods?\n",
    "6. How do you define a constructor in a Python class?\n",
    "7. What is the purpose of the __init__ method?\n",
    "8. How do you access attributes and methods of a class object in Python?\n",
    "9. What is inheritance in Python classes?"
   ]
  }
 ],
 "metadata": {
  "kernelspec": {
   "display_name": "Python 3 (ipykernel)",
   "language": "python",
   "name": "python3"
  },
  "language_info": {
   "codemirror_mode": {
    "name": "ipython",
    "version": 3
   },
   "file_extension": ".py",
   "mimetype": "text/x-python",
   "name": "python",
   "nbconvert_exporter": "python",
   "pygments_lexer": "ipython3",
   "version": "3.11.5"
  }
 },
 "nbformat": 4,
 "nbformat_minor": 5
}
